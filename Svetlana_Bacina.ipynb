{
 "cells": [
  {
   "cell_type": "code",
   "execution_count": 218,
   "id": "0046fc9d",
   "metadata": {},
   "outputs": [],
   "source": [
    "#učitavanje biblioteka koje su potrebne za rad\n",
    "import pandas as pd\n",
    "import numpy as np\n",
    "import matplotlib.pyplot as plt\n",
    "import seaborn as sns\n",
    "from sklearn.linear_model import LinearRegression, Ridge, Lasso\n",
    "from sklearn.neighbors import KNeighborsClassifier\n",
    "from sklearn.preprocessing import StandardScaler, PolynomialFeatures\n",
    "from sklearn.metrics import mean_squared_error, mean_absolute_error, r2_score\n",
    "from sklearn.model_selection import train_test_split\n",
    "from scipy import stats\n",
    "from scipy.stats import norm\n",
    "from statistics import mean, stdev\n",
    "from sklearn import preprocessing\n",
    "from sklearn.model_selection import StratifiedKFold\n",
    "from sklearn import linear_model\n",
    "from sklearn.metrics import confusion_matrix, accuracy_score, precision_score, recall_score, f1_score\n",
    "from sklearn import datasets\n"
   ]
  },
  {
   "cell_type": "code",
   "execution_count": 219,
   "id": "ba03257b",
   "metadata": {},
   "outputs": [
    {
     "name": "stdout",
     "output_type": "stream",
     "text": [
      "          No  year  month  day  hour  season  PM_Jingan  PM_US Post  PM_Xuhui  \\\n",
      "0          1  2010      1    1     0       4        NaN         NaN       NaN   \n",
      "1          2  2010      1    1     1       4        NaN         NaN       NaN   \n",
      "2          3  2010      1    1     2       4        NaN         NaN       NaN   \n",
      "3          4  2010      1    1     3       4        NaN         NaN       NaN   \n",
      "4          5  2010      1    1     4       4        NaN         NaN       NaN   \n",
      "...      ...   ...    ...  ...   ...     ...        ...         ...       ...   \n",
      "52579  52580  2015     12   31    19       4      86.00       82.00     90.00   \n",
      "52580  52581  2015     12   31    20       4      83.00       93.00     86.00   \n",
      "52581  52582  2015     12   31    21       4      85.00       90.00     95.00   \n",
      "52582  52583  2015     12   31    22       4      83.00       86.00     92.00   \n",
      "52583  52584  2015     12   31    23       4        NaN       77.00       NaN   \n",
      "\n",
      "       DEWP  HUMI    PRES  TEMP cbwd   Iws  precipitation  Iprec  \n",
      "0     -6.00 59.48 1026.10  1.00   cv  1.00           0.00   0.00  \n",
      "1     -6.00 59.48 1025.10  1.00   SE  2.00           0.00   0.00  \n",
      "2     -7.00 59.21 1025.10  0.00   SE  4.00           0.00   0.00  \n",
      "3     -6.00 63.94 1024.00  0.00   SE  5.00           0.00   0.00  \n",
      "4     -6.00 63.94 1023.00  0.00   SE  8.00           0.00   0.00  \n",
      "...     ...   ...     ...   ...  ...   ...            ...    ...  \n",
      "52579 -1.00 65.13 1035.00  5.00   NE 15.00           0.00   0.00  \n",
      "52580  1.00 70.27 1035.00  6.00   NE 19.00           0.00   0.00  \n",
      "52581  1.00 70.27 1036.00  6.00   NE 22.00           0.00   0.00  \n",
      "52582  0.00 70.06 1035.00  5.00   NE 25.00           0.00   0.00  \n",
      "52583  0.00 70.06 1035.00  5.00   NE 27.00           0.00   0.00  \n",
      "\n",
      "[52584 rows x 17 columns]\n"
     ]
    }
   ],
   "source": [
    "pd.set_option('display.float_format', lambda x: '%.2f' % x) # prikaz df na 2 decimale (npr. za describe)\n",
    "#ucitavanje baze podataka i pregled izgleda \n",
    "dataframe = pd.read_csv('ShanghaiPM20100101_20151231.csv')\n",
    "print(dataframe)"
   ]
  },
  {
   "cell_type": "code",
   "execution_count": 220,
   "id": "1f1a8a03",
   "metadata": {
    "scrolled": true
   },
   "outputs": [
    {
     "name": "stdout",
     "output_type": "stream",
     "text": [
      "(52584, 17)\n"
     ]
    }
   ],
   "source": [
    "print(dataframe.shape) #ovde vidimo da imamo 17 obelezja (kolona)  i 52584 uzoraka)"
   ]
  },
  {
   "cell_type": "code",
   "execution_count": 221,
   "id": "25a7a10e",
   "metadata": {},
   "outputs": [
    {
     "name": "stdout",
     "output_type": "stream",
     "text": [
      "1556193633.8\n"
     ]
    },
    {
     "name": "stderr",
     "output_type": "stream",
     "text": [
      "C:\\Users\\Svetlana\\AppData\\Local\\Temp\\ipykernel_12060\\1551544362.py:1: FutureWarning: Dropping of nuisance columns in DataFrame reductions (with 'numeric_only=None') is deprecated; in a future version this will raise TypeError.  Select only valid columns before calling the reduction.\n",
      "  print(dataframe.sum().sum()) #broj podataka\n"
     ]
    }
   ],
   "source": [
    "print(dataframe.sum().sum()) #broj podataka"
   ]
  },
  {
   "cell_type": "code",
   "execution_count": 222,
   "id": "09f89c42",
   "metadata": {},
   "outputs": [
    {
     "name": "stdout",
     "output_type": "stream",
     "text": [
      "<class 'pandas.core.frame.DataFrame'>\n",
      "RangeIndex: 52584 entries, 0 to 52583\n",
      "Data columns (total 17 columns):\n",
      " #   Column         Non-Null Count  Dtype  \n",
      "---  ------         --------------  -----  \n",
      " 0   No             52584 non-null  int64  \n",
      " 1   year           52584 non-null  int64  \n",
      " 2   month          52584 non-null  int64  \n",
      " 3   day            52584 non-null  int64  \n",
      " 4   hour           52584 non-null  int64  \n",
      " 5   season         52584 non-null  int64  \n",
      " 6   PM_Jingan      24700 non-null  float64\n",
      " 7   PM_US Post     34039 non-null  float64\n",
      " 8   PM_Xuhui       25189 non-null  float64\n",
      " 9   DEWP           52571 non-null  float64\n",
      " 10  HUMI           52571 non-null  float64\n",
      " 11  PRES           52556 non-null  float64\n",
      " 12  TEMP           52571 non-null  float64\n",
      " 13  cbwd           52572 non-null  object \n",
      " 14  Iws            52572 non-null  float64\n",
      " 15  precipitation  48575 non-null  float64\n",
      " 16  Iprec          48575 non-null  float64\n",
      "dtypes: float64(10), int64(6), object(1)\n",
      "memory usage: 6.8+ MB\n",
      "None\n"
     ]
    }
   ],
   "source": [
    "print(dataframe.info()) #Broj obeležja bi trebalo da je 17"
   ]
  },
  {
   "cell_type": "code",
   "execution_count": 223,
   "id": "3049f856",
   "metadata": {},
   "outputs": [
    {
     "data": {
      "text/html": [
       "<div>\n",
       "<style scoped>\n",
       "    .dataframe tbody tr th:only-of-type {\n",
       "        vertical-align: middle;\n",
       "    }\n",
       "\n",
       "    .dataframe tbody tr th {\n",
       "        vertical-align: top;\n",
       "    }\n",
       "\n",
       "    .dataframe thead th {\n",
       "        text-align: right;\n",
       "    }\n",
       "</style>\n",
       "<table border=\"1\" class=\"dataframe\">\n",
       "  <thead>\n",
       "    <tr style=\"text-align: right;\">\n",
       "      <th></th>\n",
       "      <th>No</th>\n",
       "      <th>year</th>\n",
       "      <th>month</th>\n",
       "      <th>day</th>\n",
       "      <th>hour</th>\n",
       "      <th>season</th>\n",
       "      <th>PM_Jingan</th>\n",
       "      <th>PM_US Post</th>\n",
       "      <th>PM_Xuhui</th>\n",
       "      <th>DEWP</th>\n",
       "      <th>HUMI</th>\n",
       "      <th>PRES</th>\n",
       "      <th>TEMP</th>\n",
       "      <th>cbwd</th>\n",
       "      <th>Iws</th>\n",
       "      <th>precipitation</th>\n",
       "      <th>Iprec</th>\n",
       "    </tr>\n",
       "  </thead>\n",
       "  <tbody>\n",
       "    <tr>\n",
       "      <th>0</th>\n",
       "      <td>1</td>\n",
       "      <td>2010</td>\n",
       "      <td>1</td>\n",
       "      <td>1</td>\n",
       "      <td>0</td>\n",
       "      <td>4</td>\n",
       "      <td>NaN</td>\n",
       "      <td>NaN</td>\n",
       "      <td>NaN</td>\n",
       "      <td>-6.00</td>\n",
       "      <td>59.48</td>\n",
       "      <td>1026.10</td>\n",
       "      <td>1.00</td>\n",
       "      <td>cv</td>\n",
       "      <td>1.00</td>\n",
       "      <td>0.00</td>\n",
       "      <td>0.00</td>\n",
       "    </tr>\n",
       "    <tr>\n",
       "      <th>1</th>\n",
       "      <td>2</td>\n",
       "      <td>2010</td>\n",
       "      <td>1</td>\n",
       "      <td>1</td>\n",
       "      <td>1</td>\n",
       "      <td>4</td>\n",
       "      <td>NaN</td>\n",
       "      <td>NaN</td>\n",
       "      <td>NaN</td>\n",
       "      <td>-6.00</td>\n",
       "      <td>59.48</td>\n",
       "      <td>1025.10</td>\n",
       "      <td>1.00</td>\n",
       "      <td>SE</td>\n",
       "      <td>2.00</td>\n",
       "      <td>0.00</td>\n",
       "      <td>0.00</td>\n",
       "    </tr>\n",
       "    <tr>\n",
       "      <th>2</th>\n",
       "      <td>3</td>\n",
       "      <td>2010</td>\n",
       "      <td>1</td>\n",
       "      <td>1</td>\n",
       "      <td>2</td>\n",
       "      <td>4</td>\n",
       "      <td>NaN</td>\n",
       "      <td>NaN</td>\n",
       "      <td>NaN</td>\n",
       "      <td>-7.00</td>\n",
       "      <td>59.21</td>\n",
       "      <td>1025.10</td>\n",
       "      <td>0.00</td>\n",
       "      <td>SE</td>\n",
       "      <td>4.00</td>\n",
       "      <td>0.00</td>\n",
       "      <td>0.00</td>\n",
       "    </tr>\n",
       "    <tr>\n",
       "      <th>3</th>\n",
       "      <td>4</td>\n",
       "      <td>2010</td>\n",
       "      <td>1</td>\n",
       "      <td>1</td>\n",
       "      <td>3</td>\n",
       "      <td>4</td>\n",
       "      <td>NaN</td>\n",
       "      <td>NaN</td>\n",
       "      <td>NaN</td>\n",
       "      <td>-6.00</td>\n",
       "      <td>63.94</td>\n",
       "      <td>1024.00</td>\n",
       "      <td>0.00</td>\n",
       "      <td>SE</td>\n",
       "      <td>5.00</td>\n",
       "      <td>0.00</td>\n",
       "      <td>0.00</td>\n",
       "    </tr>\n",
       "    <tr>\n",
       "      <th>4</th>\n",
       "      <td>5</td>\n",
       "      <td>2010</td>\n",
       "      <td>1</td>\n",
       "      <td>1</td>\n",
       "      <td>4</td>\n",
       "      <td>4</td>\n",
       "      <td>NaN</td>\n",
       "      <td>NaN</td>\n",
       "      <td>NaN</td>\n",
       "      <td>-6.00</td>\n",
       "      <td>63.94</td>\n",
       "      <td>1023.00</td>\n",
       "      <td>0.00</td>\n",
       "      <td>SE</td>\n",
       "      <td>8.00</td>\n",
       "      <td>0.00</td>\n",
       "      <td>0.00</td>\n",
       "    </tr>\n",
       "  </tbody>\n",
       "</table>\n",
       "</div>"
      ],
      "text/plain": [
       "   No  year  month  day  hour  season  PM_Jingan  PM_US Post  PM_Xuhui  DEWP  \\\n",
       "0   1  2010      1    1     0       4        NaN         NaN       NaN -6.00   \n",
       "1   2  2010      1    1     1       4        NaN         NaN       NaN -6.00   \n",
       "2   3  2010      1    1     2       4        NaN         NaN       NaN -7.00   \n",
       "3   4  2010      1    1     3       4        NaN         NaN       NaN -6.00   \n",
       "4   5  2010      1    1     4       4        NaN         NaN       NaN -6.00   \n",
       "\n",
       "   HUMI    PRES  TEMP cbwd  Iws  precipitation  Iprec  \n",
       "0 59.48 1026.10  1.00   cv 1.00           0.00   0.00  \n",
       "1 59.48 1025.10  1.00   SE 2.00           0.00   0.00  \n",
       "2 59.21 1025.10  0.00   SE 4.00           0.00   0.00  \n",
       "3 63.94 1024.00  0.00   SE 5.00           0.00   0.00  \n",
       "4 63.94 1023.00  0.00   SE 8.00           0.00   0.00  "
      ]
     },
     "execution_count": 223,
     "metadata": {},
     "output_type": "execute_result"
    }
   ],
   "source": [
    "dataframe.head() #prikaz prvih 5 uzoraka"
   ]
  },
  {
   "cell_type": "code",
   "execution_count": 224,
   "id": "83953630",
   "metadata": {
    "scrolled": true
   },
   "outputs": [
    {
     "data": {
      "text/plain": [
       "No                 int64\n",
       "year               int64\n",
       "month              int64\n",
       "day                int64\n",
       "hour               int64\n",
       "season             int64\n",
       "PM_Jingan        float64\n",
       "PM_US Post       float64\n",
       "PM_Xuhui         float64\n",
       "DEWP             float64\n",
       "HUMI             float64\n",
       "PRES             float64\n",
       "TEMP             float64\n",
       "cbwd              object\n",
       "Iws              float64\n",
       "precipitation    float64\n",
       "Iprec            float64\n",
       "dtype: object"
      ]
     },
     "execution_count": 224,
     "metadata": {},
     "output_type": "execute_result"
    }
   ],
   "source": [
    "dataframe.dtypes"
   ]
  },
  {
   "cell_type": "code",
   "execution_count": 225,
   "id": "132c5751",
   "metadata": {},
   "outputs": [
    {
     "name": "stdout",
     "output_type": "stream",
     "text": [
      "Broj numerickih obelezja:  16\n",
      "Broj kategorickih obelezja:  1\n"
     ]
    }
   ],
   "source": [
    "#PRebrojavamo koliko obelezja imamo numerickog, a koliko kategorickog tipa\n",
    "\n",
    "numericka_obelezja = dataframe.dtypes[dataframe.dtypes != \"object\"].index\n",
    "print(\"Broj numerickih obelezja: \", len(numericka_obelezja))\n",
    "\n",
    "kategoricka_obelezja = dataframe.dtypes[dataframe.dtypes == \"object\"].index\n",
    "print(\"Broj kategorickih obelezja: \", len(kategoricka_obelezja))"
   ]
  },
  {
   "cell_type": "code",
   "execution_count": 226,
   "id": "8a5fb904",
   "metadata": {
    "scrolled": true
   },
   "outputs": [
    {
     "name": "stdout",
     "output_type": "stream",
     "text": [
      "               Total  Percent\n",
      "PM_Jingan      27884    53.03\n",
      "PM_Xuhui       27395    52.10\n",
      "PM_US Post     18545    35.27\n",
      "precipitation   4009     7.62\n",
      "Iprec           4009     7.62\n",
      "PRES              28     0.05\n",
      "DEWP              13     0.02\n",
      "HUMI              13     0.02\n",
      "TEMP              13     0.02\n",
      "cbwd              12     0.02\n",
      "Iws               12     0.02\n",
      "season             0     0.00\n",
      "hour               0     0.00\n",
      "day                0     0.00\n",
      "year               0     0.00\n",
      "month              0     0.00\n",
      "No                 0     0.00\n"
     ]
    }
   ],
   "source": [
    "\n",
    "# Proveravamo koliko imamo nedostajucih obelezja i koji procenat to cini\n",
    "total = dataframe.isnull().sum().sort_values(ascending=False)\n",
    "percent = (dataframe.isnull().sum()/len(dataframe)).sort_values(ascending=False)*100\n",
    "missing_data = pd.concat([total, percent], axis=1, keys=['Total', 'Percent'])\n",
    "print(missing_data)\n"
   ]
  },
  {
   "cell_type": "code",
   "execution_count": 227,
   "id": "12ecc161",
   "metadata": {},
   "outputs": [
    {
     "data": {
      "text/html": [
       "<div>\n",
       "<style scoped>\n",
       "    .dataframe tbody tr th:only-of-type {\n",
       "        vertical-align: middle;\n",
       "    }\n",
       "\n",
       "    .dataframe tbody tr th {\n",
       "        vertical-align: top;\n",
       "    }\n",
       "\n",
       "    .dataframe thead th {\n",
       "        text-align: right;\n",
       "    }\n",
       "</style>\n",
       "<table border=\"1\" class=\"dataframe\">\n",
       "  <thead>\n",
       "    <tr style=\"text-align: right;\">\n",
       "      <th></th>\n",
       "      <th>No</th>\n",
       "      <th>year</th>\n",
       "      <th>month</th>\n",
       "      <th>day</th>\n",
       "      <th>hour</th>\n",
       "      <th>season</th>\n",
       "      <th>PM_US Post</th>\n",
       "      <th>DEWP</th>\n",
       "      <th>HUMI</th>\n",
       "      <th>PRES</th>\n",
       "      <th>TEMP</th>\n",
       "      <th>cbwd</th>\n",
       "      <th>Iws</th>\n",
       "      <th>precipitation</th>\n",
       "      <th>Iprec</th>\n",
       "    </tr>\n",
       "  </thead>\n",
       "  <tbody>\n",
       "    <tr>\n",
       "      <th>0</th>\n",
       "      <td>1</td>\n",
       "      <td>2010</td>\n",
       "      <td>1</td>\n",
       "      <td>1</td>\n",
       "      <td>0</td>\n",
       "      <td>4</td>\n",
       "      <td>NaN</td>\n",
       "      <td>-6.00</td>\n",
       "      <td>59.48</td>\n",
       "      <td>1026.10</td>\n",
       "      <td>1.00</td>\n",
       "      <td>cv</td>\n",
       "      <td>1.00</td>\n",
       "      <td>0.00</td>\n",
       "      <td>0.00</td>\n",
       "    </tr>\n",
       "    <tr>\n",
       "      <th>1</th>\n",
       "      <td>2</td>\n",
       "      <td>2010</td>\n",
       "      <td>1</td>\n",
       "      <td>1</td>\n",
       "      <td>1</td>\n",
       "      <td>4</td>\n",
       "      <td>NaN</td>\n",
       "      <td>-6.00</td>\n",
       "      <td>59.48</td>\n",
       "      <td>1025.10</td>\n",
       "      <td>1.00</td>\n",
       "      <td>SE</td>\n",
       "      <td>2.00</td>\n",
       "      <td>0.00</td>\n",
       "      <td>0.00</td>\n",
       "    </tr>\n",
       "    <tr>\n",
       "      <th>2</th>\n",
       "      <td>3</td>\n",
       "      <td>2010</td>\n",
       "      <td>1</td>\n",
       "      <td>1</td>\n",
       "      <td>2</td>\n",
       "      <td>4</td>\n",
       "      <td>NaN</td>\n",
       "      <td>-7.00</td>\n",
       "      <td>59.21</td>\n",
       "      <td>1025.10</td>\n",
       "      <td>0.00</td>\n",
       "      <td>SE</td>\n",
       "      <td>4.00</td>\n",
       "      <td>0.00</td>\n",
       "      <td>0.00</td>\n",
       "    </tr>\n",
       "    <tr>\n",
       "      <th>3</th>\n",
       "      <td>4</td>\n",
       "      <td>2010</td>\n",
       "      <td>1</td>\n",
       "      <td>1</td>\n",
       "      <td>3</td>\n",
       "      <td>4</td>\n",
       "      <td>NaN</td>\n",
       "      <td>-6.00</td>\n",
       "      <td>63.94</td>\n",
       "      <td>1024.00</td>\n",
       "      <td>0.00</td>\n",
       "      <td>SE</td>\n",
       "      <td>5.00</td>\n",
       "      <td>0.00</td>\n",
       "      <td>0.00</td>\n",
       "    </tr>\n",
       "    <tr>\n",
       "      <th>4</th>\n",
       "      <td>5</td>\n",
       "      <td>2010</td>\n",
       "      <td>1</td>\n",
       "      <td>1</td>\n",
       "      <td>4</td>\n",
       "      <td>4</td>\n",
       "      <td>NaN</td>\n",
       "      <td>-6.00</td>\n",
       "      <td>63.94</td>\n",
       "      <td>1023.00</td>\n",
       "      <td>0.00</td>\n",
       "      <td>SE</td>\n",
       "      <td>8.00</td>\n",
       "      <td>0.00</td>\n",
       "      <td>0.00</td>\n",
       "    </tr>\n",
       "  </tbody>\n",
       "</table>\n",
       "</div>"
      ],
      "text/plain": [
       "   No  year  month  day  hour  season  PM_US Post  DEWP  HUMI    PRES  TEMP  \\\n",
       "0   1  2010      1    1     0       4         NaN -6.00 59.48 1026.10  1.00   \n",
       "1   2  2010      1    1     1       4         NaN -6.00 59.48 1025.10  1.00   \n",
       "2   3  2010      1    1     2       4         NaN -7.00 59.21 1025.10  0.00   \n",
       "3   4  2010      1    1     3       4         NaN -6.00 63.94 1024.00  0.00   \n",
       "4   5  2010      1    1     4       4         NaN -6.00 63.94 1023.00  0.00   \n",
       "\n",
       "  cbwd  Iws  precipitation  Iprec  \n",
       "0   cv 1.00           0.00   0.00  \n",
       "1   SE 2.00           0.00   0.00  \n",
       "2   SE 4.00           0.00   0.00  \n",
       "3   SE 5.00           0.00   0.00  \n",
       "4   SE 8.00           0.00   0.00  "
      ]
     },
     "execution_count": 227,
     "metadata": {},
     "output_type": "execute_result"
    }
   ],
   "source": [
    "#Po uslovu zadatka izbacujem navedena dva obelezja i revidiranu bazu cuvam pod nazivom Sangaj\n",
    "dataframe.drop(['PM_Jingan','PM_Xuhui'], inplace=True,axis=1)\n",
    "dataframe.to_csv('Sangaj.csv', index=False)\n",
    "df = pd.read_csv('Sangaj.csv')\n",
    "df.head()"
   ]
  },
  {
   "cell_type": "code",
   "execution_count": null,
   "id": "9f63fabe",
   "metadata": {},
   "outputs": [],
   "source": []
  },
  {
   "cell_type": "code",
   "execution_count": 228,
   "id": "7b6a4543",
   "metadata": {
    "scrolled": true
   },
   "outputs": [
    {
     "name": "stdout",
     "output_type": "stream",
     "text": [
      "(31880, 15)\n"
     ]
    },
    {
     "data": {
      "text/html": [
       "<div>\n",
       "<style scoped>\n",
       "    .dataframe tbody tr th:only-of-type {\n",
       "        vertical-align: middle;\n",
       "    }\n",
       "\n",
       "    .dataframe tbody tr th {\n",
       "        vertical-align: top;\n",
       "    }\n",
       "\n",
       "    .dataframe thead th {\n",
       "        text-align: right;\n",
       "    }\n",
       "</style>\n",
       "<table border=\"1\" class=\"dataframe\">\n",
       "  <thead>\n",
       "    <tr style=\"text-align: right;\">\n",
       "      <th></th>\n",
       "      <th>No</th>\n",
       "      <th>year</th>\n",
       "      <th>month</th>\n",
       "      <th>day</th>\n",
       "      <th>hour</th>\n",
       "      <th>season</th>\n",
       "      <th>PM_US Post</th>\n",
       "      <th>DEWP</th>\n",
       "      <th>HUMI</th>\n",
       "      <th>PRES</th>\n",
       "      <th>TEMP</th>\n",
       "      <th>cbwd</th>\n",
       "      <th>Iws</th>\n",
       "      <th>precipitation</th>\n",
       "      <th>Iprec</th>\n",
       "    </tr>\n",
       "  </thead>\n",
       "  <tbody>\n",
       "    <tr>\n",
       "      <th>17442</th>\n",
       "      <td>17443</td>\n",
       "      <td>2011</td>\n",
       "      <td>12</td>\n",
       "      <td>28</td>\n",
       "      <td>18</td>\n",
       "      <td>4</td>\n",
       "      <td>36.00</td>\n",
       "      <td>4.00</td>\n",
       "      <td>62.00</td>\n",
       "      <td>1027.10</td>\n",
       "      <td>11.00</td>\n",
       "      <td>NE</td>\n",
       "      <td>8.00</td>\n",
       "      <td>0.00</td>\n",
       "      <td>0.00</td>\n",
       "    </tr>\n",
       "    <tr>\n",
       "      <th>17443</th>\n",
       "      <td>17444</td>\n",
       "      <td>2011</td>\n",
       "      <td>12</td>\n",
       "      <td>28</td>\n",
       "      <td>19</td>\n",
       "      <td>4</td>\n",
       "      <td>41.00</td>\n",
       "      <td>4.00</td>\n",
       "      <td>62.00</td>\n",
       "      <td>1027.10</td>\n",
       "      <td>11.00</td>\n",
       "      <td>NE</td>\n",
       "      <td>9.00</td>\n",
       "      <td>0.00</td>\n",
       "      <td>0.00</td>\n",
       "    </tr>\n",
       "    <tr>\n",
       "      <th>17444</th>\n",
       "      <td>17445</td>\n",
       "      <td>2011</td>\n",
       "      <td>12</td>\n",
       "      <td>28</td>\n",
       "      <td>20</td>\n",
       "      <td>4</td>\n",
       "      <td>44.00</td>\n",
       "      <td>5.00</td>\n",
       "      <td>71.07</td>\n",
       "      <td>1028.10</td>\n",
       "      <td>10.00</td>\n",
       "      <td>NE</td>\n",
       "      <td>11.00</td>\n",
       "      <td>0.00</td>\n",
       "      <td>0.00</td>\n",
       "    </tr>\n",
       "    <tr>\n",
       "      <th>17445</th>\n",
       "      <td>17446</td>\n",
       "      <td>2011</td>\n",
       "      <td>12</td>\n",
       "      <td>28</td>\n",
       "      <td>21</td>\n",
       "      <td>4</td>\n",
       "      <td>40.00</td>\n",
       "      <td>5.00</td>\n",
       "      <td>71.07</td>\n",
       "      <td>1028.10</td>\n",
       "      <td>10.00</td>\n",
       "      <td>NE</td>\n",
       "      <td>13.00</td>\n",
       "      <td>0.00</td>\n",
       "      <td>0.00</td>\n",
       "    </tr>\n",
       "    <tr>\n",
       "      <th>17446</th>\n",
       "      <td>17447</td>\n",
       "      <td>2011</td>\n",
       "      <td>12</td>\n",
       "      <td>28</td>\n",
       "      <td>22</td>\n",
       "      <td>4</td>\n",
       "      <td>25.00</td>\n",
       "      <td>6.00</td>\n",
       "      <td>76.18</td>\n",
       "      <td>1028.10</td>\n",
       "      <td>10.00</td>\n",
       "      <td>NE</td>\n",
       "      <td>15.00</td>\n",
       "      <td>0.00</td>\n",
       "      <td>0.00</td>\n",
       "    </tr>\n",
       "  </tbody>\n",
       "</table>\n",
       "</div>"
      ],
      "text/plain": [
       "          No  year  month  day  hour  season  PM_US Post  DEWP  HUMI    PRES  \\\n",
       "17442  17443  2011     12   28    18       4       36.00  4.00 62.00 1027.10   \n",
       "17443  17444  2011     12   28    19       4       41.00  4.00 62.00 1027.10   \n",
       "17444  17445  2011     12   28    20       4       44.00  5.00 71.07 1028.10   \n",
       "17445  17446  2011     12   28    21       4       40.00  5.00 71.07 1028.10   \n",
       "17446  17447  2011     12   28    22       4       25.00  6.00 76.18 1028.10   \n",
       "\n",
       "       TEMP cbwd   Iws  precipitation  Iprec  \n",
       "17442 11.00   NE  8.00           0.00   0.00  \n",
       "17443 11.00   NE  9.00           0.00   0.00  \n",
       "17444 10.00   NE 11.00           0.00   0.00  \n",
       "17445 10.00   NE 13.00           0.00   0.00  \n",
       "17446 10.00   NE 15.00           0.00   0.00  "
      ]
     },
     "execution_count": 228,
     "metadata": {},
     "output_type": "execute_result"
    }
   ],
   "source": [
    "#kako u sledećeim obeležjima nedostaje manje od 8 posto podataka, izbrisaću te uzorke\n",
    "df2 = df.dropna(axis = 0, inplace = False)\n",
    "print(df2.shape)\n",
    "df2.head()"
   ]
  },
  {
   "cell_type": "code",
   "execution_count": 229,
   "id": "95062ca0",
   "metadata": {},
   "outputs": [
    {
     "data": {
      "text/plain": [
       "array([ 0. ,  0.1,  0.3,  0.2,  0.5,  1. ,  2.5,  3.3,  2.1,  1.9,  0.8,\n",
       "        0.9,  0.6,  1.1,  1.3,  0.4,  1.2,  0.7,  1.5,  1.4,  4. ,  2.7,\n",
       "        2.2,  1.8,  2.6,  2.4,  3.5,  6.2,  1.6,  3.1,  5.3,  2.3,  2. ,\n",
       "        3.8,  1.7,  2.9,  4.1,  7.1,  9.9, 16.7,  6.5,  4.6,  4.2,  4.3,\n",
       "        9.6,  3.6,  3. ,  8.5,  7.5,  5.2, 23.5,  3.9,  5.9,  5.1, 41.1,\n",
       "        4.9,  4.8, 15.3, 10.8,  9.7,  2.8,  9.2,  4.4,  5. ,  5.6,  4.7,\n",
       "       13.5,  9.5, 20.1, 12.1, 24.1, 12.6,  5.8, 38.3, 20. ,  7. , 38.1,\n",
       "        7.9,  6.4,  3.4,  4.5,  3.7,  7.4,  5.7,  8.3,  6. , 10.5,  6.3,\n",
       "        7.6,  6.9, 17.5,  9.8,  6.1, 11.9,  8.1,  9.1, 20.9, 44.7,  8. ,\n",
       "       61.6, 11.1,  8.7, 15.7, 13.2,  8.8, 11.3, 14.6, 11.5, 17.4, 18.9,\n",
       "        3.2,  7.3,  8.2,  8.6,  6.6, 19.6, 27.8, 27.1,  9. , 10.1,  5.4,\n",
       "        5.5, 10.9, 16. , 10.6, 29.2, 10.4, 11.2, 12.8,  6.8, 20.3,  6.7,\n",
       "       18.5, 17.6,  8.4,  7.2,  7.8, 15.1, 19.2, 20.5, 24. ,  9.3, 16.3,\n",
       "       13.7, 17. , 23.1, 15.4, 14.9])"
      ]
     },
     "execution_count": 229,
     "metadata": {},
     "output_type": "execute_result"
    }
   ],
   "source": [
    "df2['precipitation'].unique() #proveravala sam da li su okje vrednosti jer mi\n",
    "#je bilo nelogicno da je mean 0.16, median 0, a max 61.6"
   ]
  },
  {
   "cell_type": "code",
   "execution_count": 230,
   "id": "cef8e50c",
   "metadata": {},
   "outputs": [
    {
     "data": {
      "text/plain": [
       "array(['NE', 'NW', 'cv', 'SE', 'SW'], dtype=object)"
      ]
     },
     "execution_count": 230,
     "metadata": {},
     "output_type": "execute_result"
    }
   ],
   "source": [
    "df2['cbwd'].unique()"
   ]
  },
  {
   "cell_type": "code",
   "execution_count": 231,
   "id": "86136db7",
   "metadata": {},
   "outputs": [],
   "source": [
    "#uviđamo da imamo 5 karakterističnih smerova vetra i nan vrednost\n",
    "#cv - mirno i bez vetra\n",
    "#kako bismo mogli vrsiti linearnu regresiju, moramo da kategoriske predstavimo numericki\n",
    "df2.loc[df2['cbwd']=='cv','cbwd']=1\n",
    "df2.loc[df2['cbwd']=='SW','cbwd']=2\n",
    "df2.loc[df2['cbwd']=='SE','cbwd']=3\n",
    "df2.loc[df2['cbwd']=='NW','cbwd']=4\n",
    "df2.loc[df2['cbwd']=='NE','cbwd']=5\n"
   ]
  },
  {
   "cell_type": "code",
   "execution_count": 232,
   "id": "a1b40d67",
   "metadata": {},
   "outputs": [
    {
     "name": "stdout",
     "output_type": "stream",
     "text": [
      "No               0\n",
      "year             0\n",
      "month            0\n",
      "day              0\n",
      "hour             0\n",
      "season           0\n",
      "PM_US Post       0\n",
      "DEWP             0\n",
      "HUMI             0\n",
      "PRES             0\n",
      "TEMP             0\n",
      "cbwd             0\n",
      "Iws              0\n",
      "precipitation    0\n",
      "Iprec            0\n",
      "dtype: int64\n"
     ]
    },
    {
     "name": "stderr",
     "output_type": "stream",
     "text": [
      "C:\\Users\\Svetlana\\AppData\\Local\\Temp\\ipykernel_12060\\3973796766.py:2: SettingWithCopyWarning: \n",
      "A value is trying to be set on a copy of a slice from a DataFrame\n",
      "\n",
      "See the caveats in the documentation: https://pandas.pydata.org/pandas-docs/stable/user_guide/indexing.html#returning-a-view-versus-a-copy\n",
      "  df2['PM_US Post'].fillna(method='ffill', inplace=True)\n"
     ]
    }
   ],
   "source": [
    "#Koristeci metodu forward filla, nedostajucim podacima dodeljujem vrednost od ranije \n",
    "df2['PM_US Post'].fillna(method='ffill', inplace=True)\n",
    "#proveravam nedostajuce podatke sada\n",
    "print(df2.isnull().sum())\n"
   ]
  },
  {
   "cell_type": "code",
   "execution_count": 233,
   "id": "7c4ec19a",
   "metadata": {},
   "outputs": [
    {
     "data": {
      "text/html": [
       "<div>\n",
       "<style scoped>\n",
       "    .dataframe tbody tr th:only-of-type {\n",
       "        vertical-align: middle;\n",
       "    }\n",
       "\n",
       "    .dataframe tbody tr th {\n",
       "        vertical-align: top;\n",
       "    }\n",
       "\n",
       "    .dataframe thead th {\n",
       "        text-align: right;\n",
       "    }\n",
       "</style>\n",
       "<table border=\"1\" class=\"dataframe\">\n",
       "  <thead>\n",
       "    <tr style=\"text-align: right;\">\n",
       "      <th></th>\n",
       "      <th>No</th>\n",
       "      <th>year</th>\n",
       "      <th>month</th>\n",
       "      <th>day</th>\n",
       "      <th>hour</th>\n",
       "      <th>season</th>\n",
       "      <th>PM_US Post</th>\n",
       "      <th>DEWP</th>\n",
       "      <th>HUMI</th>\n",
       "      <th>PRES</th>\n",
       "      <th>TEMP</th>\n",
       "      <th>Iws</th>\n",
       "      <th>precipitation</th>\n",
       "      <th>Iprec</th>\n",
       "    </tr>\n",
       "  </thead>\n",
       "  <tbody>\n",
       "    <tr>\n",
       "      <th>count</th>\n",
       "      <td>31880.00</td>\n",
       "      <td>31880.00</td>\n",
       "      <td>31880.00</td>\n",
       "      <td>31880.00</td>\n",
       "      <td>31880.00</td>\n",
       "      <td>31880.00</td>\n",
       "      <td>31880.00</td>\n",
       "      <td>31880.00</td>\n",
       "      <td>31880.00</td>\n",
       "      <td>31880.00</td>\n",
       "      <td>31880.00</td>\n",
       "      <td>31880.00</td>\n",
       "      <td>31880.00</td>\n",
       "      <td>31880.00</td>\n",
       "    </tr>\n",
       "    <tr>\n",
       "      <th>mean</th>\n",
       "      <td>34368.95</td>\n",
       "      <td>2013.43</td>\n",
       "      <td>6.42</td>\n",
       "      <td>15.75</td>\n",
       "      <td>11.58</td>\n",
       "      <td>2.51</td>\n",
       "      <td>53.41</td>\n",
       "      <td>11.02</td>\n",
       "      <td>69.43</td>\n",
       "      <td>1016.14</td>\n",
       "      <td>17.23</td>\n",
       "      <td>50.73</td>\n",
       "      <td>0.15</td>\n",
       "      <td>1.01</td>\n",
       "    </tr>\n",
       "    <tr>\n",
       "      <th>std</th>\n",
       "      <td>9878.74</td>\n",
       "      <td>1.11</td>\n",
       "      <td>3.50</td>\n",
       "      <td>8.80</td>\n",
       "      <td>6.88</td>\n",
       "      <td>1.14</td>\n",
       "      <td>43.06</td>\n",
       "      <td>9.69</td>\n",
       "      <td>17.78</td>\n",
       "      <td>8.98</td>\n",
       "      <td>9.23</td>\n",
       "      <td>72.43</td>\n",
       "      <td>1.08</td>\n",
       "      <td>7.43</td>\n",
       "    </tr>\n",
       "    <tr>\n",
       "      <th>min</th>\n",
       "      <td>17443.00</td>\n",
       "      <td>2011.00</td>\n",
       "      <td>1.00</td>\n",
       "      <td>1.00</td>\n",
       "      <td>0.00</td>\n",
       "      <td>1.00</td>\n",
       "      <td>1.00</td>\n",
       "      <td>-17.00</td>\n",
       "      <td>13.09</td>\n",
       "      <td>990.00</td>\n",
       "      <td>-4.00</td>\n",
       "      <td>0.00</td>\n",
       "      <td>0.00</td>\n",
       "      <td>0.00</td>\n",
       "    </tr>\n",
       "    <tr>\n",
       "      <th>25%</th>\n",
       "      <td>25928.75</td>\n",
       "      <td>2012.00</td>\n",
       "      <td>3.00</td>\n",
       "      <td>8.00</td>\n",
       "      <td>6.00</td>\n",
       "      <td>1.00</td>\n",
       "      <td>26.00</td>\n",
       "      <td>3.00</td>\n",
       "      <td>57.51</td>\n",
       "      <td>1008.10</td>\n",
       "      <td>9.00</td>\n",
       "      <td>6.00</td>\n",
       "      <td>0.00</td>\n",
       "      <td>0.00</td>\n",
       "    </tr>\n",
       "    <tr>\n",
       "      <th>50%</th>\n",
       "      <td>34148.50</td>\n",
       "      <td>2013.00</td>\n",
       "      <td>6.00</td>\n",
       "      <td>16.00</td>\n",
       "      <td>12.00</td>\n",
       "      <td>3.00</td>\n",
       "      <td>42.00</td>\n",
       "      <td>12.00</td>\n",
       "      <td>72.04</td>\n",
       "      <td>1016.00</td>\n",
       "      <td>18.00</td>\n",
       "      <td>21.00</td>\n",
       "      <td>0.00</td>\n",
       "      <td>0.00</td>\n",
       "    </tr>\n",
       "    <tr>\n",
       "      <th>75%</th>\n",
       "      <td>42929.25</td>\n",
       "      <td>2014.00</td>\n",
       "      <td>9.00</td>\n",
       "      <td>23.00</td>\n",
       "      <td>18.00</td>\n",
       "      <td>4.00</td>\n",
       "      <td>67.00</td>\n",
       "      <td>19.00</td>\n",
       "      <td>83.25</td>\n",
       "      <td>1023.00</td>\n",
       "      <td>24.00</td>\n",
       "      <td>65.00</td>\n",
       "      <td>0.00</td>\n",
       "      <td>0.00</td>\n",
       "    </tr>\n",
       "    <tr>\n",
       "      <th>max</th>\n",
       "      <td>52584.00</td>\n",
       "      <td>2015.00</td>\n",
       "      <td>12.00</td>\n",
       "      <td>31.00</td>\n",
       "      <td>23.00</td>\n",
       "      <td>4.00</td>\n",
       "      <td>730.00</td>\n",
       "      <td>28.00</td>\n",
       "      <td>100.00</td>\n",
       "      <td>1040.00</td>\n",
       "      <td>41.00</td>\n",
       "      <td>691.00</td>\n",
       "      <td>61.60</td>\n",
       "      <td>226.40</td>\n",
       "    </tr>\n",
       "  </tbody>\n",
       "</table>\n",
       "</div>"
      ],
      "text/plain": [
       "            No     year    month      day     hour   season  PM_US Post  \\\n",
       "count 31880.00 31880.00 31880.00 31880.00 31880.00 31880.00    31880.00   \n",
       "mean  34368.95  2013.43     6.42    15.75    11.58     2.51       53.41   \n",
       "std    9878.74     1.11     3.50     8.80     6.88     1.14       43.06   \n",
       "min   17443.00  2011.00     1.00     1.00     0.00     1.00        1.00   \n",
       "25%   25928.75  2012.00     3.00     8.00     6.00     1.00       26.00   \n",
       "50%   34148.50  2013.00     6.00    16.00    12.00     3.00       42.00   \n",
       "75%   42929.25  2014.00     9.00    23.00    18.00     4.00       67.00   \n",
       "max   52584.00  2015.00    12.00    31.00    23.00     4.00      730.00   \n",
       "\n",
       "          DEWP     HUMI     PRES     TEMP      Iws  precipitation    Iprec  \n",
       "count 31880.00 31880.00 31880.00 31880.00 31880.00       31880.00 31880.00  \n",
       "mean     11.02    69.43  1016.14    17.23    50.73           0.15     1.01  \n",
       "std       9.69    17.78     8.98     9.23    72.43           1.08     7.43  \n",
       "min     -17.00    13.09   990.00    -4.00     0.00           0.00     0.00  \n",
       "25%       3.00    57.51  1008.10     9.00     6.00           0.00     0.00  \n",
       "50%      12.00    72.04  1016.00    18.00    21.00           0.00     0.00  \n",
       "75%      19.00    83.25  1023.00    24.00    65.00           0.00     0.00  \n",
       "max      28.00   100.00  1040.00    41.00   691.00          61.60   226.40  "
      ]
     },
     "execution_count": 233,
     "metadata": {},
     "output_type": "execute_result"
    }
   ],
   "source": [
    "df2.describe() #funkciom describe vidimo statističke osobine parametara"
   ]
  },
  {
   "cell_type": "code",
   "execution_count": 234,
   "id": "ca92c0f1",
   "metadata": {
    "scrolled": true
   },
   "outputs": [
    {
     "data": {
      "text/html": [
       "<div>\n",
       "<style scoped>\n",
       "    .dataframe tbody tr th:only-of-type {\n",
       "        vertical-align: middle;\n",
       "    }\n",
       "\n",
       "    .dataframe tbody tr th {\n",
       "        vertical-align: top;\n",
       "    }\n",
       "\n",
       "    .dataframe thead th {\n",
       "        text-align: right;\n",
       "    }\n",
       "</style>\n",
       "<table border=\"1\" class=\"dataframe\">\n",
       "  <thead>\n",
       "    <tr style=\"text-align: right;\">\n",
       "      <th></th>\n",
       "      <th>No</th>\n",
       "      <th>year</th>\n",
       "      <th>month</th>\n",
       "      <th>day</th>\n",
       "      <th>hour</th>\n",
       "      <th>season</th>\n",
       "      <th>PM_US Post</th>\n",
       "      <th>DEWP</th>\n",
       "      <th>HUMI</th>\n",
       "      <th>PRES</th>\n",
       "      <th>TEMP</th>\n",
       "      <th>cbwd</th>\n",
       "      <th>Iws</th>\n",
       "      <th>precipitation</th>\n",
       "      <th>Iprec</th>\n",
       "    </tr>\n",
       "  </thead>\n",
       "  <tbody>\n",
       "    <tr>\n",
       "      <th>52579</th>\n",
       "      <td>52580</td>\n",
       "      <td>2015</td>\n",
       "      <td>12</td>\n",
       "      <td>31</td>\n",
       "      <td>19</td>\n",
       "      <td>4</td>\n",
       "      <td>82.00</td>\n",
       "      <td>-1.00</td>\n",
       "      <td>65.13</td>\n",
       "      <td>1035.00</td>\n",
       "      <td>5.00</td>\n",
       "      <td>5</td>\n",
       "      <td>15.00</td>\n",
       "      <td>0.00</td>\n",
       "      <td>0.00</td>\n",
       "    </tr>\n",
       "    <tr>\n",
       "      <th>52580</th>\n",
       "      <td>52581</td>\n",
       "      <td>2015</td>\n",
       "      <td>12</td>\n",
       "      <td>31</td>\n",
       "      <td>20</td>\n",
       "      <td>4</td>\n",
       "      <td>93.00</td>\n",
       "      <td>1.00</td>\n",
       "      <td>70.27</td>\n",
       "      <td>1035.00</td>\n",
       "      <td>6.00</td>\n",
       "      <td>5</td>\n",
       "      <td>19.00</td>\n",
       "      <td>0.00</td>\n",
       "      <td>0.00</td>\n",
       "    </tr>\n",
       "    <tr>\n",
       "      <th>52581</th>\n",
       "      <td>52582</td>\n",
       "      <td>2015</td>\n",
       "      <td>12</td>\n",
       "      <td>31</td>\n",
       "      <td>21</td>\n",
       "      <td>4</td>\n",
       "      <td>90.00</td>\n",
       "      <td>1.00</td>\n",
       "      <td>70.27</td>\n",
       "      <td>1036.00</td>\n",
       "      <td>6.00</td>\n",
       "      <td>5</td>\n",
       "      <td>22.00</td>\n",
       "      <td>0.00</td>\n",
       "      <td>0.00</td>\n",
       "    </tr>\n",
       "    <tr>\n",
       "      <th>52582</th>\n",
       "      <td>52583</td>\n",
       "      <td>2015</td>\n",
       "      <td>12</td>\n",
       "      <td>31</td>\n",
       "      <td>22</td>\n",
       "      <td>4</td>\n",
       "      <td>86.00</td>\n",
       "      <td>0.00</td>\n",
       "      <td>70.06</td>\n",
       "      <td>1035.00</td>\n",
       "      <td>5.00</td>\n",
       "      <td>5</td>\n",
       "      <td>25.00</td>\n",
       "      <td>0.00</td>\n",
       "      <td>0.00</td>\n",
       "    </tr>\n",
       "    <tr>\n",
       "      <th>52583</th>\n",
       "      <td>52584</td>\n",
       "      <td>2015</td>\n",
       "      <td>12</td>\n",
       "      <td>31</td>\n",
       "      <td>23</td>\n",
       "      <td>4</td>\n",
       "      <td>77.00</td>\n",
       "      <td>0.00</td>\n",
       "      <td>70.06</td>\n",
       "      <td>1035.00</td>\n",
       "      <td>5.00</td>\n",
       "      <td>5</td>\n",
       "      <td>27.00</td>\n",
       "      <td>0.00</td>\n",
       "      <td>0.00</td>\n",
       "    </tr>\n",
       "  </tbody>\n",
       "</table>\n",
       "</div>"
      ],
      "text/plain": [
       "          No  year  month  day  hour  season  PM_US Post  DEWP  HUMI    PRES  \\\n",
       "52579  52580  2015     12   31    19       4       82.00 -1.00 65.13 1035.00   \n",
       "52580  52581  2015     12   31    20       4       93.00  1.00 70.27 1035.00   \n",
       "52581  52582  2015     12   31    21       4       90.00  1.00 70.27 1036.00   \n",
       "52582  52583  2015     12   31    22       4       86.00  0.00 70.06 1035.00   \n",
       "52583  52584  2015     12   31    23       4       77.00  0.00 70.06 1035.00   \n",
       "\n",
       "       TEMP cbwd   Iws  precipitation  Iprec  \n",
       "52579  5.00    5 15.00           0.00   0.00  \n",
       "52580  6.00    5 19.00           0.00   0.00  \n",
       "52581  6.00    5 22.00           0.00   0.00  \n",
       "52582  5.00    5 25.00           0.00   0.00  \n",
       "52583  5.00    5 27.00           0.00   0.00  "
      ]
     },
     "execution_count": 234,
     "metadata": {},
     "output_type": "execute_result"
    }
   ],
   "source": [
    "df2.tail() #kako bih videla koji su poslednji uzorci - do kada dosežu"
   ]
  },
  {
   "cell_type": "code",
   "execution_count": 235,
   "id": "b354b1b8",
   "metadata": {
    "scrolled": false
   },
   "outputs": [
    {
     "data": {
      "text/plain": [
       "array([2011, 2012, 2013, 2014, 2015], dtype=int64)"
      ]
     },
     "execution_count": 235,
     "metadata": {},
     "output_type": "execute_result"
    }
   ],
   "source": [
    "#Provera koje godine se javljaju u bazi\n",
    "df2['year'].unique()"
   ]
  },
  {
   "cell_type": "code",
   "execution_count": 236,
   "id": "55aeaee7",
   "metadata": {
    "scrolled": false
   },
   "outputs": [
    {
     "data": {
      "image/png": "[encoded data removed]",
      "text/plain": [
       "<Figure size 1500x500 with 1 Axes>"
      ]
     },
     "metadata": {},
     "output_type": "display_data"
    }
   ],
   "source": [
    "#iscrtavam izlaz kako bih proverila raspodelu koncetracije čestice PM_US Post u vazduhu\n",
    "plt.figure(figsize = (15,5))\n",
    "plt.hist(df2['PM_US Post'], density = True, bins = 100)\n",
    "plt.xlabel('Koncetracija PM_US Post')\n",
    "plt.ylabel('Verovatnoća')\n",
    "plt.show()\n"
   ]
  },
  {
   "cell_type": "code",
   "execution_count": 237,
   "id": "e8b6a732",
   "metadata": {
    "scrolled": false
   },
   "outputs": [
    {
     "name": "stdout",
     "output_type": "stream",
     "text": [
      "[2011 2012 2013 2014 2015]\n"
     ]
    },
    {
     "data": {
      "text/html": [
       "<div>\n",
       "<style scoped>\n",
       "    .dataframe tbody tr th:only-of-type {\n",
       "        vertical-align: middle;\n",
       "    }\n",
       "\n",
       "    .dataframe tbody tr th {\n",
       "        vertical-align: top;\n",
       "    }\n",
       "\n",
       "    .dataframe thead th {\n",
       "        text-align: right;\n",
       "    }\n",
       "</style>\n",
       "<table border=\"1\" class=\"dataframe\">\n",
       "  <thead>\n",
       "    <tr style=\"text-align: right;\">\n",
       "      <th></th>\n",
       "      <th>No</th>\n",
       "      <th>month</th>\n",
       "      <th>day</th>\n",
       "      <th>hour</th>\n",
       "      <th>season</th>\n",
       "      <th>PM_US Post</th>\n",
       "      <th>DEWP</th>\n",
       "      <th>HUMI</th>\n",
       "      <th>PRES</th>\n",
       "      <th>TEMP</th>\n",
       "      <th>cbwd</th>\n",
       "      <th>Iws</th>\n",
       "      <th>precipitation</th>\n",
       "      <th>Iprec</th>\n",
       "    </tr>\n",
       "    <tr>\n",
       "      <th>year</th>\n",
       "      <th></th>\n",
       "      <th></th>\n",
       "      <th></th>\n",
       "      <th></th>\n",
       "      <th></th>\n",
       "      <th></th>\n",
       "      <th></th>\n",
       "      <th></th>\n",
       "      <th></th>\n",
       "      <th></th>\n",
       "      <th></th>\n",
       "      <th></th>\n",
       "      <th></th>\n",
       "      <th></th>\n",
       "    </tr>\n",
       "  </thead>\n",
       "  <tbody>\n",
       "    <tr>\n",
       "      <th>2011</th>\n",
       "      <td>17443</td>\n",
       "      <td>12</td>\n",
       "      <td>28</td>\n",
       "      <td>18</td>\n",
       "      <td>4</td>\n",
       "      <td>36.00</td>\n",
       "      <td>4.00</td>\n",
       "      <td>62.00</td>\n",
       "      <td>1027.10</td>\n",
       "      <td>11.00</td>\n",
       "      <td>5</td>\n",
       "      <td>8.00</td>\n",
       "      <td>0.00</td>\n",
       "      <td>0.00</td>\n",
       "    </tr>\n",
       "    <tr>\n",
       "      <th>2011</th>\n",
       "      <td>17444</td>\n",
       "      <td>12</td>\n",
       "      <td>28</td>\n",
       "      <td>19</td>\n",
       "      <td>4</td>\n",
       "      <td>41.00</td>\n",
       "      <td>4.00</td>\n",
       "      <td>62.00</td>\n",
       "      <td>1027.10</td>\n",
       "      <td>11.00</td>\n",
       "      <td>5</td>\n",
       "      <td>9.00</td>\n",
       "      <td>0.00</td>\n",
       "      <td>0.00</td>\n",
       "    </tr>\n",
       "    <tr>\n",
       "      <th>2011</th>\n",
       "      <td>17445</td>\n",
       "      <td>12</td>\n",
       "      <td>28</td>\n",
       "      <td>20</td>\n",
       "      <td>4</td>\n",
       "      <td>44.00</td>\n",
       "      <td>5.00</td>\n",
       "      <td>71.07</td>\n",
       "      <td>1028.10</td>\n",
       "      <td>10.00</td>\n",
       "      <td>5</td>\n",
       "      <td>11.00</td>\n",
       "      <td>0.00</td>\n",
       "      <td>0.00</td>\n",
       "    </tr>\n",
       "    <tr>\n",
       "      <th>2011</th>\n",
       "      <td>17446</td>\n",
       "      <td>12</td>\n",
       "      <td>28</td>\n",
       "      <td>21</td>\n",
       "      <td>4</td>\n",
       "      <td>40.00</td>\n",
       "      <td>5.00</td>\n",
       "      <td>71.07</td>\n",
       "      <td>1028.10</td>\n",
       "      <td>10.00</td>\n",
       "      <td>5</td>\n",
       "      <td>13.00</td>\n",
       "      <td>0.00</td>\n",
       "      <td>0.00</td>\n",
       "    </tr>\n",
       "    <tr>\n",
       "      <th>2011</th>\n",
       "      <td>17447</td>\n",
       "      <td>12</td>\n",
       "      <td>28</td>\n",
       "      <td>22</td>\n",
       "      <td>4</td>\n",
       "      <td>25.00</td>\n",
       "      <td>6.00</td>\n",
       "      <td>76.18</td>\n",
       "      <td>1028.10</td>\n",
       "      <td>10.00</td>\n",
       "      <td>5</td>\n",
       "      <td>15.00</td>\n",
       "      <td>0.00</td>\n",
       "      <td>0.00</td>\n",
       "    </tr>\n",
       "  </tbody>\n",
       "</table>\n",
       "</div>"
      ],
      "text/plain": [
       "         No  month  day  hour  season  PM_US Post  DEWP  HUMI    PRES  TEMP  \\\n",
       "year                                                                          \n",
       "2011  17443     12   28    18       4       36.00  4.00 62.00 1027.10 11.00   \n",
       "2011  17444     12   28    19       4       41.00  4.00 62.00 1027.10 11.00   \n",
       "2011  17445     12   28    20       4       44.00  5.00 71.07 1028.10 10.00   \n",
       "2011  17446     12   28    21       4       40.00  5.00 71.07 1028.10 10.00   \n",
       "2011  17447     12   28    22       4       25.00  6.00 76.18 1028.10 10.00   \n",
       "\n",
       "     cbwd   Iws  precipitation  Iprec  \n",
       "year                                   \n",
       "2011    5  8.00           0.00   0.00  \n",
       "2011    5  9.00           0.00   0.00  \n",
       "2011    5 11.00           0.00   0.00  \n",
       "2011    5 13.00           0.00   0.00  \n",
       "2011    5 15.00           0.00   0.00  "
      ]
     },
     "execution_count": 237,
     "metadata": {},
     "output_type": "execute_result"
    }
   ],
   "source": [
    "print(df2['year'].unique())\n",
    "df_godina = df2.set_index('year')\n",
    "df_godina.head()\n",
    "# postaviti godinu za indeks zbog lakšeg pretraživanja pomoću df.loc[]\n"
   ]
  },
  {
   "cell_type": "code",
   "execution_count": 238,
   "id": "3dbd35c2",
   "metadata": {
    "scrolled": false
   },
   "outputs": [
    {
     "data": {
      "text/plain": [
       "([<matplotlib.axis.XTick at 0x1c4aeab2f70>,\n",
       "  <matplotlib.axis.XTick at 0x1c4aeab2c70>,\n",
       "  <matplotlib.axis.XTick at 0x1c4afbdb820>,\n",
       "  <matplotlib.axis.XTick at 0x1c4af9ca670>],\n",
       " [Text(1, 0, '2012'),\n",
       "  Text(2, 0, '2013'),\n",
       "  Text(3, 0, '2014'),\n",
       "  Text(4, 0, '2015')])"
      ]
     },
     "execution_count": 238,
     "metadata": {},
     "output_type": "execute_result"
    },
    {
     "data": {
      "image/png": "[encoded data removed]",
      "text/plain": [
       "<Figure size 640x480 with 1 Axes>"
      ]
     },
     "metadata": {},
     "output_type": "display_data"
    }
   ],
   "source": [
    "#kako imamo samo jedan mesec u 2011, ne unosim u analizu\n",
    "plt.boxplot([df_godina.loc[2012,'PM_US Post'], df_godina.loc[2013,'PM_US Post'], df_godina.loc[2014,'PM_US Post'], df_godina.loc[2015,'PM_US Post']])\n",
    "plt.xlabel('Godina')\n",
    "plt.ylabel('Koncetracija PM_US Post cestice [μg/m3]')\n",
    "plt.grid()\n",
    "plt.xticks([1,2,3,4],['2012','2013','2014','2015'])"
   ]
  },
  {
   "cell_type": "code",
   "execution_count": 239,
   "id": "23712c66",
   "metadata": {},
   "outputs": [],
   "source": [
    "#kako ću koristiti scatter metodu, potrebno mi je da grupišem mesece\n",
    "#prvo zbog lakšeg pretraživanja postavljam mesece kao prvo obelešje\n",
    "#potom kreiram postavljam petrlju kako ne bih se bak"
   ]
  },
  {
   "cell_type": "code",
   "execution_count": 240,
   "id": "091a19e8",
   "metadata": {
    "scrolled": false
   },
   "outputs": [
    {
     "data": {
      "image/png": "[encoded data removed]",
      "text/plain": [
       "<Figure size 2000x1200 with 5 Axes>"
      ]
     },
     "metadata": {},
     "output_type": "display_data"
    }
   ],
   "source": [
    "meseci = df2.groupby(by=['month']).mean()\n",
    "PM25_mesec = []\n",
    "TEMP_mesec = []\n",
    "PRES_mesec = []\n",
    "DEWP_mesec = []\n",
    "HUMI_mesec = []\n",
    "Iws_mesec = []\n",
    "for i in range(1, np.shape(meseci)[0]+1):\n",
    "    PM25_mesec.append(meseci.loc[i]['PM_US Post'])\n",
    "    TEMP_mesec.append(meseci.loc[i]['TEMP'])\n",
    "    PRES_mesec.append(meseci.loc[i]['PRES'])\n",
    "    DEWP_mesec.append(meseci.loc[i]['DEWP'])\n",
    "    HUMI_mesec.append(meseci.loc[i]['HUMI'])\n",
    "    Iws_mesec.append(meseci.loc[i]['Iws'])\n",
    "    \n",
    "mesec = ['januar', 'februar', 'mart', 'april', 'maj', 'jun', 'jul', 'avgust', 'sep', 'okt', 'nov', 'dec']\n",
    "plt.figure(figsize=(20,12))\n",
    "for i in range(0, len(PM25_mesec)):\n",
    "    plt.subplot(3, 4, 1)\n",
    "    plt.scatter(PM25_mesec[i],TEMP_mesec[i])\n",
    "    plt.xlabel('PM_US Post')\n",
    "    plt.ylabel('TEMP')\n",
    "    \n",
    "    plt.subplot(3, 4, 2)\n",
    "    plt.scatter(PM25_mesec[i],PRES_mesec[i])\n",
    "    plt.xlabel('PM_US Post')\n",
    "    plt.ylabel('PRES')\n",
    "    \n",
    "    plt.subplot(3, 4, 3)\n",
    "    plt.scatter(PM25_mesec[i],DEWP_mesec[i])\n",
    "    plt.xlabel('PM_US Post')\n",
    "    plt.ylabel('DEWP')\n",
    "    \n",
    "    plt.subplot(3, 4, 4)\n",
    "    plt.scatter(PM25_mesec[i],HUMI_mesec[i])\n",
    "    plt.xlabel('PM_US Post')\n",
    "    plt.ylabel('HUMI')\n",
    "    \n",
    "    plt.subplot(3, 4, 5)\n",
    "    plt.scatter(PM25_mesec[i],Iws_mesec[i])\n",
    "    plt.xlabel('PM_US Post')\n",
    "    plt.ylabel('Iws')"
   ]
  },
  {
   "cell_type": "code",
   "execution_count": 241,
   "id": "bc3ee5e3",
   "metadata": {},
   "outputs": [
    {
     "data": {
      "image/png": "[encoded data removed]",
      "text/plain": [
       "<Figure size 1200x900 with 2 Axes>"
      ]
     },
     "metadata": {},
     "output_type": "display_data"
    }
   ],
   "source": [
    "f = plt.figure(figsize=(12, 9))\n",
    "kolone = ['PM_US Post', 'DEWP', 'HUMI', 'PRES', 'TEMP','Iws']\n",
    "cm = df2[kolone].corr()\n",
    "sns.heatmap(cm, annot=True, square=True, fmt='.2f', yticklabels=kolone, xticklabels=kolone);\n",
    "plt.show()"
   ]
  },
  {
   "cell_type": "code",
   "execution_count": 242,
   "id": "2ddbaf5f",
   "metadata": {
    "scrolled": false
   },
   "outputs": [
    {
     "data": {
      "text/plain": [
       "(-0.5, 4.5, 0.0, 400.0)"
      ]
     },
     "execution_count": 242,
     "metadata": {},
     "output_type": "execute_result"
    },
    {
     "data": {
      "image/png": "[encoded data removed]",
      "text/plain": [
       "<Figure size 640x480 with 1 Axes>"
      ]
     },
     "metadata": {},
     "output_type": "display_data"
    }
   ],
   "source": [
    "fig = sns.boxplot(x='cbwd',y='PM_US Post', data = df2)\n",
    "fig.axis(ymin=0,ymax=400)"
   ]
  },
  {
   "cell_type": "code",
   "execution_count": 243,
   "id": "0c15566d",
   "metadata": {
    "scrolled": true
   },
   "outputs": [],
   "source": [
    "#plt.figure()\n",
    "   #BOKSPLOTOBI\n"
   ]
  },
  {
   "cell_type": "code",
   "execution_count": 244,
   "id": "2145b83a",
   "metadata": {},
   "outputs": [],
   "source": [
    "#Drugi deo zadatka"
   ]
  },
  {
   "cell_type": "code",
   "execution_count": 245,
   "id": "7aa55803",
   "metadata": {},
   "outputs": [],
   "source": [
    "#kreiram funkciju pomocu koje kasnije mogu da proveravam kakav mi je model linearne regresije \n",
    "#ovim olaksavam sebi posao jer ne moram za svaku funkciju regresije da pozicam pojedinacno\n",
    "#vec samo onu koju sada definisem\n",
    "#mse,mae i rmse treba da budu što manje, a r2 je bitno da bude pozitivno i po mogućnosti što bliže jedinici"
   ]
  },
  {
   "cell_type": "code",
   "execution_count": 246,
   "id": "0745cf05",
   "metadata": {},
   "outputs": [],
   "source": [
    "def evaluacija_modela(y, y_predvidjeno, broj_uzoraka, broj_obelezja):\n",
    "    mse = mean_squared_error(y_test, y_predvidjeno) \n",
    "    mae = mean_absolute_error(y_test, y_predvidjeno) \n",
    "    rmse = np.sqrt(mse)\n",
    "    #r kvadrat score gleda sumu kvatrada razlike izmedju pravih  ipredvidjenih vr\n",
    "    r2 = r2_score(y_test, y_predvidjeno)\n",
    "    r2_adj = 1-(1-r2)*(broj_uzoraka-1)/(broj_uzoraka-broj_obelezja-1)\n",
    "\n",
    "    #prikaz vrednosti\n",
    "    print('Mere uspešnosti:')\n",
    "    print('Srednja kvadratna greška: ', mse)\n",
    "    print('Srednja apsolutna greška: ', mae)\n",
    "    print('Koren srednje kvadratne greške: ', rmse)\n",
    "    print('R kvadrat skor: ', r2)\n",
    "    print('Prilagođeni R kvadrat skor: ', r2_adj)\n",
    "    \n",
    "\n",
    "    #Uporedni prikaz nekoliko pravih i predviđenih vrednosti\n",
    "    res=pd.concat([pd.DataFrame(y.values), pd.DataFrame(y_predvidjeno)], axis=1)\n",
    "    res.columns = ['Prave vrednosti', 'Predviđene vrednosti']\n",
    "    print(res.head(8))"
   ]
  },
  {
   "cell_type": "code",
   "execution_count": 247,
   "id": "c4d2054a",
   "metadata": {},
   "outputs": [
    {
     "name": "stdout",
     "output_type": "stream",
     "text": [
      "obuka shape: (22316, 9)\n",
      "test shape: (4782, 9)\n",
      "val shape: (4782, 9)\n"
     ]
    }
   ],
   "source": [
    "#x je matrica obelezja koju cu koristiti za obuku i test\n",
    "#kako obelezja godina, mesec, dan, sat ne uticu na koncentraciju, uklanjam ih\n",
    "#uklanjam obelezje koje ce biti izlaz i postavljam na y\n",
    "x = df2.drop(['year','month','day','hour','PM_US Post','cbwd'],axis=1)\n",
    "#izbacujem obelezje koje ce biti izlaza\n",
    "#jedna izlazna - univarijantna \n",
    "y = df2['PM_US Post']\n",
    "\n",
    "\n",
    "#podela podataka na podatke za obuku i test\n",
    "#x_obuka, X_test1, y_train, Y_Test1 = train_test_split(x, y, train_size=0.7, random_state=42)\n",
    "#izdvajanje deela iz podataka za obuku za validaciju\n",
    "#X_val, x_test, y_val, y_test = train_test_split(X_Test1, Y_Test1, test_size=0.5, random_state=42)\n",
    "# p o del a poda taka na p o d a tke za obuku i t e s t\n",
    "x_obuka , x_test1 , y_obuka , y_test1 = train_test_split(x, y , test_size =0.3 , random_state =42 )\n",
    "# i z d v a j a n j e d e l a i z poda taka za obuku za v a l i d a c i j u\n",
    "x_val , x_test , y_val , y_test = train_test_split(x_test1 ,y_test1, test_size =0.5 , random_state =42)\n",
    "\n",
    "\n",
    "print(\"obuka shape: {}\".format(x_obuka.shape))\n",
    "print(\"test shape: {}\".format(x_test.shape))\n",
    "print(\"val shape: {}\".format(x_val.shape))\n"
   ]
  },
  {
   "cell_type": "code",
   "execution_count": 248,
   "id": "f66c7757",
   "metadata": {},
   "outputs": [],
   "source": [
    "numeric_feats = [item for item in x.columns if 'wdir' not in item]\n"
   ]
  },
  {
   "cell_type": "code",
   "execution_count": 249,
   "id": "cdde8177",
   "metadata": {},
   "outputs": [
    {
     "data": {
      "text/html": [
       "<div>\n",
       "<style scoped>\n",
       "    .dataframe tbody tr th:only-of-type {\n",
       "        vertical-align: middle;\n",
       "    }\n",
       "\n",
       "    .dataframe tbody tr th {\n",
       "        vertical-align: top;\n",
       "    }\n",
       "\n",
       "    .dataframe thead th {\n",
       "        text-align: right;\n",
       "    }\n",
       "</style>\n",
       "<table border=\"1\" class=\"dataframe\">\n",
       "  <thead>\n",
       "    <tr style=\"text-align: right;\">\n",
       "      <th></th>\n",
       "      <th>No</th>\n",
       "      <th>season</th>\n",
       "      <th>DEWP</th>\n",
       "      <th>HUMI</th>\n",
       "      <th>PRES</th>\n",
       "      <th>TEMP</th>\n",
       "      <th>Iws</th>\n",
       "      <th>precipitation</th>\n",
       "      <th>Iprec</th>\n",
       "    </tr>\n",
       "  </thead>\n",
       "  <tbody>\n",
       "    <tr>\n",
       "      <th>0</th>\n",
       "      <td>-0.30</td>\n",
       "      <td>-0.45</td>\n",
       "      <td>1.34</td>\n",
       "      <td>-0.74</td>\n",
       "      <td>-1.35</td>\n",
       "      <td>1.82</td>\n",
       "      <td>-0.55</td>\n",
       "      <td>-0.13</td>\n",
       "      <td>-0.14</td>\n",
       "    </tr>\n",
       "    <tr>\n",
       "      <th>1</th>\n",
       "      <td>-0.20</td>\n",
       "      <td>0.43</td>\n",
       "      <td>1.14</td>\n",
       "      <td>1.08</td>\n",
       "      <td>-0.91</td>\n",
       "      <td>0.74</td>\n",
       "      <td>-0.63</td>\n",
       "      <td>-0.13</td>\n",
       "      <td>-0.14</td>\n",
       "    </tr>\n",
       "    <tr>\n",
       "      <th>2</th>\n",
       "      <td>-1.03</td>\n",
       "      <td>0.43</td>\n",
       "      <td>0.52</td>\n",
       "      <td>-0.03</td>\n",
       "      <td>0.32</td>\n",
       "      <td>0.52</td>\n",
       "      <td>-0.11</td>\n",
       "      <td>-0.13</td>\n",
       "      <td>-0.14</td>\n",
       "    </tr>\n",
       "    <tr>\n",
       "      <th>3</th>\n",
       "      <td>1.54</td>\n",
       "      <td>-0.45</td>\n",
       "      <td>1.14</td>\n",
       "      <td>-0.39</td>\n",
       "      <td>-1.02</td>\n",
       "      <td>1.39</td>\n",
       "      <td>-0.35</td>\n",
       "      <td>-0.04</td>\n",
       "      <td>-0.12</td>\n",
       "    </tr>\n",
       "    <tr>\n",
       "      <th>4</th>\n",
       "      <td>1.23</td>\n",
       "      <td>-1.33</td>\n",
       "      <td>-0.72</td>\n",
       "      <td>-2.52</td>\n",
       "      <td>0.21</td>\n",
       "      <td>0.95</td>\n",
       "      <td>-0.63</td>\n",
       "      <td>-0.13</td>\n",
       "      <td>-0.14</td>\n",
       "    </tr>\n",
       "  </tbody>\n",
       "</table>\n",
       "</div>"
      ],
      "text/plain": [
       "     No  season  DEWP  HUMI  PRES  TEMP   Iws  precipitation  Iprec\n",
       "0 -0.30   -0.45  1.34 -0.74 -1.35  1.82 -0.55          -0.13  -0.14\n",
       "1 -0.20    0.43  1.14  1.08 -0.91  0.74 -0.63          -0.13  -0.14\n",
       "2 -1.03    0.43  0.52 -0.03  0.32  0.52 -0.11          -0.13  -0.14\n",
       "3  1.54   -0.45  1.14 -0.39 -1.02  1.39 -0.35          -0.04  -0.12\n",
       "4  1.23   -1.33 -0.72 -2.52  0.21  0.95 -0.63          -0.13  -0.14"
      ]
     },
     "execution_count": 249,
     "metadata": {},
     "output_type": "execute_result"
    }
   ],
   "source": [
    "#inicijalizujemo klasu Standardscaler\n",
    "\n",
    "# standardizacijom/normalizacijom ubrzavamo konvergenciju, ne poboljsavamo linearnu regresiju!\n",
    "\n",
    "scaler = StandardScaler() #inicijalizujem klasu StandardScaler\n",
    "scaler.fit(x_obuka[numeric_feats]) #racunam srednje vrednosti i standardne devijacije\n",
    "#parametri za standardizaciju iskljucivo na trening uzorcima\n",
    "#test uzorci ne treba na bilo koji način da utiču na bilo koji nacin na nas model pri obuci!\n",
    "\n",
    "#preskaliramo vrednosti \n",
    "x_obuka_std = scaler.transform(x_obuka[numeric_feats])\n",
    "x_test_std = scaler.transform(x_test[numeric_feats])\n",
    "x_val_std = scaler.transform(x_val[numeric_feats])\n",
    "\n",
    "#za ispis tabele, jer ovako ne bi bilo u DataFrame#\n",
    "x_obuka_std = pd.DataFrame(x_obuka_std)\n",
    "x_test_std = pd.DataFrame(x_test_std)\n",
    "x_val_std = pd.DataFrame(x_val_std)\n",
    "\n",
    "x_obuka_std.columns = list(x.columns) \n",
    "x_test_std.columns = list(x.columns)\n",
    "x_val_std.columns = list(x.columns)\n",
    "\n",
    "x_obuka_std.head()\n",
    "\n",
    "#sada uočavamo su nam sve vrednosti oko nule"
   ]
  },
  {
   "cell_type": "code",
   "execution_count": 250,
   "id": "5dd65cf5",
   "metadata": {
    "scrolled": false
   },
   "outputs": [
    {
     "name": "stdout",
     "output_type": "stream",
     "text": [
      "Mere uspešnosti:\n",
      "Srednja kvadratna greška:  1585.8236301338047\n",
      "Srednja apsolutna greška:  27.189138517252466\n",
      "Koren srednje kvadratne greške:  39.82240110959916\n",
      "R kvadrat skor:  0.17070118991396388\n",
      "Prilagođeni R kvadrat skor:  0.1703665853550661\n",
      "   Prave vrednosti  Predviđene vrednosti\n",
      "0             8.00                 30.52\n",
      "1            81.00                 75.99\n",
      "2            71.00                 39.90\n",
      "3            49.00                 42.20\n",
      "4            19.00                 44.98\n",
      "5            44.00                 39.89\n",
      "6            33.00                 67.43\n",
      "7            24.00                 56.75\n",
      "Koeficijenti:  [ -0.50529319   4.10591978   3.67046419  -7.7577563   -9.89601185\n",
      " -23.68842395  -8.6148607   -0.83880664  -2.79423062]\n"
     ]
    },
    {
     "data": {
      "image/png": "[encoded data removed]",
      "text/plain": [
       "<Figure size 1000x500 with 1 Axes>"
      ]
     },
     "metadata": {},
     "output_type": "display_data"
    }
   ],
   "source": [
    "#Osnovni oblik linearne regresije sa hipotezom y=b0+b1x1+b2x2+...+bnxn\n",
    "#Inicijalizacija\n",
    "regression_model = LinearRegression(fit_intercept=True)\n",
    "\n",
    "#Obuka trening uzoraka, prosledjujemo obelezja uzoraka i zeljene izrede\n",
    "regression_model.fit(x_obuka_std, y_obuka)\n",
    "\n",
    "#Testiranje, prosledjujemo test uzorke i vrsimo predvidjanje test uzoraka \n",
    "y_predvidjeno = regression_model.predict(x_test_std)\n",
    "\n",
    "#Evaluacija, poredimo prave i predvidjene vrednosti\n",
    "evaluacija_modela(y_test, y_predvidjeno, x_obuka_std.shape[0], x_test_std.shape[1])\n",
    "\n",
    "#Ilustracija koeficijenata\n",
    "plt.figure(figsize=(10,5))\n",
    "plt.bar(range(len(regression_model.coef_)),regression_model.coef_)\n",
    "print(\"Koeficijenti: \", regression_model.coef_)"
   ]
  },
  {
   "cell_type": "code",
   "execution_count": 251,
   "id": "305297ca",
   "metadata": {},
   "outputs": [
    {
     "name": "stdout",
     "output_type": "stream",
     "text": [
      "Mere uspešnosti:\n",
      "Srednja kvadratna greška:  1480.0639086562794\n",
      "Srednja apsolutna greška:  26.2397682392565\n",
      "Koren srednje kvadratne greške:  38.47159872758448\n",
      "R kvadrat skor:  0.22600772559028115\n",
      "Prilagođeni R kvadrat skor:  0.22444375377400638\n",
      "   Prave vrednosti  Predviđene vrednosti\n",
      "0             8.00                 33.16\n",
      "1            81.00                 73.26\n",
      "2            71.00                 29.51\n",
      "3            49.00                 44.38\n",
      "4            19.00                 41.39\n",
      "5            44.00                 30.06\n",
      "6            33.00                 70.66\n",
      "7            24.00                 52.05\n",
      "Koeficijenti:  [-5.80721173e-01  1.94033402e+00  1.66881779e+02 -7.65293123e+01\n",
      " -9.40339893e+00 -1.71324318e+02 -8.10455559e+00 -5.15148105e+00\n",
      " -2.71845109e+00  4.00127636e+00  8.97677703e+00 -4.92365166e+00\n",
      " -2.77879658e+00 -9.98473301e+00  6.00517102e-01  2.99924621e-01\n",
      " -3.45753900e-01  2.92903052e+00 -4.64176005e+00 -1.05505078e+00\n",
      " -1.09836951e+01 -9.73081707e-01 -2.44085922e+00  9.74034417e-01\n",
      "  2.08348204e+01 -2.06889894e+01 -5.16115093e+00  9.11313438e+00\n",
      " -5.37418439e-01 -4.88096825e+01  1.59985708e+01 -2.36375883e+01\n",
      " -5.07586992e+00  1.29944384e+00  1.81280209e+01  2.07029981e+01\n",
      " -1.44855286e-01  3.60863308e-01  2.00333929e+00 -7.25280382e+00\n",
      "  3.52472212e+00  5.40263553e+01 -7.20311355e-02  1.33193927e+00\n",
      "  1.85159278e-01]\n"
     ]
    },
    {
     "data": {
      "image/png": "[encoded data removed]",
      "text/plain": [
       "<Figure size 1000x500 with 1 Axes>"
      ]
     },
     "metadata": {},
     "output_type": "display_data"
    }
   ],
   "source": [
    "#Linearna regresija sa hipotezom y=b0+b1x1+b2x2+...+bnxn+c1x1x2+c2x1x3+...\n",
    "#medjusobna interakcija \n",
    "poly = PolynomialFeatures(interaction_only=True, include_bias=False) \n",
    "x_interakcije_train = poly.fit_transform(x_obuka_std) \n",
    "x_interakcije_test = poly.transform(x_test_std)\n",
    "\n",
    "#Inicijalizacija\n",
    "regression_model_interakcije = LinearRegression()\n",
    "\n",
    "#Obuka\n",
    "regression_model_interakcije.fit(x_interakcije_train, y_obuka)\n",
    "\n",
    "#Testiranje\n",
    "y_predvidjeno = regression_model_interakcije.predict(x_interakcije_test) #jer sam i obučavala sa standardizovanim podacima\n",
    "\n",
    "#Evaluacija\n",
    "evaluacija_modela(y_test, y_predvidjeno, x_interakcije_train.shape[0], x_interakcije_test.shape[1])\n",
    "\n",
    "#Ilustracija koeficijenata\n",
    "plt.figure(figsize=(10,5))\n",
    "plt.bar(range(len(regression_model_interakcije.coef_)),regression_model_interakcije.coef_)\n",
    "print(\"Koeficijenti: \", regression_model_interakcije.coef_)"
   ]
  },
  {
   "cell_type": "code",
   "execution_count": 252,
   "id": "78da75b1",
   "metadata": {},
   "outputs": [
    {
     "name": "stdout",
     "output_type": "stream",
     "text": [
      "Mere uspešnosti:\n",
      "Srednja kvadratna greška:  1454.9062882403282\n",
      "Srednja apsolutna greška:  25.923834069173918\n",
      "Koren srednje kvadratne greške:  38.143233846126996\n",
      "R kvadrat skor:  0.23916378171096353\n",
      "Prilagođeni R kvadrat skor:  0.2373181702924465\n",
      "   Prave vrednosti  Predviđene vrednosti\n",
      "0             8.00                 29.50\n",
      "1            81.00                 74.66\n",
      "2            71.00                 30.46\n",
      "3            49.00                 42.90\n",
      "4            19.00                 42.93\n",
      "5            44.00                 27.64\n",
      "6            33.00                 73.05\n",
      "7            24.00                 53.83\n",
      "Koeficijenti:  [-5.54391259e-01  5.49187710e+00 -7.17765567e+02  2.91088826e+02\n",
      " -8.53037586e+00  6.38579368e+02 -1.23605438e+01 -4.56197521e+00\n",
      " -6.64754655e+00 -2.21813202e+00  3.95677798e+00  1.33783503e+01\n",
      " -6.64068310e+00 -1.82872968e+00 -1.21769515e+01  1.64607548e+00\n",
      "  2.21172422e-01 -4.72438436e-02  7.28542775e+00  8.14212498e-01\n",
      " -3.29544467e+00 -1.31683389e+00 -6.48412227e+00 -9.55404427e-01\n",
      " -2.23264780e+00 -1.36333759e-01 -5.95263660e+01 -8.41314323e+01\n",
      " -6.64346466e+01  2.97941874e+01  5.96707704e+00 -6.71555578e+00\n",
      " -3.31169172e+01  1.12287910e+01  3.70455984e+01  1.29964542e+02\n",
      " -4.02681544e+00  3.66759727e+00  1.35521823e+01  8.93150779e-01\n",
      "  6.23044429e+01  4.61344580e-01  4.82616604e-01  1.32047322e+00\n",
      "  1.61818251e+01 -4.87470902e+00  9.72160548e+00  3.69295433e+01\n",
      "  1.78220561e+00 -1.77766791e-01  9.44883248e-01 -2.51799960e-03\n",
      "  1.43427554e-01  1.26613851e-01]\n"
     ]
    },
    {
     "data": {
      "image/png": "[encoded data removed]",
      "text/plain": [
       "<Figure size 1000x500 with 1 Axes>"
      ]
     },
     "metadata": {},
     "output_type": "display_data"
    }
   ],
   "source": [
    "#Linearna regresija sa hipotezom y=b0+b1x1+b2x2+...+bnxn+c1x1x2+c2x1x3+...+d1x1^2+d2x2^2+...+dnxn^2\n",
    "poly = PolynomialFeatures(degree=2, interaction_only=False, include_bias=False) #ne gledam interakciju nego stepen obeležja\n",
    "x_interakcije2_train = poly.fit_transform(x_obuka_std)\n",
    "x_interakcije2_test = poly.transform(x_test_std)\n",
    "\n",
    "#Inicijalizacija\n",
    "regression_model_stepen = LinearRegression()\n",
    "\n",
    "#Obuka modela\n",
    "regression_model_stepen.fit(x_interakcije2_train, y_obuka)\n",
    "\n",
    "#Testiranje\n",
    "y_predvidjeno = regression_model_stepen.predict(x_interakcije2_test)\n",
    "\n",
    "#Evaluacija\n",
    "evaluacija_modela(y_test, y_predvidjeno, x_interakcije2_train.shape[0], x_interakcije2_train.shape[1])\n",
    "\n",
    "#Ilustracija koeficijenata\n",
    "plt.figure(figsize=(10,5))\n",
    "plt.bar(range(len(regression_model_stepen.coef_)),regression_model_stepen.coef_)\n",
    "print(\"Koeficijenti: \", regression_model_stepen.coef_)"
   ]
  },
  {
   "cell_type": "code",
   "execution_count": 253,
   "id": "79930cef",
   "metadata": {},
   "outputs": [
    {
     "data": {
      "text/html": [
       "<table class=\"simpletable\">\n",
       "<caption>OLS Regression Results</caption>\n",
       "<tr>\n",
       "  <th>Dep. Variable:</th>       <td>PM_US Post</td>    <th>  R-squared:         </th>  <td>   0.172</td>  \n",
       "</tr>\n",
       "<tr>\n",
       "  <th>Model:</th>                   <td>OLS</td>       <th>  Adj. R-squared:    </th>  <td>   0.172</td>  \n",
       "</tr>\n",
       "<tr>\n",
       "  <th>Method:</th>             <td>Least Squares</td>  <th>  F-statistic:       </th>  <td>   514.9</td>  \n",
       "</tr>\n",
       "<tr>\n",
       "  <th>Date:</th>             <td>Sun, 08 Jan 2023</td> <th>  Prob (F-statistic):</th>   <td>  0.00</td>   \n",
       "</tr>\n",
       "<tr>\n",
       "  <th>Time:</th>                 <td>23:07:56</td>     <th>  Log-Likelihood:    </th> <td>-1.1328e+05</td>\n",
       "</tr>\n",
       "<tr>\n",
       "  <th>No. Observations:</th>      <td> 22316</td>      <th>  AIC:               </th>  <td>2.266e+05</td> \n",
       "</tr>\n",
       "<tr>\n",
       "  <th>Df Residuals:</th>          <td> 22306</td>      <th>  BIC:               </th>  <td>2.267e+05</td> \n",
       "</tr>\n",
       "<tr>\n",
       "  <th>Df Model:</th>              <td>     9</td>      <th>                     </th>      <td> </td>     \n",
       "</tr>\n",
       "<tr>\n",
       "  <th>Covariance Type:</th>      <td>nonrobust</td>    <th>                     </th>      <td> </td>     \n",
       "</tr>\n",
       "</table>\n",
       "<table class=\"simpletable\">\n",
       "<tr>\n",
       "        <td></td>           <th>coef</th>     <th>std err</th>      <th>t</th>      <th>P>|t|</th>  <th>[0.025</th>    <th>0.975]</th>  \n",
       "</tr>\n",
       "<tr>\n",
       "  <th>const</th>         <td> 1242.6215</td> <td>   69.670</td> <td>   17.836</td> <td> 0.000</td> <td> 1106.064</td> <td> 1379.179</td>\n",
       "</tr>\n",
       "<tr>\n",
       "  <th>No</th>            <td>-5.108e-05</td> <td> 2.67e-05</td> <td>   -1.913</td> <td> 0.056</td> <td>   -0.000</td> <td> 1.26e-06</td>\n",
       "</tr>\n",
       "<tr>\n",
       "  <th>season</th>        <td>    3.6110</td> <td>    0.278</td> <td>   12.993</td> <td> 0.000</td> <td>    3.066</td> <td>    4.156</td>\n",
       "</tr>\n",
       "<tr>\n",
       "  <th>DEWP</th>          <td>    0.3789</td> <td>    0.308</td> <td>    1.232</td> <td> 0.218</td> <td>   -0.224</td> <td>    0.982</td>\n",
       "</tr>\n",
       "<tr>\n",
       "  <th>HUMI</th>          <td>   -0.4337</td> <td>    0.080</td> <td>   -5.417</td> <td> 0.000</td> <td>   -0.591</td> <td>   -0.277</td>\n",
       "</tr>\n",
       "<tr>\n",
       "  <th>PRES</th>          <td>   -1.1020</td> <td>    0.067</td> <td>  -16.555</td> <td> 0.000</td> <td>   -1.233</td> <td>   -0.972</td>\n",
       "</tr>\n",
       "<tr>\n",
       "  <th>TEMP</th>          <td>   -2.5746</td> <td>    0.304</td> <td>   -8.476</td> <td> 0.000</td> <td>   -3.170</td> <td>   -1.979</td>\n",
       "</tr>\n",
       "<tr>\n",
       "  <th>Iws</th>           <td>   -0.1178</td> <td>    0.004</td> <td>  -33.023</td> <td> 0.000</td> <td>   -0.125</td> <td>   -0.111</td>\n",
       "</tr>\n",
       "<tr>\n",
       "  <th>precipitation</th> <td>   -0.7734</td> <td>    0.262</td> <td>   -2.947</td> <td> 0.003</td> <td>   -1.288</td> <td>   -0.259</td>\n",
       "</tr>\n",
       "<tr>\n",
       "  <th>Iprec</th>         <td>   -0.3789</td> <td>    0.039</td> <td>   -9.732</td> <td> 0.000</td> <td>   -0.455</td> <td>   -0.303</td>\n",
       "</tr>\n",
       "</table>\n",
       "<table class=\"simpletable\">\n",
       "<tr>\n",
       "  <th>Omnibus:</th>       <td>14002.357</td> <th>  Durbin-Watson:     </th>  <td>   2.009</td> \n",
       "</tr>\n",
       "<tr>\n",
       "  <th>Prob(Omnibus):</th>  <td> 0.000</td>   <th>  Jarque-Bera (JB):  </th> <td>314524.240</td>\n",
       "</tr>\n",
       "<tr>\n",
       "  <th>Skew:</th>           <td> 2.637</td>   <th>  Prob(JB):          </th>  <td>    0.00</td> \n",
       "</tr>\n",
       "<tr>\n",
       "  <th>Kurtosis:</th>       <td>20.619</td>   <th>  Cond. No.          </th>  <td>9.62e+06</td> \n",
       "</tr>\n",
       "</table><br/><br/>Notes:<br/>[1] Standard Errors assume that the covariance matrix of the errors is correctly specified.<br/>[2] The condition number is large, 9.62e+06. This might indicate that there are<br/>strong multicollinearity or other numerical problems."
      ],
      "text/plain": [
       "<class 'statsmodels.iolib.summary.Summary'>\n",
       "\"\"\"\n",
       "                            OLS Regression Results                            \n",
       "==============================================================================\n",
       "Dep. Variable:             PM_US Post   R-squared:                       0.172\n",
       "Model:                            OLS   Adj. R-squared:                  0.172\n",
       "Method:                 Least Squares   F-statistic:                     514.9\n",
       "Date:                Sun, 08 Jan 2023   Prob (F-statistic):               0.00\n",
       "Time:                        23:07:56   Log-Likelihood:            -1.1328e+05\n",
       "No. Observations:               22316   AIC:                         2.266e+05\n",
       "Df Residuals:                   22306   BIC:                         2.267e+05\n",
       "Df Model:                           9                                         \n",
       "Covariance Type:            nonrobust                                         \n",
       "=================================================================================\n",
       "                    coef    std err          t      P>|t|      [0.025      0.975]\n",
       "---------------------------------------------------------------------------------\n",
       "const          1242.6215     69.670     17.836      0.000    1106.064    1379.179\n",
       "No            -5.108e-05   2.67e-05     -1.913      0.056      -0.000    1.26e-06\n",
       "season            3.6110      0.278     12.993      0.000       3.066       4.156\n",
       "DEWP              0.3789      0.308      1.232      0.218      -0.224       0.982\n",
       "HUMI             -0.4337      0.080     -5.417      0.000      -0.591      -0.277\n",
       "PRES             -1.1020      0.067    -16.555      0.000      -1.233      -0.972\n",
       "TEMP             -2.5746      0.304     -8.476      0.000      -3.170      -1.979\n",
       "Iws              -0.1178      0.004    -33.023      0.000      -0.125      -0.111\n",
       "precipitation    -0.7734      0.262     -2.947      0.003      -1.288      -0.259\n",
       "Iprec            -0.3789      0.039     -9.732      0.000      -0.455      -0.303\n",
       "==============================================================================\n",
       "Omnibus:                    14002.357   Durbin-Watson:                   2.009\n",
       "Prob(Omnibus):                  0.000   Jarque-Bera (JB):           314524.240\n",
       "Skew:                           2.637   Prob(JB):                         0.00\n",
       "Kurtosis:                      20.619   Cond. No.                     9.62e+06\n",
       "==============================================================================\n",
       "\n",
       "Notes:\n",
       "[1] Standard Errors assume that the covariance matrix of the errors is correctly specified.\n",
       "[2] The condition number is large, 9.62e+06. This might indicate that there are\n",
       "strong multicollinearity or other numerical problems.\n",
       "\"\"\""
      ]
     },
     "execution_count": 253,
     "metadata": {},
     "output_type": "execute_result"
    }
   ],
   "source": [
    "import statsmodels.api as sm\n",
    "X = sm.add_constant(x_obuka)\n",
    "model = sm.OLS(y_obuka, X).fit()\n",
    "model.summary()"
   ]
  },
  {
   "cell_type": "code",
   "execution_count": 254,
   "id": "b4a6ff1a",
   "metadata": {},
   "outputs": [
    {
     "name": "stdout",
     "output_type": "stream",
     "text": [
      "Mere uspešnosti:\n",
      "Srednja kvadratna greška:  1585.8211552716439\n",
      "Srednja apsolutna greška:  27.189212519300018\n",
      "Koren srednje kvadratne greške:  39.82237003584347\n",
      "R kvadrat skor:  0.17070248413118072\n",
      "Prilagođeni R kvadrat skor:  0.17036788009447223\n",
      "   Prave vrednosti  Predviđene vrednosti\n",
      "0             8.00                 30.53\n",
      "1            81.00                 75.98\n",
      "2            71.00                 39.91\n",
      "3            49.00                 42.20\n",
      "4            19.00                 44.99\n",
      "5            44.00                 39.89\n",
      "6            33.00                 67.44\n",
      "7            24.00                 56.77\n",
      "Koeficijenti:  [ -0.50599073   4.10594672   3.49961012  -7.67531404  -9.88601241\n",
      " -23.52443124  -8.61365933  -0.83946907  -2.79540588]\n"
     ]
    },
    {
     "data": {
      "image/png": "[encoded data removed]",
      "text/plain": [
       "<Figure size 1000x500 with 1 Axes>"
      ]
     },
     "metadata": {},
     "output_type": "display_data"
    }
   ],
   "source": [
    "#Ridge regresija\n",
    "#alfa određuje koliki je uticaj regularizacionog dela\n",
    "\n",
    "#Inicijalizacija\n",
    "ridge_model = Ridge(alpha = 1)\n",
    "\n",
    "#Obuka modela\n",
    "ridge_model.fit(x_obuka_std, y_obuka)\n",
    "\n",
    "#Testiranje\n",
    "y_predvidjeno = ridge_model.predict(x_test_std)\n",
    "\n",
    "#Evaluacija\n",
    "evaluacija_modela(y_test, y_predvidjeno, x_obuka_std.shape[0], x_test_std.shape[1])\n",
    "\n",
    "\n",
    "#Ilustracija koeficijenata\n",
    "plt.figure(figsize=(10,5))\n",
    "plt.bar(range(len(ridge_model.coef_)),ridge_model.coef_)\n",
    "print(\"Koeficijenti: \", ridge_model.coef_)"
   ]
  },
  {
   "cell_type": "code",
   "execution_count": 255,
   "id": "2c01297a",
   "metadata": {},
   "outputs": [
    {
     "name": "stdout",
     "output_type": "stream",
     "text": [
      "Mere uspešnosti:\n",
      "Srednja kvadratna greška:  1609.0600898270625\n",
      "Srednja apsolutna greška:  27.503319282519495\n",
      "Koren srednje kvadratne greške:  40.11309125244603\n",
      "R kvadrat skor:  0.15854979551671622\n",
      "Prilagođeni R kvadrat skor:  0.15821028812676063\n",
      "   Prave vrednosti  Predviđene vrednosti\n",
      "0             8.00                 32.52\n",
      "1            81.00                 69.52\n",
      "2            71.00                 42.43\n",
      "3            49.00                 43.06\n",
      "4            19.00                 47.44\n",
      "5            44.00                 39.53\n",
      "6            33.00                 66.34\n",
      "7            24.00                 68.55\n",
      "Koeficijenti:  [-0.03928969  1.52897083 -7.40864895 -0.         -0.         -5.50497194\n",
      " -7.59451273 -0.08618263 -1.93467936]\n"
     ]
    },
    {
     "data": {
      "image/png": "[encoded data removed]",
      "text/plain": [
       "<Figure size 1000x500 with 1 Axes>"
      ]
     },
     "metadata": {},
     "output_type": "display_data"
    }
   ],
   "source": [
    "#Lasso regresija\n",
    "\n",
    "#Inicijalizacija\n",
    "lasso_model = Lasso(alpha = 1)\n",
    "\n",
    "#Obuka modela\n",
    "lasso_model.fit(x_obuka_std, y_obuka)\n",
    "\n",
    "#Testiranje\n",
    "y_predvidjeno = lasso_model.predict(x_test_std)\n",
    "\n",
    "#Evaluacija\n",
    "evaluacija_modela(y_test, y_predvidjeno, x_obuka_std.shape[0], x_test_std.shape[1])\n",
    "\n",
    "#Ilustracija koeficijenata\n",
    "plt.figure(figsize=(10,5))\n",
    "plt.bar(range(len(lasso_model.coef_)),lasso_model.coef_)\n",
    "print(\"Koeficijenti: \", lasso_model.coef_)"
   ]
  },
  {
   "cell_type": "code",
   "execution_count": 256,
   "id": "df1c0eac",
   "metadata": {},
   "outputs": [
    {
     "name": "stdout",
     "output_type": "stream",
     "text": [
      "Mere uspešnosti:\n",
      "Srednja kvadratna greška:  1480.7478662782285\n",
      "Srednja apsolutna greška:  26.269950645093623\n",
      "Koren srednje kvadratne greške:  38.48048682486006\n",
      "R kvadrat skor:  0.225650053254434\n",
      "Prilagođeni R kvadrat skor:  0.22408535870555435\n",
      "   Prave vrednosti  Predviđene vrednosti\n",
      "0             8.00                 32.76\n",
      "1            81.00                 73.41\n",
      "2            71.00                 29.02\n",
      "3            49.00                 43.66\n",
      "4            19.00                 40.41\n",
      "5            44.00                 30.17\n",
      "6            33.00                 70.86\n",
      "7            24.00                 50.54\n",
      "Koeficijenti:  [-5.53516558e-01  1.95711882e+00  3.36311028e+01 -2.08782971e+01\n",
      " -9.40012803e+00 -5.03563119e+01 -8.13689327e+00 -4.41719103e+00\n",
      " -7.07850015e+00  3.99084705e+00  8.16824005e+00 -4.50312332e+00\n",
      " -2.73380099e+00 -9.22347975e+00  6.05898253e-01  2.79105213e-01\n",
      " -3.54997890e-01 -4.63942620e-01 -3.01303701e+00 -9.93662704e-01\n",
      " -7.90096219e+00 -9.54859191e-01 -2.43318483e+00  8.19276285e-01\n",
      "  2.64343129e+00 -1.56731373e+01 -5.19249888e+00  8.59035483e+00\n",
      " -9.50624897e+00 -6.11932962e+00  1.32840837e+01 -3.54430743e+00\n",
      " -4.85295116e+00  4.41205875e+00  4.63683040e+00  1.63192045e+01\n",
      " -1.80344065e-01  3.80925346e-01  2.19552206e+00 -6.78254077e+00\n",
      "  1.19384069e+01  1.40023925e+01 -4.82546931e-02  1.31325095e+00\n",
      "  1.75446289e-01]\n"
     ]
    },
    {
     "data": {
      "image/png": "[encoded data removed]",
      "text/plain": [
       "<Figure size 1000x500 with 1 Axes>"
      ]
     },
     "metadata": {},
     "output_type": "display_data"
    }
   ],
   "source": [
    "#Ridge regresija\n",
    "#alfa određuje koliki je uticaj regularizacionog dela\n",
    "\n",
    "#Inicijalizacija\n",
    "ridge_model = Ridge(alpha = 1)\n",
    "\n",
    "#Obuka modela\n",
    "ridge_model.fit(x_interakcije_train, y_obuka)\n",
    "\n",
    "#Testiranje\n",
    "y_predvidjeno = ridge_model.predict(x_interakcije_test)\n",
    "\n",
    "#Evaluacija\n",
    "evaluacija_modela(y_test, y_predvidjeno, x_interakcije_train.shape[0], x_interakcije_test.shape[1])\n",
    "\n",
    "\n",
    "#Ilustracija koeficijenata\n",
    "plt.figure(figsize=(10,5))\n",
    "plt.bar(range(len(ridge_model.coef_)),ridge_model.coef_)\n",
    "print(\"Koeficijenti: \", ridge_model.coef_)"
   ]
  },
  {
   "cell_type": "code",
   "execution_count": 257,
   "id": "63babd33",
   "metadata": {},
   "outputs": [
    {
     "name": "stdout",
     "output_type": "stream",
     "text": [
      "Mere uspešnosti:\n",
      "Srednja kvadratna greška:  1536.7309966164496\n",
      "Srednja apsolutna greška:  26.736556372893034\n",
      "Koren srednje kvadratne greške:  39.201160653945564\n",
      "R kvadrat skor:  0.19637394556365562\n",
      "Prilagođeni R kvadrat skor:  0.19475009408410304\n",
      "   Prave vrednosti  Predviđene vrednosti\n",
      "0             8.00                 37.92\n",
      "1            81.00                 68.72\n",
      "2            71.00                 34.35\n",
      "3            49.00                 46.17\n",
      "4            19.00                 44.84\n",
      "5            44.00                 33.78\n",
      "6            33.00                 71.53\n",
      "7            24.00                 60.93\n",
      "Koeficijenti:  [-0.          0.         -9.30060194 -0.         -0.         -3.58356323\n",
      " -7.44713768 -0.03629788 -0.          2.05791817 -0.         -0.\n",
      " -0.         -0.          0.         -0.         -0.         -4.95702517\n",
      " -0.          0.         -1.54782959 -0.14081065 -0.         -0.\n",
      " -0.5592393   3.3082015  -0.79737978  0.          0.          0.\n",
      "  2.17449956 -0.         -0.         -0.03757718 -1.66317056  0.\n",
      " -0.         -0.         -0.          1.0097113   0.          1.05944764\n",
      "  0.          0.16593744 -0.        ]\n"
     ]
    },
    {
     "data": {
      "image/png": "[encoded data removed]",
      "text/plain": [
       "<Figure size 1000x500 with 1 Axes>"
      ]
     },
     "metadata": {},
     "output_type": "display_data"
    }
   ],
   "source": [
    "#Lasso regresija\n",
    "\n",
    "#Inicijalizacija\n",
    "lasso_model = Lasso(alpha = 1)\n",
    "\n",
    "#Obuka modela\n",
    "lasso_model.fit(x_interakcije_train, y_obuka)\n",
    "\n",
    "#Testiranje\n",
    "y_predvidjeno = lasso_model.predict(x_interakcije_test)\n",
    "\n",
    "#Evaluacija\n",
    "evaluacija_modela(y_test, y_predvidjeno, x_interakcije_train.shape[0], x_interakcije_test.shape[1])\n",
    "\n",
    "#Ilustracija koeficijenata\n",
    "plt.figure(figsize=(10,5))\n",
    "plt.bar(range(len(lasso_model.coef_)),lasso_model.coef_)\n",
    "print(\"Koeficijenti: \", lasso_model.coef_)"
   ]
  },
  {
   "cell_type": "code",
   "execution_count": 258,
   "id": "30862f81",
   "metadata": {},
   "outputs": [
    {
     "name": "stdout",
     "output_type": "stream",
     "text": [
      "Mere uspešnosti:\n",
      "Srednja kvadratna greška:  1456.1507298528195\n",
      "Srednja apsolutna greška:  25.9323219185951\n",
      "Koren srednje kvadratne greške:  38.15954310330274\n",
      "R kvadrat skor:  0.23851300697860967\n",
      "Prilagođeni R kvadrat skor:  0.2366658169321988\n",
      "   Prave vrednosti  Predviđene vrednosti\n",
      "0             8.00                 28.37\n",
      "1            81.00                 74.64\n",
      "2            71.00                 30.61\n",
      "3            49.00                 42.31\n",
      "4            19.00                 43.27\n",
      "5            44.00                 28.45\n",
      "6            33.00                 73.06\n",
      "7            24.00                 54.37\n",
      "Koeficijenti:  [-5.07276764e-01  5.49878506e+00 -1.34311267e+01  2.22299750e-01\n",
      " -8.49267710e+00 -2.13774257e+00 -1.23167950e+01 -3.96132201e+00\n",
      " -9.81461074e+00 -2.22677140e+00  3.93641056e+00  1.24942751e+01\n",
      " -6.14889951e+00 -1.70426799e+00 -1.13209334e+01  1.67772007e+00\n",
      "  2.12062935e-01 -6.00176803e-02  7.38678831e+00 -2.59127784e-01\n",
      " -3.04087717e+00 -1.31271909e+00 -5.46490007e+00 -9.26495091e-01\n",
      " -2.16961774e+00 -1.67359768e-01 -2.21097981e+01  3.86277330e+00\n",
      " -6.04776892e+01 -1.64259511e+01  5.54404268e+00 -9.42529581e+00\n",
      " -1.25698460e+00  2.10333105e+00  3.43745265e+01  2.12406710e+01\n",
      " -3.94372780e+00  4.29581070e+00  3.34386631e+00  7.37457832e-01\n",
      "  5.68152126e+01  4.00005815e-01  4.13801337e-01  1.42627855e+00\n",
      "  2.81604459e+01 -4.56614347e+00  1.21185376e+01  7.02214070e+00\n",
      "  1.78183060e+00 -1.86745065e-01  9.54880113e-01 -3.29965322e-03\n",
      "  1.47820603e-01  1.26187160e-01]\n"
     ]
    },
    {
     "data": {
      "image/png": "[encoded data removed]",
      "text/plain": [
       "<Figure size 1000x500 with 1 Axes>"
      ]
     },
     "metadata": {},
     "output_type": "display_data"
    }
   ],
   "source": [
    "#NAJBOLJI MODEL LINEARNE REGRESIJE\n",
    "#Ridge regresija\n",
    "#alfa određuje koliki je uticaj regularizacionog dela\n",
    "\n",
    "#Inicijalizacija\n",
    "ridge_model = Ridge(alpha = 1)\n",
    "\n",
    "#Obuka modela\n",
    "ridge_model.fit(x_interakcije2_train, y_obuka)\n",
    "\n",
    "#Testiranje\n",
    "y_predvidjeno = ridge_model.predict(x_interakcije2_test)\n",
    "\n",
    "#Evaluacija\n",
    "evaluacija_modela(y_test, y_predvidjeno, x_interakcije2_train.shape[0], x_interakcije2_test.shape[1])\n",
    "\n",
    "\n",
    "#Ilustracija koeficijenata\n",
    "plt.figure(figsize=(10,5))\n",
    "plt.bar(range(len(ridge_model.coef_)),ridge_model.coef_)\n",
    "print(\"Koeficijenti: \", ridge_model.coef_)"
   ]
  },
  {
   "cell_type": "code",
   "execution_count": 259,
   "id": "24c36eca",
   "metadata": {
    "scrolled": true
   },
   "outputs": [
    {
     "name": "stdout",
     "output_type": "stream",
     "text": [
      "Mere uspešnosti:\n",
      "Srednja kvadratna greška:  1518.2646041036182\n",
      "Srednja apsolutna greška:  26.507309962655235\n",
      "Koren srednje kvadratne greške:  38.9649150403747\n",
      "R kvadrat skor:  0.2060308563615989\n",
      "Prilagođeni R kvadrat skor:  0.20410487218494588\n",
      "   Prave vrednosti  Predviđene vrednosti\n",
      "0             8.00                 36.48\n",
      "1            81.00                 69.50\n",
      "2            71.00                 33.42\n",
      "3            49.00                 45.11\n",
      "4            19.00                 44.14\n",
      "5            44.00                 32.05\n",
      "6            33.00                 73.57\n",
      "7            24.00                 62.90\n",
      "Koeficijenti:  [-0.00000000e+00  1.89790992e+00 -8.48385102e+00 -0.00000000e+00\n",
      " -0.00000000e+00 -1.24319192e+00 -9.30439731e+00 -0.00000000e+00\n",
      " -0.00000000e+00 -1.12379437e+00  1.88842232e+00  0.00000000e+00\n",
      "  0.00000000e+00 -0.00000000e+00  0.00000000e+00  1.49452282e-01\n",
      " -0.00000000e+00 -0.00000000e+00  5.43750941e+00 -4.78592038e+00\n",
      " -0.00000000e+00  0.00000000e+00 -0.00000000e+00 -8.01826834e-02\n",
      " -0.00000000e+00 -0.00000000e+00 -3.00143649e+00 -0.00000000e+00\n",
      "  5.10994066e-02 -0.00000000e+00  0.00000000e+00  0.00000000e+00\n",
      "  0.00000000e+00 -0.00000000e+00  1.94733655e+00 -0.00000000e+00\n",
      " -0.00000000e+00 -0.00000000e+00 -2.44340860e+00 -7.76441951e-01\n",
      "  0.00000000e+00 -0.00000000e+00 -0.00000000e+00 -0.00000000e+00\n",
      " -0.00000000e+00  4.44776362e-01  0.00000000e+00  8.39168183e-01\n",
      "  7.49842955e-01  0.00000000e+00  0.00000000e+00 -7.90188988e-03\n",
      " -0.00000000e+00  6.01549030e-02]\n"
     ]
    },
    {
     "data": {
      "image/png": "[encoded data removed]",
      "text/plain": [
       "<Figure size 1000x500 with 1 Axes>"
      ]
     },
     "metadata": {},
     "output_type": "display_data"
    }
   ],
   "source": [
    "#Lasso regresija\n",
    "\n",
    "#Inicijalizacija\n",
    "lasso_model = Lasso(alpha = 1)\n",
    "\n",
    "#Obuka modela\n",
    "lasso_model.fit(x_interakcije2_train, y_obuka)\n",
    "\n",
    "#Testiranje\n",
    "y_predvidjeno = lasso_model.predict(x_interakcije2_test)\n",
    "\n",
    "#Evaluacija\n",
    "evaluacija_modela(y_test, y_predvidjeno, x_interakcije2_train.shape[0], x_interakcije2_test.shape[1])\n",
    "\n",
    "#Ilustracija koeficijenata\n",
    "plt.figure(figsize=(10,5))\n",
    "plt.bar(range(len(lasso_model.coef_)),lasso_model.coef_)\n",
    "print(\"Koeficijenti: \", lasso_model.coef_)"
   ]
  },
  {
   "cell_type": "code",
   "execution_count": 260,
   "id": "cab32da6",
   "metadata": {},
   "outputs": [],
   "source": [
    "#Knn \n",
    "#Use .loc[] for label-based indexing\n",
    "#Use .iloc[] for position-based indexing, and\n",
    "#df2.loc[df2.loc[:, 'PS_US Post']>20, :]\n",
    "#df.loc[df['shield'] > 35] = 0\n"
   ]
  },
  {
   "cell_type": "code",
   "execution_count": 261,
   "id": "035bc7f3",
   "metadata": {},
   "outputs": [],
   "source": [
    "def labele_opasnosti(value):\n",
    "    #converted_num = int(direction)\n",
    "\n",
    "    if 0 < value <= 55.4:\n",
    "            return '1'\n",
    "    elif 55.4 < value <= 150.5:\n",
    "            return '2'\n",
    "    else:\n",
    "            return '3'\n"
   ]
  },
  {
   "cell_type": "code",
   "execution_count": 262,
   "id": "cff55224",
   "metadata": {
    "scrolled": true
   },
   "outputs": [
    {
     "name": "stderr",
     "output_type": "stream",
     "text": [
      "C:\\Users\\Svetlana\\AppData\\Local\\Temp\\ipykernel_12060\\1371086337.py:1: SettingWithCopyWarning: \n",
      "A value is trying to be set on a copy of a slice from a DataFrame.\n",
      "Try using .loc[row_indexer,col_indexer] = value instead\n",
      "\n",
      "See the caveats in the documentation: https://pandas.pydata.org/pandas-docs/stable/user_guide/indexing.html#returning-a-view-versus-a-copy\n",
      "  df2['PM_US Post (Opasnost)'] = df2['PM_US Post'].apply(labele_opasnosti)\n"
     ]
    }
   ],
   "source": [
    "df2['PM_US Post (Opasnost)'] = df2['PM_US Post'].apply(labele_opasnosti)"
   ]
  },
  {
   "cell_type": "code",
   "execution_count": 263,
   "id": "11bcc034",
   "metadata": {},
   "outputs": [
    {
     "data": {
      "text/html": [
       "<div>\n",
       "<style scoped>\n",
       "    .dataframe tbody tr th:only-of-type {\n",
       "        vertical-align: middle;\n",
       "    }\n",
       "\n",
       "    .dataframe tbody tr th {\n",
       "        vertical-align: top;\n",
       "    }\n",
       "\n",
       "    .dataframe thead th {\n",
       "        text-align: right;\n",
       "    }\n",
       "</style>\n",
       "<table border=\"1\" class=\"dataframe\">\n",
       "  <thead>\n",
       "    <tr style=\"text-align: right;\">\n",
       "      <th></th>\n",
       "      <th>No</th>\n",
       "      <th>year</th>\n",
       "      <th>month</th>\n",
       "      <th>day</th>\n",
       "      <th>hour</th>\n",
       "      <th>season</th>\n",
       "      <th>PM_US Post</th>\n",
       "      <th>DEWP</th>\n",
       "      <th>HUMI</th>\n",
       "      <th>PRES</th>\n",
       "      <th>TEMP</th>\n",
       "      <th>cbwd</th>\n",
       "      <th>Iws</th>\n",
       "      <th>precipitation</th>\n",
       "      <th>Iprec</th>\n",
       "      <th>PM_US Post (Opasnost)</th>\n",
       "    </tr>\n",
       "  </thead>\n",
       "  <tbody>\n",
       "    <tr>\n",
       "      <th>17442</th>\n",
       "      <td>17443</td>\n",
       "      <td>2011</td>\n",
       "      <td>12</td>\n",
       "      <td>28</td>\n",
       "      <td>18</td>\n",
       "      <td>4</td>\n",
       "      <td>36.00</td>\n",
       "      <td>4.00</td>\n",
       "      <td>62.00</td>\n",
       "      <td>1027.10</td>\n",
       "      <td>11.00</td>\n",
       "      <td>5</td>\n",
       "      <td>8.00</td>\n",
       "      <td>0.00</td>\n",
       "      <td>0.00</td>\n",
       "      <td>1</td>\n",
       "    </tr>\n",
       "    <tr>\n",
       "      <th>17443</th>\n",
       "      <td>17444</td>\n",
       "      <td>2011</td>\n",
       "      <td>12</td>\n",
       "      <td>28</td>\n",
       "      <td>19</td>\n",
       "      <td>4</td>\n",
       "      <td>41.00</td>\n",
       "      <td>4.00</td>\n",
       "      <td>62.00</td>\n",
       "      <td>1027.10</td>\n",
       "      <td>11.00</td>\n",
       "      <td>5</td>\n",
       "      <td>9.00</td>\n",
       "      <td>0.00</td>\n",
       "      <td>0.00</td>\n",
       "      <td>1</td>\n",
       "    </tr>\n",
       "    <tr>\n",
       "      <th>17444</th>\n",
       "      <td>17445</td>\n",
       "      <td>2011</td>\n",
       "      <td>12</td>\n",
       "      <td>28</td>\n",
       "      <td>20</td>\n",
       "      <td>4</td>\n",
       "      <td>44.00</td>\n",
       "      <td>5.00</td>\n",
       "      <td>71.07</td>\n",
       "      <td>1028.10</td>\n",
       "      <td>10.00</td>\n",
       "      <td>5</td>\n",
       "      <td>11.00</td>\n",
       "      <td>0.00</td>\n",
       "      <td>0.00</td>\n",
       "      <td>1</td>\n",
       "    </tr>\n",
       "    <tr>\n",
       "      <th>17445</th>\n",
       "      <td>17446</td>\n",
       "      <td>2011</td>\n",
       "      <td>12</td>\n",
       "      <td>28</td>\n",
       "      <td>21</td>\n",
       "      <td>4</td>\n",
       "      <td>40.00</td>\n",
       "      <td>5.00</td>\n",
       "      <td>71.07</td>\n",
       "      <td>1028.10</td>\n",
       "      <td>10.00</td>\n",
       "      <td>5</td>\n",
       "      <td>13.00</td>\n",
       "      <td>0.00</td>\n",
       "      <td>0.00</td>\n",
       "      <td>1</td>\n",
       "    </tr>\n",
       "    <tr>\n",
       "      <th>17446</th>\n",
       "      <td>17447</td>\n",
       "      <td>2011</td>\n",
       "      <td>12</td>\n",
       "      <td>28</td>\n",
       "      <td>22</td>\n",
       "      <td>4</td>\n",
       "      <td>25.00</td>\n",
       "      <td>6.00</td>\n",
       "      <td>76.18</td>\n",
       "      <td>1028.10</td>\n",
       "      <td>10.00</td>\n",
       "      <td>5</td>\n",
       "      <td>15.00</td>\n",
       "      <td>0.00</td>\n",
       "      <td>0.00</td>\n",
       "      <td>1</td>\n",
       "    </tr>\n",
       "  </tbody>\n",
       "</table>\n",
       "</div>"
      ],
      "text/plain": [
       "          No  year  month  day  hour  season  PM_US Post  DEWP  HUMI    PRES  \\\n",
       "17442  17443  2011     12   28    18       4       36.00  4.00 62.00 1027.10   \n",
       "17443  17444  2011     12   28    19       4       41.00  4.00 62.00 1027.10   \n",
       "17444  17445  2011     12   28    20       4       44.00  5.00 71.07 1028.10   \n",
       "17445  17446  2011     12   28    21       4       40.00  5.00 71.07 1028.10   \n",
       "17446  17447  2011     12   28    22       4       25.00  6.00 76.18 1028.10   \n",
       "\n",
       "       TEMP cbwd   Iws  precipitation  Iprec PM_US Post (Opasnost)  \n",
       "17442 11.00    5  8.00           0.00   0.00                     1  \n",
       "17443 11.00    5  9.00           0.00   0.00                     1  \n",
       "17444 10.00    5 11.00           0.00   0.00                     1  \n",
       "17445 10.00    5 13.00           0.00   0.00                     1  \n",
       "17446 10.00    5 15.00           0.00   0.00                     1  "
      ]
     },
     "execution_count": 263,
     "metadata": {},
     "output_type": "execute_result"
    }
   ],
   "source": [
    "df2.head()\n",
    "\n",
    "#provera jel valja\n"
   ]
  },
  {
   "cell_type": "code",
   "execution_count": 264,
   "id": "10c57b0d",
   "metadata": {},
   "outputs": [],
   "source": [
    "def evaluation_classifier(conf_mat):\n",
    "    TP = conf_mat[1, 1]\n",
    "    TN = conf_mat[0, 0]\n",
    "    FP = conf_mat[0, 1]\n",
    "    FN = conf_mat[1, 0]\n",
    "    precision = TP/(TP+FP)\n",
    "    accuracy = (TP+TN)/(TP+TN+FP+FN)\n",
    "    sensitivity = TP/(TP+FN)\n",
    "    specificity = TN/(TN+FP)\n",
    "    F_score = 2*precision*sensitivity/(precision+sensitivity)\n",
    "    print('precision: ', precision)\n",
    "    print('accuracy: ', accuracy)\n",
    "    print('sensitivity/recall: ', sensitivity)\n",
    "    print('specificity: ', specificity)\n",
    "    print('F score: ', F_score)"
   ]
  },
  {
   "cell_type": "code",
   "execution_count": 265,
   "id": "a8035daa",
   "metadata": {},
   "outputs": [
    {
     "name": "stdout",
     "output_type": "stream",
     "text": [
      "obuka shape: (27098, 15)\n",
      "test shape: (27098,)\n",
      "test shape: (4782, 15)\n"
     ]
    }
   ],
   "source": [
    "#X = df2.iloc[:, 1:].copy() # obelezja\n",
    "#y = df2.iloc[:, 0].copy() # labele\n",
    "\n",
    "X=df2.iloc[:,:-1]\n",
    "y = df2.iloc[:,-1]\n",
    "\n",
    "X_train, X_test, Y_train, Y_test = train_test_split(X, y, test_size=0.15, random_state=11)\n",
    "\n",
    "print(\"obuka shape: {}\".format(X_train.shape))\n",
    "print(\"test shape: {}\".format(Y_train.shape))\n",
    "print(\"test shape: {}\".format(X_test.shape))\n",
    "\n"
   ]
  },
  {
   "cell_type": "code",
   "execution_count": 266,
   "id": "36253013",
   "metadata": {},
   "outputs": [
    {
     "name": "stderr",
     "output_type": "stream",
     "text": [
      "C:\\Users\\Svetlana\\anaconda3\\lib\\site-packages\\sklearn\\neighbors\\_classification.py:228: FutureWarning: Unlike other reduction functions (e.g. `skew`, `kurtosis`), the default behavior of `mode` typically preserves the axis it acts along. In SciPy 1.11.0, this behavior will change: the default value of `keepdims` will become False, the `axis` over which the statistic is taken will be eliminated, and the value None will no longer be accepted. Set `keepdims` to True or False to avoid this warning.\n",
      "  mode, _ = stats.mode(_y[neigh_ind, k], axis=1)\n",
      "C:\\Users\\Svetlana\\anaconda3\\lib\\site-packages\\sklearn\\neighbors\\_classification.py:228: FutureWarning: Unlike other reduction functions (e.g. `skew`, `kurtosis`), the default behavior of `mode` typically preserves the axis it acts along. In SciPy 1.11.0, this behavior will change: the default value of `keepdims` will become False, the `axis` over which the statistic is taken will be eliminated, and the value None will no longer be accepted. Set `keepdims` to True or False to avoid this warning.\n",
      "  mode, _ = stats.mode(_y[neigh_ind, k], axis=1)\n",
      "C:\\Users\\Svetlana\\anaconda3\\lib\\site-packages\\sklearn\\neighbors\\_classification.py:228: FutureWarning: Unlike other reduction functions (e.g. `skew`, `kurtosis`), the default behavior of `mode` typically preserves the axis it acts along. In SciPy 1.11.0, this behavior will change: the default value of `keepdims` will become False, the `axis` over which the statistic is taken will be eliminated, and the value None will no longer be accepted. Set `keepdims` to True or False to avoid this warning.\n",
      "  mode, _ = stats.mode(_y[neigh_ind, k], axis=1)\n",
      "C:\\Users\\Svetlana\\anaconda3\\lib\\site-packages\\sklearn\\neighbors\\_classification.py:228: FutureWarning: Unlike other reduction functions (e.g. `skew`, `kurtosis`), the default behavior of `mode` typically preserves the axis it acts along. In SciPy 1.11.0, this behavior will change: the default value of `keepdims` will become False, the `axis` over which the statistic is taken will be eliminated, and the value None will no longer be accepted. Set `keepdims` to True or False to avoid this warning.\n",
      "  mode, _ = stats.mode(_y[neigh_ind, k], axis=1)\n",
      "C:\\Users\\Svetlana\\anaconda3\\lib\\site-packages\\sklearn\\neighbors\\_classification.py:228: FutureWarning: Unlike other reduction functions (e.g. `skew`, `kurtosis`), the default behavior of `mode` typically preserves the axis it acts along. In SciPy 1.11.0, this behavior will change: the default value of `keepdims` will become False, the `axis` over which the statistic is taken will be eliminated, and the value None will no longer be accepted. Set `keepdims` to True or False to avoid this warning.\n",
      "  mode, _ = stats.mode(_y[neigh_ind, k], axis=1)\n",
      "C:\\Users\\Svetlana\\anaconda3\\lib\\site-packages\\sklearn\\neighbors\\_classification.py:228: FutureWarning: Unlike other reduction functions (e.g. `skew`, `kurtosis`), the default behavior of `mode` typically preserves the axis it acts along. In SciPy 1.11.0, this behavior will change: the default value of `keepdims` will become False, the `axis` over which the statistic is taken will be eliminated, and the value None will no longer be accepted. Set `keepdims` to True or False to avoid this warning.\n",
      "  mode, _ = stats.mode(_y[neigh_ind, k], axis=1)\n",
      "C:\\Users\\Svetlana\\anaconda3\\lib\\site-packages\\sklearn\\neighbors\\_classification.py:228: FutureWarning: Unlike other reduction functions (e.g. `skew`, `kurtosis`), the default behavior of `mode` typically preserves the axis it acts along. In SciPy 1.11.0, this behavior will change: the default value of `keepdims` will become False, the `axis` over which the statistic is taken will be eliminated, and the value None will no longer be accepted. Set `keepdims` to True or False to avoid this warning.\n",
      "  mode, _ = stats.mode(_y[neigh_ind, k], axis=1)\n",
      "C:\\Users\\Svetlana\\anaconda3\\lib\\site-packages\\sklearn\\neighbors\\_classification.py:228: FutureWarning: Unlike other reduction functions (e.g. `skew`, `kurtosis`), the default behavior of `mode` typically preserves the axis it acts along. In SciPy 1.11.0, this behavior will change: the default value of `keepdims` will become False, the `axis` over which the statistic is taken will be eliminated, and the value None will no longer be accepted. Set `keepdims` to True or False to avoid this warning.\n",
      "  mode, _ = stats.mode(_y[neigh_ind, k], axis=1)\n",
      "C:\\Users\\Svetlana\\anaconda3\\lib\\site-packages\\sklearn\\neighbors\\_classification.py:228: FutureWarning: Unlike other reduction functions (e.g. `skew`, `kurtosis`), the default behavior of `mode` typically preserves the axis it acts along. In SciPy 1.11.0, this behavior will change: the default value of `keepdims` will become False, the `axis` over which the statistic is taken will be eliminated, and the value None will no longer be accepted. Set `keepdims` to True or False to avoid this warning.\n",
      "  mode, _ = stats.mode(_y[neigh_ind, k], axis=1)\n",
      "C:\\Users\\Svetlana\\anaconda3\\lib\\site-packages\\sklearn\\neighbors\\_classification.py:228: FutureWarning: Unlike other reduction functions (e.g. `skew`, `kurtosis`), the default behavior of `mode` typically preserves the axis it acts along. In SciPy 1.11.0, this behavior will change: the default value of `keepdims` will become False, the `axis` over which the statistic is taken will be eliminated, and the value None will no longer be accepted. Set `keepdims` to True or False to avoid this warning.\n",
      "  mode, _ = stats.mode(_y[neigh_ind, k], axis=1)\n"
     ]
    },
    {
     "name": "stdout",
     "output_type": "stream",
     "text": [
      "za parametre k= 1  i m = euclidean  tacnost je:  0.9552697616060225  a mat. konf. je:\n",
      "[[20426.   577.     0.]\n",
      " [  670.  8959.    85.]\n",
      " [    0.    94.  1069.]]\n"
     ]
    },
    {
     "name": "stderr",
     "output_type": "stream",
     "text": [
      "C:\\Users\\Svetlana\\anaconda3\\lib\\site-packages\\sklearn\\neighbors\\_classification.py:228: FutureWarning: Unlike other reduction functions (e.g. `skew`, `kurtosis`), the default behavior of `mode` typically preserves the axis it acts along. In SciPy 1.11.0, this behavior will change: the default value of `keepdims` will become False, the `axis` over which the statistic is taken will be eliminated, and the value None will no longer be accepted. Set `keepdims` to True or False to avoid this warning.\n",
      "  mode, _ = stats.mode(_y[neigh_ind, k], axis=1)\n",
      "C:\\Users\\Svetlana\\anaconda3\\lib\\site-packages\\sklearn\\neighbors\\_classification.py:228: FutureWarning: Unlike other reduction functions (e.g. `skew`, `kurtosis`), the default behavior of `mode` typically preserves the axis it acts along. In SciPy 1.11.0, this behavior will change: the default value of `keepdims` will become False, the `axis` over which the statistic is taken will be eliminated, and the value None will no longer be accepted. Set `keepdims` to True or False to avoid this warning.\n",
      "  mode, _ = stats.mode(_y[neigh_ind, k], axis=1)\n",
      "C:\\Users\\Svetlana\\anaconda3\\lib\\site-packages\\sklearn\\neighbors\\_classification.py:228: FutureWarning: Unlike other reduction functions (e.g. `skew`, `kurtosis`), the default behavior of `mode` typically preserves the axis it acts along. In SciPy 1.11.0, this behavior will change: the default value of `keepdims` will become False, the `axis` over which the statistic is taken will be eliminated, and the value None will no longer be accepted. Set `keepdims` to True or False to avoid this warning.\n",
      "  mode, _ = stats.mode(_y[neigh_ind, k], axis=1)\n",
      "C:\\Users\\Svetlana\\anaconda3\\lib\\site-packages\\sklearn\\neighbors\\_classification.py:228: FutureWarning: Unlike other reduction functions (e.g. `skew`, `kurtosis`), the default behavior of `mode` typically preserves the axis it acts along. In SciPy 1.11.0, this behavior will change: the default value of `keepdims` will become False, the `axis` over which the statistic is taken will be eliminated, and the value None will no longer be accepted. Set `keepdims` to True or False to avoid this warning.\n",
      "  mode, _ = stats.mode(_y[neigh_ind, k], axis=1)\n",
      "C:\\Users\\Svetlana\\anaconda3\\lib\\site-packages\\sklearn\\neighbors\\_classification.py:228: FutureWarning: Unlike other reduction functions (e.g. `skew`, `kurtosis`), the default behavior of `mode` typically preserves the axis it acts along. In SciPy 1.11.0, this behavior will change: the default value of `keepdims` will become False, the `axis` over which the statistic is taken will be eliminated, and the value None will no longer be accepted. Set `keepdims` to True or False to avoid this warning.\n",
      "  mode, _ = stats.mode(_y[neigh_ind, k], axis=1)\n",
      "C:\\Users\\Svetlana\\anaconda3\\lib\\site-packages\\sklearn\\neighbors\\_classification.py:228: FutureWarning: Unlike other reduction functions (e.g. `skew`, `kurtosis`), the default behavior of `mode` typically preserves the axis it acts along. In SciPy 1.11.0, this behavior will change: the default value of `keepdims` will become False, the `axis` over which the statistic is taken will be eliminated, and the value None will no longer be accepted. Set `keepdims` to True or False to avoid this warning.\n",
      "  mode, _ = stats.mode(_y[neigh_ind, k], axis=1)\n",
      "C:\\Users\\Svetlana\\anaconda3\\lib\\site-packages\\sklearn\\neighbors\\_classification.py:228: FutureWarning: Unlike other reduction functions (e.g. `skew`, `kurtosis`), the default behavior of `mode` typically preserves the axis it acts along. In SciPy 1.11.0, this behavior will change: the default value of `keepdims` will become False, the `axis` over which the statistic is taken will be eliminated, and the value None will no longer be accepted. Set `keepdims` to True or False to avoid this warning.\n",
      "  mode, _ = stats.mode(_y[neigh_ind, k], axis=1)\n",
      "C:\\Users\\Svetlana\\anaconda3\\lib\\site-packages\\sklearn\\neighbors\\_classification.py:228: FutureWarning: Unlike other reduction functions (e.g. `skew`, `kurtosis`), the default behavior of `mode` typically preserves the axis it acts along. In SciPy 1.11.0, this behavior will change: the default value of `keepdims` will become False, the `axis` over which the statistic is taken will be eliminated, and the value None will no longer be accepted. Set `keepdims` to True or False to avoid this warning.\n",
      "  mode, _ = stats.mode(_y[neigh_ind, k], axis=1)\n",
      "C:\\Users\\Svetlana\\anaconda3\\lib\\site-packages\\sklearn\\neighbors\\_classification.py:228: FutureWarning: Unlike other reduction functions (e.g. `skew`, `kurtosis`), the default behavior of `mode` typically preserves the axis it acts along. In SciPy 1.11.0, this behavior will change: the default value of `keepdims` will become False, the `axis` over which the statistic is taken will be eliminated, and the value None will no longer be accepted. Set `keepdims` to True or False to avoid this warning.\n",
      "  mode, _ = stats.mode(_y[neigh_ind, k], axis=1)\n",
      "C:\\Users\\Svetlana\\anaconda3\\lib\\site-packages\\sklearn\\neighbors\\_classification.py:228: FutureWarning: Unlike other reduction functions (e.g. `skew`, `kurtosis`), the default behavior of `mode` typically preserves the axis it acts along. In SciPy 1.11.0, this behavior will change: the default value of `keepdims` will become False, the `axis` over which the statistic is taken will be eliminated, and the value None will no longer be accepted. Set `keepdims` to True or False to avoid this warning.\n",
      "  mode, _ = stats.mode(_y[neigh_ind, k], axis=1)\n"
     ]
    },
    {
     "name": "stdout",
     "output_type": "stream",
     "text": [
      "za parametre k= 1  i m = hamming  tacnost je:  0.813143036386449  a mat. konf. je:\n",
      "[[18572.  2279.   152.]\n",
      " [ 2641.  6721.   352.]\n",
      " [  164.   369.   630.]]\n"
     ]
    },
    {
     "name": "stderr",
     "output_type": "stream",
     "text": [
      "C:\\Users\\Svetlana\\anaconda3\\lib\\site-packages\\sklearn\\neighbors\\_classification.py:228: FutureWarning: Unlike other reduction functions (e.g. `skew`, `kurtosis`), the default behavior of `mode` typically preserves the axis it acts along. In SciPy 1.11.0, this behavior will change: the default value of `keepdims` will become False, the `axis` over which the statistic is taken will be eliminated, and the value None will no longer be accepted. Set `keepdims` to True or False to avoid this warning.\n",
      "  mode, _ = stats.mode(_y[neigh_ind, k], axis=1)\n",
      "C:\\Users\\Svetlana\\anaconda3\\lib\\site-packages\\sklearn\\neighbors\\_classification.py:228: FutureWarning: Unlike other reduction functions (e.g. `skew`, `kurtosis`), the default behavior of `mode` typically preserves the axis it acts along. In SciPy 1.11.0, this behavior will change: the default value of `keepdims` will become False, the `axis` over which the statistic is taken will be eliminated, and the value None will no longer be accepted. Set `keepdims` to True or False to avoid this warning.\n",
      "  mode, _ = stats.mode(_y[neigh_ind, k], axis=1)\n",
      "C:\\Users\\Svetlana\\anaconda3\\lib\\site-packages\\sklearn\\neighbors\\_classification.py:228: FutureWarning: Unlike other reduction functions (e.g. `skew`, `kurtosis`), the default behavior of `mode` typically preserves the axis it acts along. In SciPy 1.11.0, this behavior will change: the default value of `keepdims` will become False, the `axis` over which the statistic is taken will be eliminated, and the value None will no longer be accepted. Set `keepdims` to True or False to avoid this warning.\n",
      "  mode, _ = stats.mode(_y[neigh_ind, k], axis=1)\n",
      "C:\\Users\\Svetlana\\anaconda3\\lib\\site-packages\\sklearn\\neighbors\\_classification.py:228: FutureWarning: Unlike other reduction functions (e.g. `skew`, `kurtosis`), the default behavior of `mode` typically preserves the axis it acts along. In SciPy 1.11.0, this behavior will change: the default value of `keepdims` will become False, the `axis` over which the statistic is taken will be eliminated, and the value None will no longer be accepted. Set `keepdims` to True or False to avoid this warning.\n",
      "  mode, _ = stats.mode(_y[neigh_ind, k], axis=1)\n",
      "C:\\Users\\Svetlana\\anaconda3\\lib\\site-packages\\sklearn\\neighbors\\_classification.py:228: FutureWarning: Unlike other reduction functions (e.g. `skew`, `kurtosis`), the default behavior of `mode` typically preserves the axis it acts along. In SciPy 1.11.0, this behavior will change: the default value of `keepdims` will become False, the `axis` over which the statistic is taken will be eliminated, and the value None will no longer be accepted. Set `keepdims` to True or False to avoid this warning.\n",
      "  mode, _ = stats.mode(_y[neigh_ind, k], axis=1)\n",
      "C:\\Users\\Svetlana\\anaconda3\\lib\\site-packages\\sklearn\\neighbors\\_classification.py:228: FutureWarning: Unlike other reduction functions (e.g. `skew`, `kurtosis`), the default behavior of `mode` typically preserves the axis it acts along. In SciPy 1.11.0, this behavior will change: the default value of `keepdims` will become False, the `axis` over which the statistic is taken will be eliminated, and the value None will no longer be accepted. Set `keepdims` to True or False to avoid this warning.\n",
      "  mode, _ = stats.mode(_y[neigh_ind, k], axis=1)\n",
      "C:\\Users\\Svetlana\\anaconda3\\lib\\site-packages\\sklearn\\neighbors\\_classification.py:228: FutureWarning: Unlike other reduction functions (e.g. `skew`, `kurtosis`), the default behavior of `mode` typically preserves the axis it acts along. In SciPy 1.11.0, this behavior will change: the default value of `keepdims` will become False, the `axis` over which the statistic is taken will be eliminated, and the value None will no longer be accepted. Set `keepdims` to True or False to avoid this warning.\n",
      "  mode, _ = stats.mode(_y[neigh_ind, k], axis=1)\n",
      "C:\\Users\\Svetlana\\anaconda3\\lib\\site-packages\\sklearn\\neighbors\\_classification.py:228: FutureWarning: Unlike other reduction functions (e.g. `skew`, `kurtosis`), the default behavior of `mode` typically preserves the axis it acts along. In SciPy 1.11.0, this behavior will change: the default value of `keepdims` will become False, the `axis` over which the statistic is taken will be eliminated, and the value None will no longer be accepted. Set `keepdims` to True or False to avoid this warning.\n",
      "  mode, _ = stats.mode(_y[neigh_ind, k], axis=1)\n",
      "C:\\Users\\Svetlana\\anaconda3\\lib\\site-packages\\sklearn\\neighbors\\_classification.py:228: FutureWarning: Unlike other reduction functions (e.g. `skew`, `kurtosis`), the default behavior of `mode` typically preserves the axis it acts along. In SciPy 1.11.0, this behavior will change: the default value of `keepdims` will become False, the `axis` over which the statistic is taken will be eliminated, and the value None will no longer be accepted. Set `keepdims` to True or False to avoid this warning.\n",
      "  mode, _ = stats.mode(_y[neigh_ind, k], axis=1)\n",
      "C:\\Users\\Svetlana\\anaconda3\\lib\\site-packages\\sklearn\\neighbors\\_classification.py:228: FutureWarning: Unlike other reduction functions (e.g. `skew`, `kurtosis`), the default behavior of `mode` typically preserves the axis it acts along. In SciPy 1.11.0, this behavior will change: the default value of `keepdims` will become False, the `axis` over which the statistic is taken will be eliminated, and the value None will no longer be accepted. Set `keepdims` to True or False to avoid this warning.\n",
      "  mode, _ = stats.mode(_y[neigh_ind, k], axis=1)\n"
     ]
    },
    {
     "name": "stdout",
     "output_type": "stream",
     "text": [
      "za parametre k= 2  i m = euclidean  tacnost je:  0.942534504391468  a mat. konf. je:\n",
      "[[20733.   270.     0.]\n",
      " [ 1354.  8321.    39.]\n",
      " [    0.   169.   994.]]\n"
     ]
    },
    {
     "name": "stderr",
     "output_type": "stream",
     "text": [
      "C:\\Users\\Svetlana\\anaconda3\\lib\\site-packages\\sklearn\\neighbors\\_classification.py:228: FutureWarning: Unlike other reduction functions (e.g. `skew`, `kurtosis`), the default behavior of `mode` typically preserves the axis it acts along. In SciPy 1.11.0, this behavior will change: the default value of `keepdims` will become False, the `axis` over which the statistic is taken will be eliminated, and the value None will no longer be accepted. Set `keepdims` to True or False to avoid this warning.\n",
      "  mode, _ = stats.mode(_y[neigh_ind, k], axis=1)\n",
      "C:\\Users\\Svetlana\\anaconda3\\lib\\site-packages\\sklearn\\neighbors\\_classification.py:228: FutureWarning: Unlike other reduction functions (e.g. `skew`, `kurtosis`), the default behavior of `mode` typically preserves the axis it acts along. In SciPy 1.11.0, this behavior will change: the default value of `keepdims` will become False, the `axis` over which the statistic is taken will be eliminated, and the value None will no longer be accepted. Set `keepdims` to True or False to avoid this warning.\n",
      "  mode, _ = stats.mode(_y[neigh_ind, k], axis=1)\n",
      "C:\\Users\\Svetlana\\anaconda3\\lib\\site-packages\\sklearn\\neighbors\\_classification.py:228: FutureWarning: Unlike other reduction functions (e.g. `skew`, `kurtosis`), the default behavior of `mode` typically preserves the axis it acts along. In SciPy 1.11.0, this behavior will change: the default value of `keepdims` will become False, the `axis` over which the statistic is taken will be eliminated, and the value None will no longer be accepted. Set `keepdims` to True or False to avoid this warning.\n",
      "  mode, _ = stats.mode(_y[neigh_ind, k], axis=1)\n",
      "C:\\Users\\Svetlana\\anaconda3\\lib\\site-packages\\sklearn\\neighbors\\_classification.py:228: FutureWarning: Unlike other reduction functions (e.g. `skew`, `kurtosis`), the default behavior of `mode` typically preserves the axis it acts along. In SciPy 1.11.0, this behavior will change: the default value of `keepdims` will become False, the `axis` over which the statistic is taken will be eliminated, and the value None will no longer be accepted. Set `keepdims` to True or False to avoid this warning.\n",
      "  mode, _ = stats.mode(_y[neigh_ind, k], axis=1)\n",
      "C:\\Users\\Svetlana\\anaconda3\\lib\\site-packages\\sklearn\\neighbors\\_classification.py:228: FutureWarning: Unlike other reduction functions (e.g. `skew`, `kurtosis`), the default behavior of `mode` typically preserves the axis it acts along. In SciPy 1.11.0, this behavior will change: the default value of `keepdims` will become False, the `axis` over which the statistic is taken will be eliminated, and the value None will no longer be accepted. Set `keepdims` to True or False to avoid this warning.\n",
      "  mode, _ = stats.mode(_y[neigh_ind, k], axis=1)\n",
      "C:\\Users\\Svetlana\\anaconda3\\lib\\site-packages\\sklearn\\neighbors\\_classification.py:228: FutureWarning: Unlike other reduction functions (e.g. `skew`, `kurtosis`), the default behavior of `mode` typically preserves the axis it acts along. In SciPy 1.11.0, this behavior will change: the default value of `keepdims` will become False, the `axis` over which the statistic is taken will be eliminated, and the value None will no longer be accepted. Set `keepdims` to True or False to avoid this warning.\n",
      "  mode, _ = stats.mode(_y[neigh_ind, k], axis=1)\n",
      "C:\\Users\\Svetlana\\anaconda3\\lib\\site-packages\\sklearn\\neighbors\\_classification.py:228: FutureWarning: Unlike other reduction functions (e.g. `skew`, `kurtosis`), the default behavior of `mode` typically preserves the axis it acts along. In SciPy 1.11.0, this behavior will change: the default value of `keepdims` will become False, the `axis` over which the statistic is taken will be eliminated, and the value None will no longer be accepted. Set `keepdims` to True or False to avoid this warning.\n",
      "  mode, _ = stats.mode(_y[neigh_ind, k], axis=1)\n",
      "C:\\Users\\Svetlana\\anaconda3\\lib\\site-packages\\sklearn\\neighbors\\_classification.py:228: FutureWarning: Unlike other reduction functions (e.g. `skew`, `kurtosis`), the default behavior of `mode` typically preserves the axis it acts along. In SciPy 1.11.0, this behavior will change: the default value of `keepdims` will become False, the `axis` over which the statistic is taken will be eliminated, and the value None will no longer be accepted. Set `keepdims` to True or False to avoid this warning.\n",
      "  mode, _ = stats.mode(_y[neigh_ind, k], axis=1)\n",
      "C:\\Users\\Svetlana\\anaconda3\\lib\\site-packages\\sklearn\\neighbors\\_classification.py:228: FutureWarning: Unlike other reduction functions (e.g. `skew`, `kurtosis`), the default behavior of `mode` typically preserves the axis it acts along. In SciPy 1.11.0, this behavior will change: the default value of `keepdims` will become False, the `axis` over which the statistic is taken will be eliminated, and the value None will no longer be accepted. Set `keepdims` to True or False to avoid this warning.\n",
      "  mode, _ = stats.mode(_y[neigh_ind, k], axis=1)\n",
      "C:\\Users\\Svetlana\\anaconda3\\lib\\site-packages\\sklearn\\neighbors\\_classification.py:228: FutureWarning: Unlike other reduction functions (e.g. `skew`, `kurtosis`), the default behavior of `mode` typically preserves the axis it acts along. In SciPy 1.11.0, this behavior will change: the default value of `keepdims` will become False, the `axis` over which the statistic is taken will be eliminated, and the value None will no longer be accepted. Set `keepdims` to True or False to avoid this warning.\n",
      "  mode, _ = stats.mode(_y[neigh_ind, k], axis=1)\n"
     ]
    },
    {
     "name": "stdout",
     "output_type": "stream",
     "text": [
      "za parametre k= 2  i m = hamming  tacnost je:  0.7999372647427855  a mat. konf. je:\n",
      "[[2.0097e+04 8.8700e+02 1.9000e+01]\n",
      " [4.5470e+03 5.0740e+03 9.3000e+01]\n",
      " [3.3800e+02 4.9400e+02 3.3100e+02]]\n"
     ]
    },
    {
     "name": "stderr",
     "output_type": "stream",
     "text": [
      "C:\\Users\\Svetlana\\anaconda3\\lib\\site-packages\\sklearn\\neighbors\\_classification.py:228: FutureWarning: Unlike other reduction functions (e.g. `skew`, `kurtosis`), the default behavior of `mode` typically preserves the axis it acts along. In SciPy 1.11.0, this behavior will change: the default value of `keepdims` will become False, the `axis` over which the statistic is taken will be eliminated, and the value None will no longer be accepted. Set `keepdims` to True or False to avoid this warning.\n",
      "  mode, _ = stats.mode(_y[neigh_ind, k], axis=1)\n",
      "C:\\Users\\Svetlana\\anaconda3\\lib\\site-packages\\sklearn\\neighbors\\_classification.py:228: FutureWarning: Unlike other reduction functions (e.g. `skew`, `kurtosis`), the default behavior of `mode` typically preserves the axis it acts along. In SciPy 1.11.0, this behavior will change: the default value of `keepdims` will become False, the `axis` over which the statistic is taken will be eliminated, and the value None will no longer be accepted. Set `keepdims` to True or False to avoid this warning.\n",
      "  mode, _ = stats.mode(_y[neigh_ind, k], axis=1)\n",
      "C:\\Users\\Svetlana\\anaconda3\\lib\\site-packages\\sklearn\\neighbors\\_classification.py:228: FutureWarning: Unlike other reduction functions (e.g. `skew`, `kurtosis`), the default behavior of `mode` typically preserves the axis it acts along. In SciPy 1.11.0, this behavior will change: the default value of `keepdims` will become False, the `axis` over which the statistic is taken will be eliminated, and the value None will no longer be accepted. Set `keepdims` to True or False to avoid this warning.\n",
      "  mode, _ = stats.mode(_y[neigh_ind, k], axis=1)\n",
      "C:\\Users\\Svetlana\\anaconda3\\lib\\site-packages\\sklearn\\neighbors\\_classification.py:228: FutureWarning: Unlike other reduction functions (e.g. `skew`, `kurtosis`), the default behavior of `mode` typically preserves the axis it acts along. In SciPy 1.11.0, this behavior will change: the default value of `keepdims` will become False, the `axis` over which the statistic is taken will be eliminated, and the value None will no longer be accepted. Set `keepdims` to True or False to avoid this warning.\n",
      "  mode, _ = stats.mode(_y[neigh_ind, k], axis=1)\n",
      "C:\\Users\\Svetlana\\anaconda3\\lib\\site-packages\\sklearn\\neighbors\\_classification.py:228: FutureWarning: Unlike other reduction functions (e.g. `skew`, `kurtosis`), the default behavior of `mode` typically preserves the axis it acts along. In SciPy 1.11.0, this behavior will change: the default value of `keepdims` will become False, the `axis` over which the statistic is taken will be eliminated, and the value None will no longer be accepted. Set `keepdims` to True or False to avoid this warning.\n",
      "  mode, _ = stats.mode(_y[neigh_ind, k], axis=1)\n",
      "C:\\Users\\Svetlana\\anaconda3\\lib\\site-packages\\sklearn\\neighbors\\_classification.py:228: FutureWarning: Unlike other reduction functions (e.g. `skew`, `kurtosis`), the default behavior of `mode` typically preserves the axis it acts along. In SciPy 1.11.0, this behavior will change: the default value of `keepdims` will become False, the `axis` over which the statistic is taken will be eliminated, and the value None will no longer be accepted. Set `keepdims` to True or False to avoid this warning.\n",
      "  mode, _ = stats.mode(_y[neigh_ind, k], axis=1)\n",
      "C:\\Users\\Svetlana\\anaconda3\\lib\\site-packages\\sklearn\\neighbors\\_classification.py:228: FutureWarning: Unlike other reduction functions (e.g. `skew`, `kurtosis`), the default behavior of `mode` typically preserves the axis it acts along. In SciPy 1.11.0, this behavior will change: the default value of `keepdims` will become False, the `axis` over which the statistic is taken will be eliminated, and the value None will no longer be accepted. Set `keepdims` to True or False to avoid this warning.\n",
      "  mode, _ = stats.mode(_y[neigh_ind, k], axis=1)\n",
      "C:\\Users\\Svetlana\\anaconda3\\lib\\site-packages\\sklearn\\neighbors\\_classification.py:228: FutureWarning: Unlike other reduction functions (e.g. `skew`, `kurtosis`), the default behavior of `mode` typically preserves the axis it acts along. In SciPy 1.11.0, this behavior will change: the default value of `keepdims` will become False, the `axis` over which the statistic is taken will be eliminated, and the value None will no longer be accepted. Set `keepdims` to True or False to avoid this warning.\n",
      "  mode, _ = stats.mode(_y[neigh_ind, k], axis=1)\n",
      "C:\\Users\\Svetlana\\anaconda3\\lib\\site-packages\\sklearn\\neighbors\\_classification.py:228: FutureWarning: Unlike other reduction functions (e.g. `skew`, `kurtosis`), the default behavior of `mode` typically preserves the axis it acts along. In SciPy 1.11.0, this behavior will change: the default value of `keepdims` will become False, the `axis` over which the statistic is taken will be eliminated, and the value None will no longer be accepted. Set `keepdims` to True or False to avoid this warning.\n",
      "  mode, _ = stats.mode(_y[neigh_ind, k], axis=1)\n",
      "C:\\Users\\Svetlana\\anaconda3\\lib\\site-packages\\sklearn\\neighbors\\_classification.py:228: FutureWarning: Unlike other reduction functions (e.g. `skew`, `kurtosis`), the default behavior of `mode` typically preserves the axis it acts along. In SciPy 1.11.0, this behavior will change: the default value of `keepdims` will become False, the `axis` over which the statistic is taken will be eliminated, and the value None will no longer be accepted. Set `keepdims` to True or False to avoid this warning.\n",
      "  mode, _ = stats.mode(_y[neigh_ind, k], axis=1)\n"
     ]
    },
    {
     "name": "stdout",
     "output_type": "stream",
     "text": [
      "za parametre k= 3  i m = euclidean  tacnost je:  0.9476787954830617  a mat. konf. je:\n",
      "[[20367.   636.     0.]\n",
      " [  848.  8789.    77.]\n",
      " [    0.   107.  1056.]]\n"
     ]
    },
    {
     "name": "stderr",
     "output_type": "stream",
     "text": [
      "C:\\Users\\Svetlana\\anaconda3\\lib\\site-packages\\sklearn\\neighbors\\_classification.py:228: FutureWarning: Unlike other reduction functions (e.g. `skew`, `kurtosis`), the default behavior of `mode` typically preserves the axis it acts along. In SciPy 1.11.0, this behavior will change: the default value of `keepdims` will become False, the `axis` over which the statistic is taken will be eliminated, and the value None will no longer be accepted. Set `keepdims` to True or False to avoid this warning.\n",
      "  mode, _ = stats.mode(_y[neigh_ind, k], axis=1)\n",
      "C:\\Users\\Svetlana\\anaconda3\\lib\\site-packages\\sklearn\\neighbors\\_classification.py:228: FutureWarning: Unlike other reduction functions (e.g. `skew`, `kurtosis`), the default behavior of `mode` typically preserves the axis it acts along. In SciPy 1.11.0, this behavior will change: the default value of `keepdims` will become False, the `axis` over which the statistic is taken will be eliminated, and the value None will no longer be accepted. Set `keepdims` to True or False to avoid this warning.\n",
      "  mode, _ = stats.mode(_y[neigh_ind, k], axis=1)\n",
      "C:\\Users\\Svetlana\\anaconda3\\lib\\site-packages\\sklearn\\neighbors\\_classification.py:228: FutureWarning: Unlike other reduction functions (e.g. `skew`, `kurtosis`), the default behavior of `mode` typically preserves the axis it acts along. In SciPy 1.11.0, this behavior will change: the default value of `keepdims` will become False, the `axis` over which the statistic is taken will be eliminated, and the value None will no longer be accepted. Set `keepdims` to True or False to avoid this warning.\n",
      "  mode, _ = stats.mode(_y[neigh_ind, k], axis=1)\n",
      "C:\\Users\\Svetlana\\anaconda3\\lib\\site-packages\\sklearn\\neighbors\\_classification.py:228: FutureWarning: Unlike other reduction functions (e.g. `skew`, `kurtosis`), the default behavior of `mode` typically preserves the axis it acts along. In SciPy 1.11.0, this behavior will change: the default value of `keepdims` will become False, the `axis` over which the statistic is taken will be eliminated, and the value None will no longer be accepted. Set `keepdims` to True or False to avoid this warning.\n",
      "  mode, _ = stats.mode(_y[neigh_ind, k], axis=1)\n",
      "C:\\Users\\Svetlana\\anaconda3\\lib\\site-packages\\sklearn\\neighbors\\_classification.py:228: FutureWarning: Unlike other reduction functions (e.g. `skew`, `kurtosis`), the default behavior of `mode` typically preserves the axis it acts along. In SciPy 1.11.0, this behavior will change: the default value of `keepdims` will become False, the `axis` over which the statistic is taken will be eliminated, and the value None will no longer be accepted. Set `keepdims` to True or False to avoid this warning.\n",
      "  mode, _ = stats.mode(_y[neigh_ind, k], axis=1)\n",
      "C:\\Users\\Svetlana\\anaconda3\\lib\\site-packages\\sklearn\\neighbors\\_classification.py:228: FutureWarning: Unlike other reduction functions (e.g. `skew`, `kurtosis`), the default behavior of `mode` typically preserves the axis it acts along. In SciPy 1.11.0, this behavior will change: the default value of `keepdims` will become False, the `axis` over which the statistic is taken will be eliminated, and the value None will no longer be accepted. Set `keepdims` to True or False to avoid this warning.\n",
      "  mode, _ = stats.mode(_y[neigh_ind, k], axis=1)\n",
      "C:\\Users\\Svetlana\\anaconda3\\lib\\site-packages\\sklearn\\neighbors\\_classification.py:228: FutureWarning: Unlike other reduction functions (e.g. `skew`, `kurtosis`), the default behavior of `mode` typically preserves the axis it acts along. In SciPy 1.11.0, this behavior will change: the default value of `keepdims` will become False, the `axis` over which the statistic is taken will be eliminated, and the value None will no longer be accepted. Set `keepdims` to True or False to avoid this warning.\n",
      "  mode, _ = stats.mode(_y[neigh_ind, k], axis=1)\n",
      "C:\\Users\\Svetlana\\anaconda3\\lib\\site-packages\\sklearn\\neighbors\\_classification.py:228: FutureWarning: Unlike other reduction functions (e.g. `skew`, `kurtosis`), the default behavior of `mode` typically preserves the axis it acts along. In SciPy 1.11.0, this behavior will change: the default value of `keepdims` will become False, the `axis` over which the statistic is taken will be eliminated, and the value None will no longer be accepted. Set `keepdims` to True or False to avoid this warning.\n",
      "  mode, _ = stats.mode(_y[neigh_ind, k], axis=1)\n",
      "C:\\Users\\Svetlana\\anaconda3\\lib\\site-packages\\sklearn\\neighbors\\_classification.py:228: FutureWarning: Unlike other reduction functions (e.g. `skew`, `kurtosis`), the default behavior of `mode` typically preserves the axis it acts along. In SciPy 1.11.0, this behavior will change: the default value of `keepdims` will become False, the `axis` over which the statistic is taken will be eliminated, and the value None will no longer be accepted. Set `keepdims` to True or False to avoid this warning.\n",
      "  mode, _ = stats.mode(_y[neigh_ind, k], axis=1)\n",
      "C:\\Users\\Svetlana\\anaconda3\\lib\\site-packages\\sklearn\\neighbors\\_classification.py:228: FutureWarning: Unlike other reduction functions (e.g. `skew`, `kurtosis`), the default behavior of `mode` typically preserves the axis it acts along. In SciPy 1.11.0, this behavior will change: the default value of `keepdims` will become False, the `axis` over which the statistic is taken will be eliminated, and the value None will no longer be accepted. Set `keepdims` to True or False to avoid this warning.\n",
      "  mode, _ = stats.mode(_y[neigh_ind, k], axis=1)\n"
     ]
    },
    {
     "name": "stdout",
     "output_type": "stream",
     "text": [
      "za parametre k= 3  i m = hamming  tacnost je:  0.8156838143036387  a mat. konf. je:\n",
      "[[19083.  1864.    56.]\n",
      " [ 3076.  6432.   206.]\n",
      " [  295.   379.   489.]]\n"
     ]
    },
    {
     "name": "stderr",
     "output_type": "stream",
     "text": [
      "C:\\Users\\Svetlana\\anaconda3\\lib\\site-packages\\sklearn\\neighbors\\_classification.py:228: FutureWarning: Unlike other reduction functions (e.g. `skew`, `kurtosis`), the default behavior of `mode` typically preserves the axis it acts along. In SciPy 1.11.0, this behavior will change: the default value of `keepdims` will become False, the `axis` over which the statistic is taken will be eliminated, and the value None will no longer be accepted. Set `keepdims` to True or False to avoid this warning.\n",
      "  mode, _ = stats.mode(_y[neigh_ind, k], axis=1)\n",
      "C:\\Users\\Svetlana\\anaconda3\\lib\\site-packages\\sklearn\\neighbors\\_classification.py:228: FutureWarning: Unlike other reduction functions (e.g. `skew`, `kurtosis`), the default behavior of `mode` typically preserves the axis it acts along. In SciPy 1.11.0, this behavior will change: the default value of `keepdims` will become False, the `axis` over which the statistic is taken will be eliminated, and the value None will no longer be accepted. Set `keepdims` to True or False to avoid this warning.\n",
      "  mode, _ = stats.mode(_y[neigh_ind, k], axis=1)\n",
      "C:\\Users\\Svetlana\\anaconda3\\lib\\site-packages\\sklearn\\neighbors\\_classification.py:228: FutureWarning: Unlike other reduction functions (e.g. `skew`, `kurtosis`), the default behavior of `mode` typically preserves the axis it acts along. In SciPy 1.11.0, this behavior will change: the default value of `keepdims` will become False, the `axis` over which the statistic is taken will be eliminated, and the value None will no longer be accepted. Set `keepdims` to True or False to avoid this warning.\n",
      "  mode, _ = stats.mode(_y[neigh_ind, k], axis=1)\n",
      "C:\\Users\\Svetlana\\anaconda3\\lib\\site-packages\\sklearn\\neighbors\\_classification.py:228: FutureWarning: Unlike other reduction functions (e.g. `skew`, `kurtosis`), the default behavior of `mode` typically preserves the axis it acts along. In SciPy 1.11.0, this behavior will change: the default value of `keepdims` will become False, the `axis` over which the statistic is taken will be eliminated, and the value None will no longer be accepted. Set `keepdims` to True or False to avoid this warning.\n",
      "  mode, _ = stats.mode(_y[neigh_ind, k], axis=1)\n",
      "C:\\Users\\Svetlana\\anaconda3\\lib\\site-packages\\sklearn\\neighbors\\_classification.py:228: FutureWarning: Unlike other reduction functions (e.g. `skew`, `kurtosis`), the default behavior of `mode` typically preserves the axis it acts along. In SciPy 1.11.0, this behavior will change: the default value of `keepdims` will become False, the `axis` over which the statistic is taken will be eliminated, and the value None will no longer be accepted. Set `keepdims` to True or False to avoid this warning.\n",
      "  mode, _ = stats.mode(_y[neigh_ind, k], axis=1)\n",
      "C:\\Users\\Svetlana\\anaconda3\\lib\\site-packages\\sklearn\\neighbors\\_classification.py:228: FutureWarning: Unlike other reduction functions (e.g. `skew`, `kurtosis`), the default behavior of `mode` typically preserves the axis it acts along. In SciPy 1.11.0, this behavior will change: the default value of `keepdims` will become False, the `axis` over which the statistic is taken will be eliminated, and the value None will no longer be accepted. Set `keepdims` to True or False to avoid this warning.\n",
      "  mode, _ = stats.mode(_y[neigh_ind, k], axis=1)\n",
      "C:\\Users\\Svetlana\\anaconda3\\lib\\site-packages\\sklearn\\neighbors\\_classification.py:228: FutureWarning: Unlike other reduction functions (e.g. `skew`, `kurtosis`), the default behavior of `mode` typically preserves the axis it acts along. In SciPy 1.11.0, this behavior will change: the default value of `keepdims` will become False, the `axis` over which the statistic is taken will be eliminated, and the value None will no longer be accepted. Set `keepdims` to True or False to avoid this warning.\n",
      "  mode, _ = stats.mode(_y[neigh_ind, k], axis=1)\n",
      "C:\\Users\\Svetlana\\anaconda3\\lib\\site-packages\\sklearn\\neighbors\\_classification.py:228: FutureWarning: Unlike other reduction functions (e.g. `skew`, `kurtosis`), the default behavior of `mode` typically preserves the axis it acts along. In SciPy 1.11.0, this behavior will change: the default value of `keepdims` will become False, the `axis` over which the statistic is taken will be eliminated, and the value None will no longer be accepted. Set `keepdims` to True or False to avoid this warning.\n",
      "  mode, _ = stats.mode(_y[neigh_ind, k], axis=1)\n",
      "C:\\Users\\Svetlana\\anaconda3\\lib\\site-packages\\sklearn\\neighbors\\_classification.py:228: FutureWarning: Unlike other reduction functions (e.g. `skew`, `kurtosis`), the default behavior of `mode` typically preserves the axis it acts along. In SciPy 1.11.0, this behavior will change: the default value of `keepdims` will become False, the `axis` over which the statistic is taken will be eliminated, and the value None will no longer be accepted. Set `keepdims` to True or False to avoid this warning.\n",
      "  mode, _ = stats.mode(_y[neigh_ind, k], axis=1)\n",
      "C:\\Users\\Svetlana\\anaconda3\\lib\\site-packages\\sklearn\\neighbors\\_classification.py:228: FutureWarning: Unlike other reduction functions (e.g. `skew`, `kurtosis`), the default behavior of `mode` typically preserves the axis it acts along. In SciPy 1.11.0, this behavior will change: the default value of `keepdims` will become False, the `axis` over which the statistic is taken will be eliminated, and the value None will no longer be accepted. Set `keepdims` to True or False to avoid this warning.\n",
      "  mode, _ = stats.mode(_y[neigh_ind, k], axis=1)\n"
     ]
    },
    {
     "name": "stdout",
     "output_type": "stream",
     "text": [
      "za parametre k= 4  i m = euclidean  tacnost je:  0.9403701380175657  a mat. konf. je:\n",
      "[[20623.   380.     0.]\n",
      " [ 1304.  8362.    48.]\n",
      " [    0.   169.   994.]]\n"
     ]
    },
    {
     "name": "stderr",
     "output_type": "stream",
     "text": [
      "C:\\Users\\Svetlana\\anaconda3\\lib\\site-packages\\sklearn\\neighbors\\_classification.py:228: FutureWarning: Unlike other reduction functions (e.g. `skew`, `kurtosis`), the default behavior of `mode` typically preserves the axis it acts along. In SciPy 1.11.0, this behavior will change: the default value of `keepdims` will become False, the `axis` over which the statistic is taken will be eliminated, and the value None will no longer be accepted. Set `keepdims` to True or False to avoid this warning.\n",
      "  mode, _ = stats.mode(_y[neigh_ind, k], axis=1)\n",
      "C:\\Users\\Svetlana\\anaconda3\\lib\\site-packages\\sklearn\\neighbors\\_classification.py:228: FutureWarning: Unlike other reduction functions (e.g. `skew`, `kurtosis`), the default behavior of `mode` typically preserves the axis it acts along. In SciPy 1.11.0, this behavior will change: the default value of `keepdims` will become False, the `axis` over which the statistic is taken will be eliminated, and the value None will no longer be accepted. Set `keepdims` to True or False to avoid this warning.\n",
      "  mode, _ = stats.mode(_y[neigh_ind, k], axis=1)\n",
      "C:\\Users\\Svetlana\\anaconda3\\lib\\site-packages\\sklearn\\neighbors\\_classification.py:228: FutureWarning: Unlike other reduction functions (e.g. `skew`, `kurtosis`), the default behavior of `mode` typically preserves the axis it acts along. In SciPy 1.11.0, this behavior will change: the default value of `keepdims` will become False, the `axis` over which the statistic is taken will be eliminated, and the value None will no longer be accepted. Set `keepdims` to True or False to avoid this warning.\n",
      "  mode, _ = stats.mode(_y[neigh_ind, k], axis=1)\n",
      "C:\\Users\\Svetlana\\anaconda3\\lib\\site-packages\\sklearn\\neighbors\\_classification.py:228: FutureWarning: Unlike other reduction functions (e.g. `skew`, `kurtosis`), the default behavior of `mode` typically preserves the axis it acts along. In SciPy 1.11.0, this behavior will change: the default value of `keepdims` will become False, the `axis` over which the statistic is taken will be eliminated, and the value None will no longer be accepted. Set `keepdims` to True or False to avoid this warning.\n",
      "  mode, _ = stats.mode(_y[neigh_ind, k], axis=1)\n",
      "C:\\Users\\Svetlana\\anaconda3\\lib\\site-packages\\sklearn\\neighbors\\_classification.py:228: FutureWarning: Unlike other reduction functions (e.g. `skew`, `kurtosis`), the default behavior of `mode` typically preserves the axis it acts along. In SciPy 1.11.0, this behavior will change: the default value of `keepdims` will become False, the `axis` over which the statistic is taken will be eliminated, and the value None will no longer be accepted. Set `keepdims` to True or False to avoid this warning.\n",
      "  mode, _ = stats.mode(_y[neigh_ind, k], axis=1)\n",
      "C:\\Users\\Svetlana\\anaconda3\\lib\\site-packages\\sklearn\\neighbors\\_classification.py:228: FutureWarning: Unlike other reduction functions (e.g. `skew`, `kurtosis`), the default behavior of `mode` typically preserves the axis it acts along. In SciPy 1.11.0, this behavior will change: the default value of `keepdims` will become False, the `axis` over which the statistic is taken will be eliminated, and the value None will no longer be accepted. Set `keepdims` to True or False to avoid this warning.\n",
      "  mode, _ = stats.mode(_y[neigh_ind, k], axis=1)\n",
      "C:\\Users\\Svetlana\\anaconda3\\lib\\site-packages\\sklearn\\neighbors\\_classification.py:228: FutureWarning: Unlike other reduction functions (e.g. `skew`, `kurtosis`), the default behavior of `mode` typically preserves the axis it acts along. In SciPy 1.11.0, this behavior will change: the default value of `keepdims` will become False, the `axis` over which the statistic is taken will be eliminated, and the value None will no longer be accepted. Set `keepdims` to True or False to avoid this warning.\n",
      "  mode, _ = stats.mode(_y[neigh_ind, k], axis=1)\n",
      "C:\\Users\\Svetlana\\anaconda3\\lib\\site-packages\\sklearn\\neighbors\\_classification.py:228: FutureWarning: Unlike other reduction functions (e.g. `skew`, `kurtosis`), the default behavior of `mode` typically preserves the axis it acts along. In SciPy 1.11.0, this behavior will change: the default value of `keepdims` will become False, the `axis` over which the statistic is taken will be eliminated, and the value None will no longer be accepted. Set `keepdims` to True or False to avoid this warning.\n",
      "  mode, _ = stats.mode(_y[neigh_ind, k], axis=1)\n",
      "C:\\Users\\Svetlana\\anaconda3\\lib\\site-packages\\sklearn\\neighbors\\_classification.py:228: FutureWarning: Unlike other reduction functions (e.g. `skew`, `kurtosis`), the default behavior of `mode` typically preserves the axis it acts along. In SciPy 1.11.0, this behavior will change: the default value of `keepdims` will become False, the `axis` over which the statistic is taken will be eliminated, and the value None will no longer be accepted. Set `keepdims` to True or False to avoid this warning.\n",
      "  mode, _ = stats.mode(_y[neigh_ind, k], axis=1)\n",
      "C:\\Users\\Svetlana\\anaconda3\\lib\\site-packages\\sklearn\\neighbors\\_classification.py:228: FutureWarning: Unlike other reduction functions (e.g. `skew`, `kurtosis`), the default behavior of `mode` typically preserves the axis it acts along. In SciPy 1.11.0, this behavior will change: the default value of `keepdims` will become False, the `axis` over which the statistic is taken will be eliminated, and the value None will no longer be accepted. Set `keepdims` to True or False to avoid this warning.\n",
      "  mode, _ = stats.mode(_y[neigh_ind, k], axis=1)\n"
     ]
    },
    {
     "name": "stdout",
     "output_type": "stream",
     "text": [
      "za parametre k= 4  i m = hamming  tacnost je:  0.8076537013801757  a mat. konf. je:\n",
      "[[19880.  1072.    51.]\n",
      " [ 4090.  5462.   162.]\n",
      " [  254.   503.   406.]]\n"
     ]
    },
    {
     "name": "stderr",
     "output_type": "stream",
     "text": [
      "C:\\Users\\Svetlana\\anaconda3\\lib\\site-packages\\sklearn\\neighbors\\_classification.py:228: FutureWarning: Unlike other reduction functions (e.g. `skew`, `kurtosis`), the default behavior of `mode` typically preserves the axis it acts along. In SciPy 1.11.0, this behavior will change: the default value of `keepdims` will become False, the `axis` over which the statistic is taken will be eliminated, and the value None will no longer be accepted. Set `keepdims` to True or False to avoid this warning.\n",
      "  mode, _ = stats.mode(_y[neigh_ind, k], axis=1)\n",
      "C:\\Users\\Svetlana\\anaconda3\\lib\\site-packages\\sklearn\\neighbors\\_classification.py:228: FutureWarning: Unlike other reduction functions (e.g. `skew`, `kurtosis`), the default behavior of `mode` typically preserves the axis it acts along. In SciPy 1.11.0, this behavior will change: the default value of `keepdims` will become False, the `axis` over which the statistic is taken will be eliminated, and the value None will no longer be accepted. Set `keepdims` to True or False to avoid this warning.\n",
      "  mode, _ = stats.mode(_y[neigh_ind, k], axis=1)\n",
      "C:\\Users\\Svetlana\\anaconda3\\lib\\site-packages\\sklearn\\neighbors\\_classification.py:228: FutureWarning: Unlike other reduction functions (e.g. `skew`, `kurtosis`), the default behavior of `mode` typically preserves the axis it acts along. In SciPy 1.11.0, this behavior will change: the default value of `keepdims` will become False, the `axis` over which the statistic is taken will be eliminated, and the value None will no longer be accepted. Set `keepdims` to True or False to avoid this warning.\n",
      "  mode, _ = stats.mode(_y[neigh_ind, k], axis=1)\n",
      "C:\\Users\\Svetlana\\anaconda3\\lib\\site-packages\\sklearn\\neighbors\\_classification.py:228: FutureWarning: Unlike other reduction functions (e.g. `skew`, `kurtosis`), the default behavior of `mode` typically preserves the axis it acts along. In SciPy 1.11.0, this behavior will change: the default value of `keepdims` will become False, the `axis` over which the statistic is taken will be eliminated, and the value None will no longer be accepted. Set `keepdims` to True or False to avoid this warning.\n",
      "  mode, _ = stats.mode(_y[neigh_ind, k], axis=1)\n",
      "C:\\Users\\Svetlana\\anaconda3\\lib\\site-packages\\sklearn\\neighbors\\_classification.py:228: FutureWarning: Unlike other reduction functions (e.g. `skew`, `kurtosis`), the default behavior of `mode` typically preserves the axis it acts along. In SciPy 1.11.0, this behavior will change: the default value of `keepdims` will become False, the `axis` over which the statistic is taken will be eliminated, and the value None will no longer be accepted. Set `keepdims` to True or False to avoid this warning.\n",
      "  mode, _ = stats.mode(_y[neigh_ind, k], axis=1)\n",
      "C:\\Users\\Svetlana\\anaconda3\\lib\\site-packages\\sklearn\\neighbors\\_classification.py:228: FutureWarning: Unlike other reduction functions (e.g. `skew`, `kurtosis`), the default behavior of `mode` typically preserves the axis it acts along. In SciPy 1.11.0, this behavior will change: the default value of `keepdims` will become False, the `axis` over which the statistic is taken will be eliminated, and the value None will no longer be accepted. Set `keepdims` to True or False to avoid this warning.\n",
      "  mode, _ = stats.mode(_y[neigh_ind, k], axis=1)\n",
      "C:\\Users\\Svetlana\\anaconda3\\lib\\site-packages\\sklearn\\neighbors\\_classification.py:228: FutureWarning: Unlike other reduction functions (e.g. `skew`, `kurtosis`), the default behavior of `mode` typically preserves the axis it acts along. In SciPy 1.11.0, this behavior will change: the default value of `keepdims` will become False, the `axis` over which the statistic is taken will be eliminated, and the value None will no longer be accepted. Set `keepdims` to True or False to avoid this warning.\n",
      "  mode, _ = stats.mode(_y[neigh_ind, k], axis=1)\n",
      "C:\\Users\\Svetlana\\anaconda3\\lib\\site-packages\\sklearn\\neighbors\\_classification.py:228: FutureWarning: Unlike other reduction functions (e.g. `skew`, `kurtosis`), the default behavior of `mode` typically preserves the axis it acts along. In SciPy 1.11.0, this behavior will change: the default value of `keepdims` will become False, the `axis` over which the statistic is taken will be eliminated, and the value None will no longer be accepted. Set `keepdims` to True or False to avoid this warning.\n",
      "  mode, _ = stats.mode(_y[neigh_ind, k], axis=1)\n",
      "C:\\Users\\Svetlana\\anaconda3\\lib\\site-packages\\sklearn\\neighbors\\_classification.py:228: FutureWarning: Unlike other reduction functions (e.g. `skew`, `kurtosis`), the default behavior of `mode` typically preserves the axis it acts along. In SciPy 1.11.0, this behavior will change: the default value of `keepdims` will become False, the `axis` over which the statistic is taken will be eliminated, and the value None will no longer be accepted. Set `keepdims` to True or False to avoid this warning.\n",
      "  mode, _ = stats.mode(_y[neigh_ind, k], axis=1)\n",
      "C:\\Users\\Svetlana\\anaconda3\\lib\\site-packages\\sklearn\\neighbors\\_classification.py:228: FutureWarning: Unlike other reduction functions (e.g. `skew`, `kurtosis`), the default behavior of `mode` typically preserves the axis it acts along. In SciPy 1.11.0, this behavior will change: the default value of `keepdims` will become False, the `axis` over which the statistic is taken will be eliminated, and the value None will no longer be accepted. Set `keepdims` to True or False to avoid this warning.\n",
      "  mode, _ = stats.mode(_y[neigh_ind, k], axis=1)\n"
     ]
    },
    {
     "name": "stdout",
     "output_type": "stream",
     "text": [
      "za parametre k= 5  i m = euclidean  tacnost je:  0.9421580928481808  a mat. konf. je:\n",
      "[[20349.   654.     0.]\n",
      " [  976.  8660.    78.]\n",
      " [    0.   136.  1027.]]\n"
     ]
    },
    {
     "name": "stderr",
     "output_type": "stream",
     "text": [
      "C:\\Users\\Svetlana\\anaconda3\\lib\\site-packages\\sklearn\\neighbors\\_classification.py:228: FutureWarning: Unlike other reduction functions (e.g. `skew`, `kurtosis`), the default behavior of `mode` typically preserves the axis it acts along. In SciPy 1.11.0, this behavior will change: the default value of `keepdims` will become False, the `axis` over which the statistic is taken will be eliminated, and the value None will no longer be accepted. Set `keepdims` to True or False to avoid this warning.\n",
      "  mode, _ = stats.mode(_y[neigh_ind, k], axis=1)\n",
      "C:\\Users\\Svetlana\\anaconda3\\lib\\site-packages\\sklearn\\neighbors\\_classification.py:228: FutureWarning: Unlike other reduction functions (e.g. `skew`, `kurtosis`), the default behavior of `mode` typically preserves the axis it acts along. In SciPy 1.11.0, this behavior will change: the default value of `keepdims` will become False, the `axis` over which the statistic is taken will be eliminated, and the value None will no longer be accepted. Set `keepdims` to True or False to avoid this warning.\n",
      "  mode, _ = stats.mode(_y[neigh_ind, k], axis=1)\n",
      "C:\\Users\\Svetlana\\anaconda3\\lib\\site-packages\\sklearn\\neighbors\\_classification.py:228: FutureWarning: Unlike other reduction functions (e.g. `skew`, `kurtosis`), the default behavior of `mode` typically preserves the axis it acts along. In SciPy 1.11.0, this behavior will change: the default value of `keepdims` will become False, the `axis` over which the statistic is taken will be eliminated, and the value None will no longer be accepted. Set `keepdims` to True or False to avoid this warning.\n",
      "  mode, _ = stats.mode(_y[neigh_ind, k], axis=1)\n",
      "C:\\Users\\Svetlana\\anaconda3\\lib\\site-packages\\sklearn\\neighbors\\_classification.py:228: FutureWarning: Unlike other reduction functions (e.g. `skew`, `kurtosis`), the default behavior of `mode` typically preserves the axis it acts along. In SciPy 1.11.0, this behavior will change: the default value of `keepdims` will become False, the `axis` over which the statistic is taken will be eliminated, and the value None will no longer be accepted. Set `keepdims` to True or False to avoid this warning.\n",
      "  mode, _ = stats.mode(_y[neigh_ind, k], axis=1)\n",
      "C:\\Users\\Svetlana\\anaconda3\\lib\\site-packages\\sklearn\\neighbors\\_classification.py:228: FutureWarning: Unlike other reduction functions (e.g. `skew`, `kurtosis`), the default behavior of `mode` typically preserves the axis it acts along. In SciPy 1.11.0, this behavior will change: the default value of `keepdims` will become False, the `axis` over which the statistic is taken will be eliminated, and the value None will no longer be accepted. Set `keepdims` to True or False to avoid this warning.\n",
      "  mode, _ = stats.mode(_y[neigh_ind, k], axis=1)\n",
      "C:\\Users\\Svetlana\\anaconda3\\lib\\site-packages\\sklearn\\neighbors\\_classification.py:228: FutureWarning: Unlike other reduction functions (e.g. `skew`, `kurtosis`), the default behavior of `mode` typically preserves the axis it acts along. In SciPy 1.11.0, this behavior will change: the default value of `keepdims` will become False, the `axis` over which the statistic is taken will be eliminated, and the value None will no longer be accepted. Set `keepdims` to True or False to avoid this warning.\n",
      "  mode, _ = stats.mode(_y[neigh_ind, k], axis=1)\n",
      "C:\\Users\\Svetlana\\anaconda3\\lib\\site-packages\\sklearn\\neighbors\\_classification.py:228: FutureWarning: Unlike other reduction functions (e.g. `skew`, `kurtosis`), the default behavior of `mode` typically preserves the axis it acts along. In SciPy 1.11.0, this behavior will change: the default value of `keepdims` will become False, the `axis` over which the statistic is taken will be eliminated, and the value None will no longer be accepted. Set `keepdims` to True or False to avoid this warning.\n",
      "  mode, _ = stats.mode(_y[neigh_ind, k], axis=1)\n",
      "C:\\Users\\Svetlana\\anaconda3\\lib\\site-packages\\sklearn\\neighbors\\_classification.py:228: FutureWarning: Unlike other reduction functions (e.g. `skew`, `kurtosis`), the default behavior of `mode` typically preserves the axis it acts along. In SciPy 1.11.0, this behavior will change: the default value of `keepdims` will become False, the `axis` over which the statistic is taken will be eliminated, and the value None will no longer be accepted. Set `keepdims` to True or False to avoid this warning.\n",
      "  mode, _ = stats.mode(_y[neigh_ind, k], axis=1)\n",
      "C:\\Users\\Svetlana\\anaconda3\\lib\\site-packages\\sklearn\\neighbors\\_classification.py:228: FutureWarning: Unlike other reduction functions (e.g. `skew`, `kurtosis`), the default behavior of `mode` typically preserves the axis it acts along. In SciPy 1.11.0, this behavior will change: the default value of `keepdims` will become False, the `axis` over which the statistic is taken will be eliminated, and the value None will no longer be accepted. Set `keepdims` to True or False to avoid this warning.\n",
      "  mode, _ = stats.mode(_y[neigh_ind, k], axis=1)\n",
      "C:\\Users\\Svetlana\\anaconda3\\lib\\site-packages\\sklearn\\neighbors\\_classification.py:228: FutureWarning: Unlike other reduction functions (e.g. `skew`, `kurtosis`), the default behavior of `mode` typically preserves the axis it acts along. In SciPy 1.11.0, this behavior will change: the default value of `keepdims` will become False, the `axis` over which the statistic is taken will be eliminated, and the value None will no longer be accepted. Set `keepdims` to True or False to avoid this warning.\n",
      "  mode, _ = stats.mode(_y[neigh_ind, k], axis=1)\n"
     ]
    },
    {
     "name": "stdout",
     "output_type": "stream",
     "text": [
      "za parametre k= 5  i m = hamming  tacnost je:  0.8164052697616061  a mat. konf. je:\n",
      "[[19319.  1646.    38.]\n",
      " [ 3282.  6299.   133.]\n",
      " [  275.   479.   409.]]\n"
     ]
    },
    {
     "name": "stderr",
     "output_type": "stream",
     "text": [
      "C:\\Users\\Svetlana\\anaconda3\\lib\\site-packages\\sklearn\\neighbors\\_classification.py:228: FutureWarning: Unlike other reduction functions (e.g. `skew`, `kurtosis`), the default behavior of `mode` typically preserves the axis it acts along. In SciPy 1.11.0, this behavior will change: the default value of `keepdims` will become False, the `axis` over which the statistic is taken will be eliminated, and the value None will no longer be accepted. Set `keepdims` to True or False to avoid this warning.\n",
      "  mode, _ = stats.mode(_y[neigh_ind, k], axis=1)\n",
      "C:\\Users\\Svetlana\\anaconda3\\lib\\site-packages\\sklearn\\neighbors\\_classification.py:228: FutureWarning: Unlike other reduction functions (e.g. `skew`, `kurtosis`), the default behavior of `mode` typically preserves the axis it acts along. In SciPy 1.11.0, this behavior will change: the default value of `keepdims` will become False, the `axis` over which the statistic is taken will be eliminated, and the value None will no longer be accepted. Set `keepdims` to True or False to avoid this warning.\n",
      "  mode, _ = stats.mode(_y[neigh_ind, k], axis=1)\n",
      "C:\\Users\\Svetlana\\anaconda3\\lib\\site-packages\\sklearn\\neighbors\\_classification.py:228: FutureWarning: Unlike other reduction functions (e.g. `skew`, `kurtosis`), the default behavior of `mode` typically preserves the axis it acts along. In SciPy 1.11.0, this behavior will change: the default value of `keepdims` will become False, the `axis` over which the statistic is taken will be eliminated, and the value None will no longer be accepted. Set `keepdims` to True or False to avoid this warning.\n",
      "  mode, _ = stats.mode(_y[neigh_ind, k], axis=1)\n",
      "C:\\Users\\Svetlana\\anaconda3\\lib\\site-packages\\sklearn\\neighbors\\_classification.py:228: FutureWarning: Unlike other reduction functions (e.g. `skew`, `kurtosis`), the default behavior of `mode` typically preserves the axis it acts along. In SciPy 1.11.0, this behavior will change: the default value of `keepdims` will become False, the `axis` over which the statistic is taken will be eliminated, and the value None will no longer be accepted. Set `keepdims` to True or False to avoid this warning.\n",
      "  mode, _ = stats.mode(_y[neigh_ind, k], axis=1)\n",
      "C:\\Users\\Svetlana\\anaconda3\\lib\\site-packages\\sklearn\\neighbors\\_classification.py:228: FutureWarning: Unlike other reduction functions (e.g. `skew`, `kurtosis`), the default behavior of `mode` typically preserves the axis it acts along. In SciPy 1.11.0, this behavior will change: the default value of `keepdims` will become False, the `axis` over which the statistic is taken will be eliminated, and the value None will no longer be accepted. Set `keepdims` to True or False to avoid this warning.\n",
      "  mode, _ = stats.mode(_y[neigh_ind, k], axis=1)\n",
      "C:\\Users\\Svetlana\\anaconda3\\lib\\site-packages\\sklearn\\neighbors\\_classification.py:228: FutureWarning: Unlike other reduction functions (e.g. `skew`, `kurtosis`), the default behavior of `mode` typically preserves the axis it acts along. In SciPy 1.11.0, this behavior will change: the default value of `keepdims` will become False, the `axis` over which the statistic is taken will be eliminated, and the value None will no longer be accepted. Set `keepdims` to True or False to avoid this warning.\n",
      "  mode, _ = stats.mode(_y[neigh_ind, k], axis=1)\n",
      "C:\\Users\\Svetlana\\anaconda3\\lib\\site-packages\\sklearn\\neighbors\\_classification.py:228: FutureWarning: Unlike other reduction functions (e.g. `skew`, `kurtosis`), the default behavior of `mode` typically preserves the axis it acts along. In SciPy 1.11.0, this behavior will change: the default value of `keepdims` will become False, the `axis` over which the statistic is taken will be eliminated, and the value None will no longer be accepted. Set `keepdims` to True or False to avoid this warning.\n",
      "  mode, _ = stats.mode(_y[neigh_ind, k], axis=1)\n",
      "C:\\Users\\Svetlana\\anaconda3\\lib\\site-packages\\sklearn\\neighbors\\_classification.py:228: FutureWarning: Unlike other reduction functions (e.g. `skew`, `kurtosis`), the default behavior of `mode` typically preserves the axis it acts along. In SciPy 1.11.0, this behavior will change: the default value of `keepdims` will become False, the `axis` over which the statistic is taken will be eliminated, and the value None will no longer be accepted. Set `keepdims` to True or False to avoid this warning.\n",
      "  mode, _ = stats.mode(_y[neigh_ind, k], axis=1)\n",
      "C:\\Users\\Svetlana\\anaconda3\\lib\\site-packages\\sklearn\\neighbors\\_classification.py:228: FutureWarning: Unlike other reduction functions (e.g. `skew`, `kurtosis`), the default behavior of `mode` typically preserves the axis it acts along. In SciPy 1.11.0, this behavior will change: the default value of `keepdims` will become False, the `axis` over which the statistic is taken will be eliminated, and the value None will no longer be accepted. Set `keepdims` to True or False to avoid this warning.\n",
      "  mode, _ = stats.mode(_y[neigh_ind, k], axis=1)\n",
      "C:\\Users\\Svetlana\\anaconda3\\lib\\site-packages\\sklearn\\neighbors\\_classification.py:228: FutureWarning: Unlike other reduction functions (e.g. `skew`, `kurtosis`), the default behavior of `mode` typically preserves the axis it acts along. In SciPy 1.11.0, this behavior will change: the default value of `keepdims` will become False, the `axis` over which the statistic is taken will be eliminated, and the value None will no longer be accepted. Set `keepdims` to True or False to avoid this warning.\n",
      "  mode, _ = stats.mode(_y[neigh_ind, k], axis=1)\n"
     ]
    },
    {
     "name": "stdout",
     "output_type": "stream",
     "text": [
      "za parametre k= 6  i m = euclidean  tacnost je:  0.9350062735257214  a mat. konf. je:\n",
      "[[20554.   449.     0.]\n",
      " [ 1382.  8281.    51.]\n",
      " [    0.   190.   973.]]\n"
     ]
    },
    {
     "name": "stderr",
     "output_type": "stream",
     "text": [
      "C:\\Users\\Svetlana\\anaconda3\\lib\\site-packages\\sklearn\\neighbors\\_classification.py:228: FutureWarning: Unlike other reduction functions (e.g. `skew`, `kurtosis`), the default behavior of `mode` typically preserves the axis it acts along. In SciPy 1.11.0, this behavior will change: the default value of `keepdims` will become False, the `axis` over which the statistic is taken will be eliminated, and the value None will no longer be accepted. Set `keepdims` to True or False to avoid this warning.\n",
      "  mode, _ = stats.mode(_y[neigh_ind, k], axis=1)\n",
      "C:\\Users\\Svetlana\\anaconda3\\lib\\site-packages\\sklearn\\neighbors\\_classification.py:228: FutureWarning: Unlike other reduction functions (e.g. `skew`, `kurtosis`), the default behavior of `mode` typically preserves the axis it acts along. In SciPy 1.11.0, this behavior will change: the default value of `keepdims` will become False, the `axis` over which the statistic is taken will be eliminated, and the value None will no longer be accepted. Set `keepdims` to True or False to avoid this warning.\n",
      "  mode, _ = stats.mode(_y[neigh_ind, k], axis=1)\n",
      "C:\\Users\\Svetlana\\anaconda3\\lib\\site-packages\\sklearn\\neighbors\\_classification.py:228: FutureWarning: Unlike other reduction functions (e.g. `skew`, `kurtosis`), the default behavior of `mode` typically preserves the axis it acts along. In SciPy 1.11.0, this behavior will change: the default value of `keepdims` will become False, the `axis` over which the statistic is taken will be eliminated, and the value None will no longer be accepted. Set `keepdims` to True or False to avoid this warning.\n",
      "  mode, _ = stats.mode(_y[neigh_ind, k], axis=1)\n",
      "C:\\Users\\Svetlana\\anaconda3\\lib\\site-packages\\sklearn\\neighbors\\_classification.py:228: FutureWarning: Unlike other reduction functions (e.g. `skew`, `kurtosis`), the default behavior of `mode` typically preserves the axis it acts along. In SciPy 1.11.0, this behavior will change: the default value of `keepdims` will become False, the `axis` over which the statistic is taken will be eliminated, and the value None will no longer be accepted. Set `keepdims` to True or False to avoid this warning.\n",
      "  mode, _ = stats.mode(_y[neigh_ind, k], axis=1)\n",
      "C:\\Users\\Svetlana\\anaconda3\\lib\\site-packages\\sklearn\\neighbors\\_classification.py:228: FutureWarning: Unlike other reduction functions (e.g. `skew`, `kurtosis`), the default behavior of `mode` typically preserves the axis it acts along. In SciPy 1.11.0, this behavior will change: the default value of `keepdims` will become False, the `axis` over which the statistic is taken will be eliminated, and the value None will no longer be accepted. Set `keepdims` to True or False to avoid this warning.\n",
      "  mode, _ = stats.mode(_y[neigh_ind, k], axis=1)\n",
      "C:\\Users\\Svetlana\\anaconda3\\lib\\site-packages\\sklearn\\neighbors\\_classification.py:228: FutureWarning: Unlike other reduction functions (e.g. `skew`, `kurtosis`), the default behavior of `mode` typically preserves the axis it acts along. In SciPy 1.11.0, this behavior will change: the default value of `keepdims` will become False, the `axis` over which the statistic is taken will be eliminated, and the value None will no longer be accepted. Set `keepdims` to True or False to avoid this warning.\n",
      "  mode, _ = stats.mode(_y[neigh_ind, k], axis=1)\n",
      "C:\\Users\\Svetlana\\anaconda3\\lib\\site-packages\\sklearn\\neighbors\\_classification.py:228: FutureWarning: Unlike other reduction functions (e.g. `skew`, `kurtosis`), the default behavior of `mode` typically preserves the axis it acts along. In SciPy 1.11.0, this behavior will change: the default value of `keepdims` will become False, the `axis` over which the statistic is taken will be eliminated, and the value None will no longer be accepted. Set `keepdims` to True or False to avoid this warning.\n",
      "  mode, _ = stats.mode(_y[neigh_ind, k], axis=1)\n",
      "C:\\Users\\Svetlana\\anaconda3\\lib\\site-packages\\sklearn\\neighbors\\_classification.py:228: FutureWarning: Unlike other reduction functions (e.g. `skew`, `kurtosis`), the default behavior of `mode` typically preserves the axis it acts along. In SciPy 1.11.0, this behavior will change: the default value of `keepdims` will become False, the `axis` over which the statistic is taken will be eliminated, and the value None will no longer be accepted. Set `keepdims` to True or False to avoid this warning.\n",
      "  mode, _ = stats.mode(_y[neigh_ind, k], axis=1)\n",
      "C:\\Users\\Svetlana\\anaconda3\\lib\\site-packages\\sklearn\\neighbors\\_classification.py:228: FutureWarning: Unlike other reduction functions (e.g. `skew`, `kurtosis`), the default behavior of `mode` typically preserves the axis it acts along. In SciPy 1.11.0, this behavior will change: the default value of `keepdims` will become False, the `axis` over which the statistic is taken will be eliminated, and the value None will no longer be accepted. Set `keepdims` to True or False to avoid this warning.\n",
      "  mode, _ = stats.mode(_y[neigh_ind, k], axis=1)\n",
      "C:\\Users\\Svetlana\\anaconda3\\lib\\site-packages\\sklearn\\neighbors\\_classification.py:228: FutureWarning: Unlike other reduction functions (e.g. `skew`, `kurtosis`), the default behavior of `mode` typically preserves the axis it acts along. In SciPy 1.11.0, this behavior will change: the default value of `keepdims` will become False, the `axis` over which the statistic is taken will be eliminated, and the value None will no longer be accepted. Set `keepdims` to True or False to avoid this warning.\n",
      "  mode, _ = stats.mode(_y[neigh_ind, k], axis=1)\n"
     ]
    },
    {
     "name": "stdout",
     "output_type": "stream",
     "text": [
      "za parametre k= 6  i m = hamming  tacnost je:  0.8110414052697615  a mat. konf. je:\n",
      "[[19868.  1099.    36.]\n",
      " [ 3980.  5606.   128.]\n",
      " [  288.   493.   382.]]\n"
     ]
    },
    {
     "name": "stderr",
     "output_type": "stream",
     "text": [
      "C:\\Users\\Svetlana\\anaconda3\\lib\\site-packages\\sklearn\\neighbors\\_classification.py:228: FutureWarning: Unlike other reduction functions (e.g. `skew`, `kurtosis`), the default behavior of `mode` typically preserves the axis it acts along. In SciPy 1.11.0, this behavior will change: the default value of `keepdims` will become False, the `axis` over which the statistic is taken will be eliminated, and the value None will no longer be accepted. Set `keepdims` to True or False to avoid this warning.\n",
      "  mode, _ = stats.mode(_y[neigh_ind, k], axis=1)\n",
      "C:\\Users\\Svetlana\\anaconda3\\lib\\site-packages\\sklearn\\neighbors\\_classification.py:228: FutureWarning: Unlike other reduction functions (e.g. `skew`, `kurtosis`), the default behavior of `mode` typically preserves the axis it acts along. In SciPy 1.11.0, this behavior will change: the default value of `keepdims` will become False, the `axis` over which the statistic is taken will be eliminated, and the value None will no longer be accepted. Set `keepdims` to True or False to avoid this warning.\n",
      "  mode, _ = stats.mode(_y[neigh_ind, k], axis=1)\n",
      "C:\\Users\\Svetlana\\anaconda3\\lib\\site-packages\\sklearn\\neighbors\\_classification.py:228: FutureWarning: Unlike other reduction functions (e.g. `skew`, `kurtosis`), the default behavior of `mode` typically preserves the axis it acts along. In SciPy 1.11.0, this behavior will change: the default value of `keepdims` will become False, the `axis` over which the statistic is taken will be eliminated, and the value None will no longer be accepted. Set `keepdims` to True or False to avoid this warning.\n",
      "  mode, _ = stats.mode(_y[neigh_ind, k], axis=1)\n",
      "C:\\Users\\Svetlana\\anaconda3\\lib\\site-packages\\sklearn\\neighbors\\_classification.py:228: FutureWarning: Unlike other reduction functions (e.g. `skew`, `kurtosis`), the default behavior of `mode` typically preserves the axis it acts along. In SciPy 1.11.0, this behavior will change: the default value of `keepdims` will become False, the `axis` over which the statistic is taken will be eliminated, and the value None will no longer be accepted. Set `keepdims` to True or False to avoid this warning.\n",
      "  mode, _ = stats.mode(_y[neigh_ind, k], axis=1)\n",
      "C:\\Users\\Svetlana\\anaconda3\\lib\\site-packages\\sklearn\\neighbors\\_classification.py:228: FutureWarning: Unlike other reduction functions (e.g. `skew`, `kurtosis`), the default behavior of `mode` typically preserves the axis it acts along. In SciPy 1.11.0, this behavior will change: the default value of `keepdims` will become False, the `axis` over which the statistic is taken will be eliminated, and the value None will no longer be accepted. Set `keepdims` to True or False to avoid this warning.\n",
      "  mode, _ = stats.mode(_y[neigh_ind, k], axis=1)\n",
      "C:\\Users\\Svetlana\\anaconda3\\lib\\site-packages\\sklearn\\neighbors\\_classification.py:228: FutureWarning: Unlike other reduction functions (e.g. `skew`, `kurtosis`), the default behavior of `mode` typically preserves the axis it acts along. In SciPy 1.11.0, this behavior will change: the default value of `keepdims` will become False, the `axis` over which the statistic is taken will be eliminated, and the value None will no longer be accepted. Set `keepdims` to True or False to avoid this warning.\n",
      "  mode, _ = stats.mode(_y[neigh_ind, k], axis=1)\n",
      "C:\\Users\\Svetlana\\anaconda3\\lib\\site-packages\\sklearn\\neighbors\\_classification.py:228: FutureWarning: Unlike other reduction functions (e.g. `skew`, `kurtosis`), the default behavior of `mode` typically preserves the axis it acts along. In SciPy 1.11.0, this behavior will change: the default value of `keepdims` will become False, the `axis` over which the statistic is taken will be eliminated, and the value None will no longer be accepted. Set `keepdims` to True or False to avoid this warning.\n",
      "  mode, _ = stats.mode(_y[neigh_ind, k], axis=1)\n",
      "C:\\Users\\Svetlana\\anaconda3\\lib\\site-packages\\sklearn\\neighbors\\_classification.py:228: FutureWarning: Unlike other reduction functions (e.g. `skew`, `kurtosis`), the default behavior of `mode` typically preserves the axis it acts along. In SciPy 1.11.0, this behavior will change: the default value of `keepdims` will become False, the `axis` over which the statistic is taken will be eliminated, and the value None will no longer be accepted. Set `keepdims` to True or False to avoid this warning.\n",
      "  mode, _ = stats.mode(_y[neigh_ind, k], axis=1)\n",
      "C:\\Users\\Svetlana\\anaconda3\\lib\\site-packages\\sklearn\\neighbors\\_classification.py:228: FutureWarning: Unlike other reduction functions (e.g. `skew`, `kurtosis`), the default behavior of `mode` typically preserves the axis it acts along. In SciPy 1.11.0, this behavior will change: the default value of `keepdims` will become False, the `axis` over which the statistic is taken will be eliminated, and the value None will no longer be accepted. Set `keepdims` to True or False to avoid this warning.\n",
      "  mode, _ = stats.mode(_y[neigh_ind, k], axis=1)\n",
      "C:\\Users\\Svetlana\\anaconda3\\lib\\site-packages\\sklearn\\neighbors\\_classification.py:228: FutureWarning: Unlike other reduction functions (e.g. `skew`, `kurtosis`), the default behavior of `mode` typically preserves the axis it acts along. In SciPy 1.11.0, this behavior will change: the default value of `keepdims` will become False, the `axis` over which the statistic is taken will be eliminated, and the value None will no longer be accepted. Set `keepdims` to True or False to avoid this warning.\n",
      "  mode, _ = stats.mode(_y[neigh_ind, k], axis=1)\n"
     ]
    },
    {
     "name": "stdout",
     "output_type": "stream",
     "text": [
      "za parametre k= 7  i m = euclidean  tacnost je:  0.9361982434127979  a mat. konf. je:\n",
      "[[20305.   698.     0.]\n",
      " [ 1100.  8539.    75.]\n",
      " [    0.   161.  1002.]]\n"
     ]
    },
    {
     "name": "stderr",
     "output_type": "stream",
     "text": [
      "C:\\Users\\Svetlana\\anaconda3\\lib\\site-packages\\sklearn\\neighbors\\_classification.py:228: FutureWarning: Unlike other reduction functions (e.g. `skew`, `kurtosis`), the default behavior of `mode` typically preserves the axis it acts along. In SciPy 1.11.0, this behavior will change: the default value of `keepdims` will become False, the `axis` over which the statistic is taken will be eliminated, and the value None will no longer be accepted. Set `keepdims` to True or False to avoid this warning.\n",
      "  mode, _ = stats.mode(_y[neigh_ind, k], axis=1)\n",
      "C:\\Users\\Svetlana\\anaconda3\\lib\\site-packages\\sklearn\\neighbors\\_classification.py:228: FutureWarning: Unlike other reduction functions (e.g. `skew`, `kurtosis`), the default behavior of `mode` typically preserves the axis it acts along. In SciPy 1.11.0, this behavior will change: the default value of `keepdims` will become False, the `axis` over which the statistic is taken will be eliminated, and the value None will no longer be accepted. Set `keepdims` to True or False to avoid this warning.\n",
      "  mode, _ = stats.mode(_y[neigh_ind, k], axis=1)\n",
      "C:\\Users\\Svetlana\\anaconda3\\lib\\site-packages\\sklearn\\neighbors\\_classification.py:228: FutureWarning: Unlike other reduction functions (e.g. `skew`, `kurtosis`), the default behavior of `mode` typically preserves the axis it acts along. In SciPy 1.11.0, this behavior will change: the default value of `keepdims` will become False, the `axis` over which the statistic is taken will be eliminated, and the value None will no longer be accepted. Set `keepdims` to True or False to avoid this warning.\n",
      "  mode, _ = stats.mode(_y[neigh_ind, k], axis=1)\n",
      "C:\\Users\\Svetlana\\anaconda3\\lib\\site-packages\\sklearn\\neighbors\\_classification.py:228: FutureWarning: Unlike other reduction functions (e.g. `skew`, `kurtosis`), the default behavior of `mode` typically preserves the axis it acts along. In SciPy 1.11.0, this behavior will change: the default value of `keepdims` will become False, the `axis` over which the statistic is taken will be eliminated, and the value None will no longer be accepted. Set `keepdims` to True or False to avoid this warning.\n",
      "  mode, _ = stats.mode(_y[neigh_ind, k], axis=1)\n",
      "C:\\Users\\Svetlana\\anaconda3\\lib\\site-packages\\sklearn\\neighbors\\_classification.py:228: FutureWarning: Unlike other reduction functions (e.g. `skew`, `kurtosis`), the default behavior of `mode` typically preserves the axis it acts along. In SciPy 1.11.0, this behavior will change: the default value of `keepdims` will become False, the `axis` over which the statistic is taken will be eliminated, and the value None will no longer be accepted. Set `keepdims` to True or False to avoid this warning.\n",
      "  mode, _ = stats.mode(_y[neigh_ind, k], axis=1)\n",
      "C:\\Users\\Svetlana\\anaconda3\\lib\\site-packages\\sklearn\\neighbors\\_classification.py:228: FutureWarning: Unlike other reduction functions (e.g. `skew`, `kurtosis`), the default behavior of `mode` typically preserves the axis it acts along. In SciPy 1.11.0, this behavior will change: the default value of `keepdims` will become False, the `axis` over which the statistic is taken will be eliminated, and the value None will no longer be accepted. Set `keepdims` to True or False to avoid this warning.\n",
      "  mode, _ = stats.mode(_y[neigh_ind, k], axis=1)\n",
      "C:\\Users\\Svetlana\\anaconda3\\lib\\site-packages\\sklearn\\neighbors\\_classification.py:228: FutureWarning: Unlike other reduction functions (e.g. `skew`, `kurtosis`), the default behavior of `mode` typically preserves the axis it acts along. In SciPy 1.11.0, this behavior will change: the default value of `keepdims` will become False, the `axis` over which the statistic is taken will be eliminated, and the value None will no longer be accepted. Set `keepdims` to True or False to avoid this warning.\n",
      "  mode, _ = stats.mode(_y[neigh_ind, k], axis=1)\n",
      "C:\\Users\\Svetlana\\anaconda3\\lib\\site-packages\\sklearn\\neighbors\\_classification.py:228: FutureWarning: Unlike other reduction functions (e.g. `skew`, `kurtosis`), the default behavior of `mode` typically preserves the axis it acts along. In SciPy 1.11.0, this behavior will change: the default value of `keepdims` will become False, the `axis` over which the statistic is taken will be eliminated, and the value None will no longer be accepted. Set `keepdims` to True or False to avoid this warning.\n",
      "  mode, _ = stats.mode(_y[neigh_ind, k], axis=1)\n",
      "C:\\Users\\Svetlana\\anaconda3\\lib\\site-packages\\sklearn\\neighbors\\_classification.py:228: FutureWarning: Unlike other reduction functions (e.g. `skew`, `kurtosis`), the default behavior of `mode` typically preserves the axis it acts along. In SciPy 1.11.0, this behavior will change: the default value of `keepdims` will become False, the `axis` over which the statistic is taken will be eliminated, and the value None will no longer be accepted. Set `keepdims` to True or False to avoid this warning.\n",
      "  mode, _ = stats.mode(_y[neigh_ind, k], axis=1)\n",
      "C:\\Users\\Svetlana\\anaconda3\\lib\\site-packages\\sklearn\\neighbors\\_classification.py:228: FutureWarning: Unlike other reduction functions (e.g. `skew`, `kurtosis`), the default behavior of `mode` typically preserves the axis it acts along. In SciPy 1.11.0, this behavior will change: the default value of `keepdims` will become False, the `axis` over which the statistic is taken will be eliminated, and the value None will no longer be accepted. Set `keepdims` to True or False to avoid this warning.\n",
      "  mode, _ = stats.mode(_y[neigh_ind, k], axis=1)\n"
     ]
    },
    {
     "name": "stdout",
     "output_type": "stream",
     "text": [
      "za parametre k= 7  i m = hamming  tacnost je:  0.8172835633626099  a mat. konf. je:\n",
      "[[19450.  1517.    36.]\n",
      " [ 3353.  6229.   132.]\n",
      " [  266.   521.   376.]]\n"
     ]
    },
    {
     "name": "stderr",
     "output_type": "stream",
     "text": [
      "C:\\Users\\Svetlana\\anaconda3\\lib\\site-packages\\sklearn\\neighbors\\_classification.py:228: FutureWarning: Unlike other reduction functions (e.g. `skew`, `kurtosis`), the default behavior of `mode` typically preserves the axis it acts along. In SciPy 1.11.0, this behavior will change: the default value of `keepdims` will become False, the `axis` over which the statistic is taken will be eliminated, and the value None will no longer be accepted. Set `keepdims` to True or False to avoid this warning.\n",
      "  mode, _ = stats.mode(_y[neigh_ind, k], axis=1)\n",
      "C:\\Users\\Svetlana\\anaconda3\\lib\\site-packages\\sklearn\\neighbors\\_classification.py:228: FutureWarning: Unlike other reduction functions (e.g. `skew`, `kurtosis`), the default behavior of `mode` typically preserves the axis it acts along. In SciPy 1.11.0, this behavior will change: the default value of `keepdims` will become False, the `axis` over which the statistic is taken will be eliminated, and the value None will no longer be accepted. Set `keepdims` to True or False to avoid this warning.\n",
      "  mode, _ = stats.mode(_y[neigh_ind, k], axis=1)\n",
      "C:\\Users\\Svetlana\\anaconda3\\lib\\site-packages\\sklearn\\neighbors\\_classification.py:228: FutureWarning: Unlike other reduction functions (e.g. `skew`, `kurtosis`), the default behavior of `mode` typically preserves the axis it acts along. In SciPy 1.11.0, this behavior will change: the default value of `keepdims` will become False, the `axis` over which the statistic is taken will be eliminated, and the value None will no longer be accepted. Set `keepdims` to True or False to avoid this warning.\n",
      "  mode, _ = stats.mode(_y[neigh_ind, k], axis=1)\n",
      "C:\\Users\\Svetlana\\anaconda3\\lib\\site-packages\\sklearn\\neighbors\\_classification.py:228: FutureWarning: Unlike other reduction functions (e.g. `skew`, `kurtosis`), the default behavior of `mode` typically preserves the axis it acts along. In SciPy 1.11.0, this behavior will change: the default value of `keepdims` will become False, the `axis` over which the statistic is taken will be eliminated, and the value None will no longer be accepted. Set `keepdims` to True or False to avoid this warning.\n",
      "  mode, _ = stats.mode(_y[neigh_ind, k], axis=1)\n",
      "C:\\Users\\Svetlana\\anaconda3\\lib\\site-packages\\sklearn\\neighbors\\_classification.py:228: FutureWarning: Unlike other reduction functions (e.g. `skew`, `kurtosis`), the default behavior of `mode` typically preserves the axis it acts along. In SciPy 1.11.0, this behavior will change: the default value of `keepdims` will become False, the `axis` over which the statistic is taken will be eliminated, and the value None will no longer be accepted. Set `keepdims` to True or False to avoid this warning.\n",
      "  mode, _ = stats.mode(_y[neigh_ind, k], axis=1)\n",
      "C:\\Users\\Svetlana\\anaconda3\\lib\\site-packages\\sklearn\\neighbors\\_classification.py:228: FutureWarning: Unlike other reduction functions (e.g. `skew`, `kurtosis`), the default behavior of `mode` typically preserves the axis it acts along. In SciPy 1.11.0, this behavior will change: the default value of `keepdims` will become False, the `axis` over which the statistic is taken will be eliminated, and the value None will no longer be accepted. Set `keepdims` to True or False to avoid this warning.\n",
      "  mode, _ = stats.mode(_y[neigh_ind, k], axis=1)\n",
      "C:\\Users\\Svetlana\\anaconda3\\lib\\site-packages\\sklearn\\neighbors\\_classification.py:228: FutureWarning: Unlike other reduction functions (e.g. `skew`, `kurtosis`), the default behavior of `mode` typically preserves the axis it acts along. In SciPy 1.11.0, this behavior will change: the default value of `keepdims` will become False, the `axis` over which the statistic is taken will be eliminated, and the value None will no longer be accepted. Set `keepdims` to True or False to avoid this warning.\n",
      "  mode, _ = stats.mode(_y[neigh_ind, k], axis=1)\n",
      "C:\\Users\\Svetlana\\anaconda3\\lib\\site-packages\\sklearn\\neighbors\\_classification.py:228: FutureWarning: Unlike other reduction functions (e.g. `skew`, `kurtosis`), the default behavior of `mode` typically preserves the axis it acts along. In SciPy 1.11.0, this behavior will change: the default value of `keepdims` will become False, the `axis` over which the statistic is taken will be eliminated, and the value None will no longer be accepted. Set `keepdims` to True or False to avoid this warning.\n",
      "  mode, _ = stats.mode(_y[neigh_ind, k], axis=1)\n",
      "C:\\Users\\Svetlana\\anaconda3\\lib\\site-packages\\sklearn\\neighbors\\_classification.py:228: FutureWarning: Unlike other reduction functions (e.g. `skew`, `kurtosis`), the default behavior of `mode` typically preserves the axis it acts along. In SciPy 1.11.0, this behavior will change: the default value of `keepdims` will become False, the `axis` over which the statistic is taken will be eliminated, and the value None will no longer be accepted. Set `keepdims` to True or False to avoid this warning.\n",
      "  mode, _ = stats.mode(_y[neigh_ind, k], axis=1)\n",
      "C:\\Users\\Svetlana\\anaconda3\\lib\\site-packages\\sklearn\\neighbors\\_classification.py:228: FutureWarning: Unlike other reduction functions (e.g. `skew`, `kurtosis`), the default behavior of `mode` typically preserves the axis it acts along. In SciPy 1.11.0, this behavior will change: the default value of `keepdims` will become False, the `axis` over which the statistic is taken will be eliminated, and the value None will no longer be accepted. Set `keepdims` to True or False to avoid this warning.\n",
      "  mode, _ = stats.mode(_y[neigh_ind, k], axis=1)\n"
     ]
    },
    {
     "name": "stdout",
     "output_type": "stream",
     "text": [
      "za parametre k= 8  i m = euclidean  tacnost je:  0.9316499372647428  a mat. konf. je:\n",
      "[[20491.   512.     0.]\n",
      " [ 1407.  8260.    47.]\n",
      " [    0.   213.   950.]]\n"
     ]
    },
    {
     "name": "stderr",
     "output_type": "stream",
     "text": [
      "C:\\Users\\Svetlana\\anaconda3\\lib\\site-packages\\sklearn\\neighbors\\_classification.py:228: FutureWarning: Unlike other reduction functions (e.g. `skew`, `kurtosis`), the default behavior of `mode` typically preserves the axis it acts along. In SciPy 1.11.0, this behavior will change: the default value of `keepdims` will become False, the `axis` over which the statistic is taken will be eliminated, and the value None will no longer be accepted. Set `keepdims` to True or False to avoid this warning.\n",
      "  mode, _ = stats.mode(_y[neigh_ind, k], axis=1)\n",
      "C:\\Users\\Svetlana\\anaconda3\\lib\\site-packages\\sklearn\\neighbors\\_classification.py:228: FutureWarning: Unlike other reduction functions (e.g. `skew`, `kurtosis`), the default behavior of `mode` typically preserves the axis it acts along. In SciPy 1.11.0, this behavior will change: the default value of `keepdims` will become False, the `axis` over which the statistic is taken will be eliminated, and the value None will no longer be accepted. Set `keepdims` to True or False to avoid this warning.\n",
      "  mode, _ = stats.mode(_y[neigh_ind, k], axis=1)\n",
      "C:\\Users\\Svetlana\\anaconda3\\lib\\site-packages\\sklearn\\neighbors\\_classification.py:228: FutureWarning: Unlike other reduction functions (e.g. `skew`, `kurtosis`), the default behavior of `mode` typically preserves the axis it acts along. In SciPy 1.11.0, this behavior will change: the default value of `keepdims` will become False, the `axis` over which the statistic is taken will be eliminated, and the value None will no longer be accepted. Set `keepdims` to True or False to avoid this warning.\n",
      "  mode, _ = stats.mode(_y[neigh_ind, k], axis=1)\n",
      "C:\\Users\\Svetlana\\anaconda3\\lib\\site-packages\\sklearn\\neighbors\\_classification.py:228: FutureWarning: Unlike other reduction functions (e.g. `skew`, `kurtosis`), the default behavior of `mode` typically preserves the axis it acts along. In SciPy 1.11.0, this behavior will change: the default value of `keepdims` will become False, the `axis` over which the statistic is taken will be eliminated, and the value None will no longer be accepted. Set `keepdims` to True or False to avoid this warning.\n",
      "  mode, _ = stats.mode(_y[neigh_ind, k], axis=1)\n",
      "C:\\Users\\Svetlana\\anaconda3\\lib\\site-packages\\sklearn\\neighbors\\_classification.py:228: FutureWarning: Unlike other reduction functions (e.g. `skew`, `kurtosis`), the default behavior of `mode` typically preserves the axis it acts along. In SciPy 1.11.0, this behavior will change: the default value of `keepdims` will become False, the `axis` over which the statistic is taken will be eliminated, and the value None will no longer be accepted. Set `keepdims` to True or False to avoid this warning.\n",
      "  mode, _ = stats.mode(_y[neigh_ind, k], axis=1)\n",
      "C:\\Users\\Svetlana\\anaconda3\\lib\\site-packages\\sklearn\\neighbors\\_classification.py:228: FutureWarning: Unlike other reduction functions (e.g. `skew`, `kurtosis`), the default behavior of `mode` typically preserves the axis it acts along. In SciPy 1.11.0, this behavior will change: the default value of `keepdims` will become False, the `axis` over which the statistic is taken will be eliminated, and the value None will no longer be accepted. Set `keepdims` to True or False to avoid this warning.\n",
      "  mode, _ = stats.mode(_y[neigh_ind, k], axis=1)\n",
      "C:\\Users\\Svetlana\\anaconda3\\lib\\site-packages\\sklearn\\neighbors\\_classification.py:228: FutureWarning: Unlike other reduction functions (e.g. `skew`, `kurtosis`), the default behavior of `mode` typically preserves the axis it acts along. In SciPy 1.11.0, this behavior will change: the default value of `keepdims` will become False, the `axis` over which the statistic is taken will be eliminated, and the value None will no longer be accepted. Set `keepdims` to True or False to avoid this warning.\n",
      "  mode, _ = stats.mode(_y[neigh_ind, k], axis=1)\n",
      "C:\\Users\\Svetlana\\anaconda3\\lib\\site-packages\\sklearn\\neighbors\\_classification.py:228: FutureWarning: Unlike other reduction functions (e.g. `skew`, `kurtosis`), the default behavior of `mode` typically preserves the axis it acts along. In SciPy 1.11.0, this behavior will change: the default value of `keepdims` will become False, the `axis` over which the statistic is taken will be eliminated, and the value None will no longer be accepted. Set `keepdims` to True or False to avoid this warning.\n",
      "  mode, _ = stats.mode(_y[neigh_ind, k], axis=1)\n",
      "C:\\Users\\Svetlana\\anaconda3\\lib\\site-packages\\sklearn\\neighbors\\_classification.py:228: FutureWarning: Unlike other reduction functions (e.g. `skew`, `kurtosis`), the default behavior of `mode` typically preserves the axis it acts along. In SciPy 1.11.0, this behavior will change: the default value of `keepdims` will become False, the `axis` over which the statistic is taken will be eliminated, and the value None will no longer be accepted. Set `keepdims` to True or False to avoid this warning.\n",
      "  mode, _ = stats.mode(_y[neigh_ind, k], axis=1)\n",
      "C:\\Users\\Svetlana\\anaconda3\\lib\\site-packages\\sklearn\\neighbors\\_classification.py:228: FutureWarning: Unlike other reduction functions (e.g. `skew`, `kurtosis`), the default behavior of `mode` typically preserves the axis it acts along. In SciPy 1.11.0, this behavior will change: the default value of `keepdims` will become False, the `axis` over which the statistic is taken will be eliminated, and the value None will no longer be accepted. Set `keepdims` to True or False to avoid this warning.\n",
      "  mode, _ = stats.mode(_y[neigh_ind, k], axis=1)\n"
     ]
    },
    {
     "name": "stdout",
     "output_type": "stream",
     "text": [
      "za parametre k= 8  i m = hamming  tacnost je:  0.8128920953575911  a mat. konf. je:\n",
      "[[19821.  1155.    27.]\n",
      " [ 3869.  5748.    97.]\n",
      " [  289.   528.   346.]]\n"
     ]
    },
    {
     "name": "stderr",
     "output_type": "stream",
     "text": [
      "C:\\Users\\Svetlana\\anaconda3\\lib\\site-packages\\sklearn\\neighbors\\_classification.py:228: FutureWarning: Unlike other reduction functions (e.g. `skew`, `kurtosis`), the default behavior of `mode` typically preserves the axis it acts along. In SciPy 1.11.0, this behavior will change: the default value of `keepdims` will become False, the `axis` over which the statistic is taken will be eliminated, and the value None will no longer be accepted. Set `keepdims` to True or False to avoid this warning.\n",
      "  mode, _ = stats.mode(_y[neigh_ind, k], axis=1)\n",
      "C:\\Users\\Svetlana\\anaconda3\\lib\\site-packages\\sklearn\\neighbors\\_classification.py:228: FutureWarning: Unlike other reduction functions (e.g. `skew`, `kurtosis`), the default behavior of `mode` typically preserves the axis it acts along. In SciPy 1.11.0, this behavior will change: the default value of `keepdims` will become False, the `axis` over which the statistic is taken will be eliminated, and the value None will no longer be accepted. Set `keepdims` to True or False to avoid this warning.\n",
      "  mode, _ = stats.mode(_y[neigh_ind, k], axis=1)\n",
      "C:\\Users\\Svetlana\\anaconda3\\lib\\site-packages\\sklearn\\neighbors\\_classification.py:228: FutureWarning: Unlike other reduction functions (e.g. `skew`, `kurtosis`), the default behavior of `mode` typically preserves the axis it acts along. In SciPy 1.11.0, this behavior will change: the default value of `keepdims` will become False, the `axis` over which the statistic is taken will be eliminated, and the value None will no longer be accepted. Set `keepdims` to True or False to avoid this warning.\n",
      "  mode, _ = stats.mode(_y[neigh_ind, k], axis=1)\n",
      "C:\\Users\\Svetlana\\anaconda3\\lib\\site-packages\\sklearn\\neighbors\\_classification.py:228: FutureWarning: Unlike other reduction functions (e.g. `skew`, `kurtosis`), the default behavior of `mode` typically preserves the axis it acts along. In SciPy 1.11.0, this behavior will change: the default value of `keepdims` will become False, the `axis` over which the statistic is taken will be eliminated, and the value None will no longer be accepted. Set `keepdims` to True or False to avoid this warning.\n",
      "  mode, _ = stats.mode(_y[neigh_ind, k], axis=1)\n",
      "C:\\Users\\Svetlana\\anaconda3\\lib\\site-packages\\sklearn\\neighbors\\_classification.py:228: FutureWarning: Unlike other reduction functions (e.g. `skew`, `kurtosis`), the default behavior of `mode` typically preserves the axis it acts along. In SciPy 1.11.0, this behavior will change: the default value of `keepdims` will become False, the `axis` over which the statistic is taken will be eliminated, and the value None will no longer be accepted. Set `keepdims` to True or False to avoid this warning.\n",
      "  mode, _ = stats.mode(_y[neigh_ind, k], axis=1)\n",
      "C:\\Users\\Svetlana\\anaconda3\\lib\\site-packages\\sklearn\\neighbors\\_classification.py:228: FutureWarning: Unlike other reduction functions (e.g. `skew`, `kurtosis`), the default behavior of `mode` typically preserves the axis it acts along. In SciPy 1.11.0, this behavior will change: the default value of `keepdims` will become False, the `axis` over which the statistic is taken will be eliminated, and the value None will no longer be accepted. Set `keepdims` to True or False to avoid this warning.\n",
      "  mode, _ = stats.mode(_y[neigh_ind, k], axis=1)\n",
      "C:\\Users\\Svetlana\\anaconda3\\lib\\site-packages\\sklearn\\neighbors\\_classification.py:228: FutureWarning: Unlike other reduction functions (e.g. `skew`, `kurtosis`), the default behavior of `mode` typically preserves the axis it acts along. In SciPy 1.11.0, this behavior will change: the default value of `keepdims` will become False, the `axis` over which the statistic is taken will be eliminated, and the value None will no longer be accepted. Set `keepdims` to True or False to avoid this warning.\n",
      "  mode, _ = stats.mode(_y[neigh_ind, k], axis=1)\n",
      "C:\\Users\\Svetlana\\anaconda3\\lib\\site-packages\\sklearn\\neighbors\\_classification.py:228: FutureWarning: Unlike other reduction functions (e.g. `skew`, `kurtosis`), the default behavior of `mode` typically preserves the axis it acts along. In SciPy 1.11.0, this behavior will change: the default value of `keepdims` will become False, the `axis` over which the statistic is taken will be eliminated, and the value None will no longer be accepted. Set `keepdims` to True or False to avoid this warning.\n",
      "  mode, _ = stats.mode(_y[neigh_ind, k], axis=1)\n",
      "C:\\Users\\Svetlana\\anaconda3\\lib\\site-packages\\sklearn\\neighbors\\_classification.py:228: FutureWarning: Unlike other reduction functions (e.g. `skew`, `kurtosis`), the default behavior of `mode` typically preserves the axis it acts along. In SciPy 1.11.0, this behavior will change: the default value of `keepdims` will become False, the `axis` over which the statistic is taken will be eliminated, and the value None will no longer be accepted. Set `keepdims` to True or False to avoid this warning.\n",
      "  mode, _ = stats.mode(_y[neigh_ind, k], axis=1)\n",
      "C:\\Users\\Svetlana\\anaconda3\\lib\\site-packages\\sklearn\\neighbors\\_classification.py:228: FutureWarning: Unlike other reduction functions (e.g. `skew`, `kurtosis`), the default behavior of `mode` typically preserves the axis it acts along. In SciPy 1.11.0, this behavior will change: the default value of `keepdims` will become False, the `axis` over which the statistic is taken will be eliminated, and the value None will no longer be accepted. Set `keepdims` to True or False to avoid this warning.\n",
      "  mode, _ = stats.mode(_y[neigh_ind, k], axis=1)\n"
     ]
    },
    {
     "name": "stdout",
     "output_type": "stream",
     "text": [
      "za parametre k= 9  i m = euclidean  tacnost je:  0.932340025094103  a mat. konf. je:\n",
      "[[20277.   726.     0.]\n",
      " [ 1178.  8470.    66.]\n",
      " [    0.   187.   976.]]\n"
     ]
    },
    {
     "name": "stderr",
     "output_type": "stream",
     "text": [
      "C:\\Users\\Svetlana\\anaconda3\\lib\\site-packages\\sklearn\\neighbors\\_classification.py:228: FutureWarning: Unlike other reduction functions (e.g. `skew`, `kurtosis`), the default behavior of `mode` typically preserves the axis it acts along. In SciPy 1.11.0, this behavior will change: the default value of `keepdims` will become False, the `axis` over which the statistic is taken will be eliminated, and the value None will no longer be accepted. Set `keepdims` to True or False to avoid this warning.\n",
      "  mode, _ = stats.mode(_y[neigh_ind, k], axis=1)\n",
      "C:\\Users\\Svetlana\\anaconda3\\lib\\site-packages\\sklearn\\neighbors\\_classification.py:228: FutureWarning: Unlike other reduction functions (e.g. `skew`, `kurtosis`), the default behavior of `mode` typically preserves the axis it acts along. In SciPy 1.11.0, this behavior will change: the default value of `keepdims` will become False, the `axis` over which the statistic is taken will be eliminated, and the value None will no longer be accepted. Set `keepdims` to True or False to avoid this warning.\n",
      "  mode, _ = stats.mode(_y[neigh_ind, k], axis=1)\n",
      "C:\\Users\\Svetlana\\anaconda3\\lib\\site-packages\\sklearn\\neighbors\\_classification.py:228: FutureWarning: Unlike other reduction functions (e.g. `skew`, `kurtosis`), the default behavior of `mode` typically preserves the axis it acts along. In SciPy 1.11.0, this behavior will change: the default value of `keepdims` will become False, the `axis` over which the statistic is taken will be eliminated, and the value None will no longer be accepted. Set `keepdims` to True or False to avoid this warning.\n",
      "  mode, _ = stats.mode(_y[neigh_ind, k], axis=1)\n",
      "C:\\Users\\Svetlana\\anaconda3\\lib\\site-packages\\sklearn\\neighbors\\_classification.py:228: FutureWarning: Unlike other reduction functions (e.g. `skew`, `kurtosis`), the default behavior of `mode` typically preserves the axis it acts along. In SciPy 1.11.0, this behavior will change: the default value of `keepdims` will become False, the `axis` over which the statistic is taken will be eliminated, and the value None will no longer be accepted. Set `keepdims` to True or False to avoid this warning.\n",
      "  mode, _ = stats.mode(_y[neigh_ind, k], axis=1)\n",
      "C:\\Users\\Svetlana\\anaconda3\\lib\\site-packages\\sklearn\\neighbors\\_classification.py:228: FutureWarning: Unlike other reduction functions (e.g. `skew`, `kurtosis`), the default behavior of `mode` typically preserves the axis it acts along. In SciPy 1.11.0, this behavior will change: the default value of `keepdims` will become False, the `axis` over which the statistic is taken will be eliminated, and the value None will no longer be accepted. Set `keepdims` to True or False to avoid this warning.\n",
      "  mode, _ = stats.mode(_y[neigh_ind, k], axis=1)\n",
      "C:\\Users\\Svetlana\\anaconda3\\lib\\site-packages\\sklearn\\neighbors\\_classification.py:228: FutureWarning: Unlike other reduction functions (e.g. `skew`, `kurtosis`), the default behavior of `mode` typically preserves the axis it acts along. In SciPy 1.11.0, this behavior will change: the default value of `keepdims` will become False, the `axis` over which the statistic is taken will be eliminated, and the value None will no longer be accepted. Set `keepdims` to True or False to avoid this warning.\n",
      "  mode, _ = stats.mode(_y[neigh_ind, k], axis=1)\n",
      "C:\\Users\\Svetlana\\anaconda3\\lib\\site-packages\\sklearn\\neighbors\\_classification.py:228: FutureWarning: Unlike other reduction functions (e.g. `skew`, `kurtosis`), the default behavior of `mode` typically preserves the axis it acts along. In SciPy 1.11.0, this behavior will change: the default value of `keepdims` will become False, the `axis` over which the statistic is taken will be eliminated, and the value None will no longer be accepted. Set `keepdims` to True or False to avoid this warning.\n",
      "  mode, _ = stats.mode(_y[neigh_ind, k], axis=1)\n",
      "C:\\Users\\Svetlana\\anaconda3\\lib\\site-packages\\sklearn\\neighbors\\_classification.py:228: FutureWarning: Unlike other reduction functions (e.g. `skew`, `kurtosis`), the default behavior of `mode` typically preserves the axis it acts along. In SciPy 1.11.0, this behavior will change: the default value of `keepdims` will become False, the `axis` over which the statistic is taken will be eliminated, and the value None will no longer be accepted. Set `keepdims` to True or False to avoid this warning.\n",
      "  mode, _ = stats.mode(_y[neigh_ind, k], axis=1)\n",
      "C:\\Users\\Svetlana\\anaconda3\\lib\\site-packages\\sklearn\\neighbors\\_classification.py:228: FutureWarning: Unlike other reduction functions (e.g. `skew`, `kurtosis`), the default behavior of `mode` typically preserves the axis it acts along. In SciPy 1.11.0, this behavior will change: the default value of `keepdims` will become False, the `axis` over which the statistic is taken will be eliminated, and the value None will no longer be accepted. Set `keepdims` to True or False to avoid this warning.\n",
      "  mode, _ = stats.mode(_y[neigh_ind, k], axis=1)\n",
      "C:\\Users\\Svetlana\\anaconda3\\lib\\site-packages\\sklearn\\neighbors\\_classification.py:228: FutureWarning: Unlike other reduction functions (e.g. `skew`, `kurtosis`), the default behavior of `mode` typically preserves the axis it acts along. In SciPy 1.11.0, this behavior will change: the default value of `keepdims` will become False, the `axis` over which the statistic is taken will be eliminated, and the value None will no longer be accepted. Set `keepdims` to True or False to avoid this warning.\n",
      "  mode, _ = stats.mode(_y[neigh_ind, k], axis=1)\n"
     ]
    },
    {
     "name": "stdout",
     "output_type": "stream",
     "text": [
      "za parametre k= 9  i m = hamming  tacnost je:  0.8178481806775407  a mat. konf. je:\n",
      "[[19545.  1428.    30.]\n",
      " [ 3443.  6179.    92.]\n",
      " [  284.   530.   349.]]\n"
     ]
    },
    {
     "name": "stderr",
     "output_type": "stream",
     "text": [
      "C:\\Users\\Svetlana\\anaconda3\\lib\\site-packages\\sklearn\\neighbors\\_classification.py:228: FutureWarning: Unlike other reduction functions (e.g. `skew`, `kurtosis`), the default behavior of `mode` typically preserves the axis it acts along. In SciPy 1.11.0, this behavior will change: the default value of `keepdims` will become False, the `axis` over which the statistic is taken will be eliminated, and the value None will no longer be accepted. Set `keepdims` to True or False to avoid this warning.\n",
      "  mode, _ = stats.mode(_y[neigh_ind, k], axis=1)\n",
      "C:\\Users\\Svetlana\\anaconda3\\lib\\site-packages\\sklearn\\neighbors\\_classification.py:228: FutureWarning: Unlike other reduction functions (e.g. `skew`, `kurtosis`), the default behavior of `mode` typically preserves the axis it acts along. In SciPy 1.11.0, this behavior will change: the default value of `keepdims` will become False, the `axis` over which the statistic is taken will be eliminated, and the value None will no longer be accepted. Set `keepdims` to True or False to avoid this warning.\n",
      "  mode, _ = stats.mode(_y[neigh_ind, k], axis=1)\n",
      "C:\\Users\\Svetlana\\anaconda3\\lib\\site-packages\\sklearn\\neighbors\\_classification.py:228: FutureWarning: Unlike other reduction functions (e.g. `skew`, `kurtosis`), the default behavior of `mode` typically preserves the axis it acts along. In SciPy 1.11.0, this behavior will change: the default value of `keepdims` will become False, the `axis` over which the statistic is taken will be eliminated, and the value None will no longer be accepted. Set `keepdims` to True or False to avoid this warning.\n",
      "  mode, _ = stats.mode(_y[neigh_ind, k], axis=1)\n",
      "C:\\Users\\Svetlana\\anaconda3\\lib\\site-packages\\sklearn\\neighbors\\_classification.py:228: FutureWarning: Unlike other reduction functions (e.g. `skew`, `kurtosis`), the default behavior of `mode` typically preserves the axis it acts along. In SciPy 1.11.0, this behavior will change: the default value of `keepdims` will become False, the `axis` over which the statistic is taken will be eliminated, and the value None will no longer be accepted. Set `keepdims` to True or False to avoid this warning.\n",
      "  mode, _ = stats.mode(_y[neigh_ind, k], axis=1)\n",
      "C:\\Users\\Svetlana\\anaconda3\\lib\\site-packages\\sklearn\\neighbors\\_classification.py:228: FutureWarning: Unlike other reduction functions (e.g. `skew`, `kurtosis`), the default behavior of `mode` typically preserves the axis it acts along. In SciPy 1.11.0, this behavior will change: the default value of `keepdims` will become False, the `axis` over which the statistic is taken will be eliminated, and the value None will no longer be accepted. Set `keepdims` to True or False to avoid this warning.\n",
      "  mode, _ = stats.mode(_y[neigh_ind, k], axis=1)\n",
      "C:\\Users\\Svetlana\\anaconda3\\lib\\site-packages\\sklearn\\neighbors\\_classification.py:228: FutureWarning: Unlike other reduction functions (e.g. `skew`, `kurtosis`), the default behavior of `mode` typically preserves the axis it acts along. In SciPy 1.11.0, this behavior will change: the default value of `keepdims` will become False, the `axis` over which the statistic is taken will be eliminated, and the value None will no longer be accepted. Set `keepdims` to True or False to avoid this warning.\n",
      "  mode, _ = stats.mode(_y[neigh_ind, k], axis=1)\n",
      "C:\\Users\\Svetlana\\anaconda3\\lib\\site-packages\\sklearn\\neighbors\\_classification.py:228: FutureWarning: Unlike other reduction functions (e.g. `skew`, `kurtosis`), the default behavior of `mode` typically preserves the axis it acts along. In SciPy 1.11.0, this behavior will change: the default value of `keepdims` will become False, the `axis` over which the statistic is taken will be eliminated, and the value None will no longer be accepted. Set `keepdims` to True or False to avoid this warning.\n",
      "  mode, _ = stats.mode(_y[neigh_ind, k], axis=1)\n",
      "C:\\Users\\Svetlana\\anaconda3\\lib\\site-packages\\sklearn\\neighbors\\_classification.py:228: FutureWarning: Unlike other reduction functions (e.g. `skew`, `kurtosis`), the default behavior of `mode` typically preserves the axis it acts along. In SciPy 1.11.0, this behavior will change: the default value of `keepdims` will become False, the `axis` over which the statistic is taken will be eliminated, and the value None will no longer be accepted. Set `keepdims` to True or False to avoid this warning.\n",
      "  mode, _ = stats.mode(_y[neigh_ind, k], axis=1)\n",
      "C:\\Users\\Svetlana\\anaconda3\\lib\\site-packages\\sklearn\\neighbors\\_classification.py:228: FutureWarning: Unlike other reduction functions (e.g. `skew`, `kurtosis`), the default behavior of `mode` typically preserves the axis it acts along. In SciPy 1.11.0, this behavior will change: the default value of `keepdims` will become False, the `axis` over which the statistic is taken will be eliminated, and the value None will no longer be accepted. Set `keepdims` to True or False to avoid this warning.\n",
      "  mode, _ = stats.mode(_y[neigh_ind, k], axis=1)\n",
      "C:\\Users\\Svetlana\\anaconda3\\lib\\site-packages\\sklearn\\neighbors\\_classification.py:228: FutureWarning: Unlike other reduction functions (e.g. `skew`, `kurtosis`), the default behavior of `mode` typically preserves the axis it acts along. In SciPy 1.11.0, this behavior will change: the default value of `keepdims` will become False, the `axis` over which the statistic is taken will be eliminated, and the value None will no longer be accepted. Set `keepdims` to True or False to avoid this warning.\n",
      "  mode, _ = stats.mode(_y[neigh_ind, k], axis=1)\n"
     ]
    },
    {
     "name": "stdout",
     "output_type": "stream",
     "text": [
      "za parametre k= 10  i m = euclidean  tacnost je:  0.9282308657465496  a mat. konf. je:\n",
      "[[20442.   561.     0.]\n",
      " [ 1450.  8219.    45.]\n",
      " [    0.   232.   931.]]\n"
     ]
    },
    {
     "name": "stderr",
     "output_type": "stream",
     "text": [
      "C:\\Users\\Svetlana\\anaconda3\\lib\\site-packages\\sklearn\\neighbors\\_classification.py:228: FutureWarning: Unlike other reduction functions (e.g. `skew`, `kurtosis`), the default behavior of `mode` typically preserves the axis it acts along. In SciPy 1.11.0, this behavior will change: the default value of `keepdims` will become False, the `axis` over which the statistic is taken will be eliminated, and the value None will no longer be accepted. Set `keepdims` to True or False to avoid this warning.\n",
      "  mode, _ = stats.mode(_y[neigh_ind, k], axis=1)\n",
      "C:\\Users\\Svetlana\\anaconda3\\lib\\site-packages\\sklearn\\neighbors\\_classification.py:228: FutureWarning: Unlike other reduction functions (e.g. `skew`, `kurtosis`), the default behavior of `mode` typically preserves the axis it acts along. In SciPy 1.11.0, this behavior will change: the default value of `keepdims` will become False, the `axis` over which the statistic is taken will be eliminated, and the value None will no longer be accepted. Set `keepdims` to True or False to avoid this warning.\n",
      "  mode, _ = stats.mode(_y[neigh_ind, k], axis=1)\n",
      "C:\\Users\\Svetlana\\anaconda3\\lib\\site-packages\\sklearn\\neighbors\\_classification.py:228: FutureWarning: Unlike other reduction functions (e.g. `skew`, `kurtosis`), the default behavior of `mode` typically preserves the axis it acts along. In SciPy 1.11.0, this behavior will change: the default value of `keepdims` will become False, the `axis` over which the statistic is taken will be eliminated, and the value None will no longer be accepted. Set `keepdims` to True or False to avoid this warning.\n",
      "  mode, _ = stats.mode(_y[neigh_ind, k], axis=1)\n",
      "C:\\Users\\Svetlana\\anaconda3\\lib\\site-packages\\sklearn\\neighbors\\_classification.py:228: FutureWarning: Unlike other reduction functions (e.g. `skew`, `kurtosis`), the default behavior of `mode` typically preserves the axis it acts along. In SciPy 1.11.0, this behavior will change: the default value of `keepdims` will become False, the `axis` over which the statistic is taken will be eliminated, and the value None will no longer be accepted. Set `keepdims` to True or False to avoid this warning.\n",
      "  mode, _ = stats.mode(_y[neigh_ind, k], axis=1)\n",
      "C:\\Users\\Svetlana\\anaconda3\\lib\\site-packages\\sklearn\\neighbors\\_classification.py:228: FutureWarning: Unlike other reduction functions (e.g. `skew`, `kurtosis`), the default behavior of `mode` typically preserves the axis it acts along. In SciPy 1.11.0, this behavior will change: the default value of `keepdims` will become False, the `axis` over which the statistic is taken will be eliminated, and the value None will no longer be accepted. Set `keepdims` to True or False to avoid this warning.\n",
      "  mode, _ = stats.mode(_y[neigh_ind, k], axis=1)\n",
      "C:\\Users\\Svetlana\\anaconda3\\lib\\site-packages\\sklearn\\neighbors\\_classification.py:228: FutureWarning: Unlike other reduction functions (e.g. `skew`, `kurtosis`), the default behavior of `mode` typically preserves the axis it acts along. In SciPy 1.11.0, this behavior will change: the default value of `keepdims` will become False, the `axis` over which the statistic is taken will be eliminated, and the value None will no longer be accepted. Set `keepdims` to True or False to avoid this warning.\n",
      "  mode, _ = stats.mode(_y[neigh_ind, k], axis=1)\n",
      "C:\\Users\\Svetlana\\anaconda3\\lib\\site-packages\\sklearn\\neighbors\\_classification.py:228: FutureWarning: Unlike other reduction functions (e.g. `skew`, `kurtosis`), the default behavior of `mode` typically preserves the axis it acts along. In SciPy 1.11.0, this behavior will change: the default value of `keepdims` will become False, the `axis` over which the statistic is taken will be eliminated, and the value None will no longer be accepted. Set `keepdims` to True or False to avoid this warning.\n",
      "  mode, _ = stats.mode(_y[neigh_ind, k], axis=1)\n",
      "C:\\Users\\Svetlana\\anaconda3\\lib\\site-packages\\sklearn\\neighbors\\_classification.py:228: FutureWarning: Unlike other reduction functions (e.g. `skew`, `kurtosis`), the default behavior of `mode` typically preserves the axis it acts along. In SciPy 1.11.0, this behavior will change: the default value of `keepdims` will become False, the `axis` over which the statistic is taken will be eliminated, and the value None will no longer be accepted. Set `keepdims` to True or False to avoid this warning.\n",
      "  mode, _ = stats.mode(_y[neigh_ind, k], axis=1)\n",
      "C:\\Users\\Svetlana\\anaconda3\\lib\\site-packages\\sklearn\\neighbors\\_classification.py:228: FutureWarning: Unlike other reduction functions (e.g. `skew`, `kurtosis`), the default behavior of `mode` typically preserves the axis it acts along. In SciPy 1.11.0, this behavior will change: the default value of `keepdims` will become False, the `axis` over which the statistic is taken will be eliminated, and the value None will no longer be accepted. Set `keepdims` to True or False to avoid this warning.\n",
      "  mode, _ = stats.mode(_y[neigh_ind, k], axis=1)\n"
     ]
    },
    {
     "name": "stdout",
     "output_type": "stream",
     "text": [
      "za parametre k= 10  i m = hamming  tacnost je:  0.8121079046424089  a mat. konf. je:\n",
      "[[19806.  1174.    23.]\n",
      " [ 3861.  5753.   100.]\n",
      " [  281.   551.   331.]]\n"
     ]
    },
    {
     "name": "stderr",
     "output_type": "stream",
     "text": [
      "C:\\Users\\Svetlana\\anaconda3\\lib\\site-packages\\sklearn\\neighbors\\_classification.py:228: FutureWarning: Unlike other reduction functions (e.g. `skew`, `kurtosis`), the default behavior of `mode` typically preserves the axis it acts along. In SciPy 1.11.0, this behavior will change: the default value of `keepdims` will become False, the `axis` over which the statistic is taken will be eliminated, and the value None will no longer be accepted. Set `keepdims` to True or False to avoid this warning.\n",
      "  mode, _ = stats.mode(_y[neigh_ind, k], axis=1)\n"
     ]
    },
    {
     "data": {
      "text/plain": [
       "Text(0, 0.5, 'Accuracy')"
      ]
     },
     "execution_count": 266,
     "metadata": {},
     "output_type": "execute_result"
    },
    {
     "data": {
      "image/png": "[encoded data removed]",
      "text/plain": [
       "<Figure size 1200x600 with 1 Axes>"
      ]
     },
     "metadata": {},
     "output_type": "display_data"
    },
    {
     "data": {
      "image/png": "[encoded data removed]",
      "text/plain": [
       "<Figure size 1200x600 with 1 Axes>"
      ]
     },
     "metadata": {},
     "output_type": "display_data"
    }
   ],
   "source": [
    "kf = StratifiedKFold(n_splits=10, shuffle=True, random_state=42)\n",
    "#generisanje listi u koje nadovezujem\n",
    "acc = []\n",
    "acc_hamming = []\n",
    "acc_euclidean = []\n",
    "#testiram na k=10 i euklidskoj kao klasicnoj metrici i hamingovoj \n",
    "for k in range(1, 11):\n",
    "    for m in ['euclidean','hamming']:\n",
    "        #indeksi koji se uzimaju unutar podeljenih podskupova\n",
    "        indexes = kf.split(X, y)\n",
    "        acc_tmp = []\n",
    "        fin_conf_mat = np.zeros((len(np.unique(y)),len(np.unique(y))))\n",
    "        #kreiram cross valid\n",
    "        for train_index, test_index in indexes:\n",
    "            classifier = KNeighborsClassifier(n_neighbors=k, metric=m)\n",
    "            classifier.fit(X.iloc[train_index,:], y.iloc[train_index])\n",
    "            y_pred = classifier.predict(X.iloc[test_index,:])\n",
    "            acc_tmp.append(accuracy_score(y.iloc[test_index], y_pred))\n",
    "            fin_conf_mat += confusion_matrix(y.iloc[test_index], y_pred)\n",
    "        print('za parametre k=', k, ' i m =', m, ' tacnost je: ', np.mean(acc_tmp), ' a mat. konf. je:')\n",
    "        print(fin_conf_mat)\n",
    "        acc.append(np.mean(acc_tmp))\n",
    "        if(m == 'hamming'):\n",
    "            acc_hamming.append(np.mean(acc_tmp))\n",
    "        if(m == 'euclidean'):\n",
    "            acc_euclidean.append(np.mean(acc_tmp))\n",
    "\n",
    "            \n",
    "plt.figure(figsize=(12, 6))\n",
    "plt.plot(range(1,11), acc_hamming, color='red', linestyle='dashed', marker='o', markerfacecolor='blue', markersize=10)\n",
    "plt.title('Vrednost greške kod Hamingove metrike')\n",
    "plt.xlabel('K Value')\n",
    "plt.ylabel('Acc')\n",
    "\n",
    "plt.figure(figsize=(12, 6))\n",
    "plt.plot(range(1, 11), acc_euclidean, color='red', linestyle='dashed', marker='o', markerfacecolor='blue', markersize=10)\n",
    "plt.title('Vrednost greške kod Euklidske metrike')\n",
    "plt.xlabel('Vrednost parametra k')\n",
    "plt.ylabel('Accuracy')\n",
    "\n",
    "\n",
    "\n"
   ]
  },
  {
   "cell_type": "code",
   "execution_count": 271,
   "id": "11a8a452",
   "metadata": {},
   "outputs": [
    {
     "name": "stderr",
     "output_type": "stream",
     "text": [
      "C:\\Users\\Svetlana\\anaconda3\\lib\\site-packages\\sklearn\\base.py:450: UserWarning: X does not have valid feature names, but KNeighborsClassifier was fitted with feature names\n",
      "  warnings.warn(\n"
     ]
    },
    {
     "ename": "ValueError",
     "evalue": "Expected 2D array, got 1D array instead:\narray=[1. 2. 1. ... 1. 1. 2.].\nReshape your data either using array.reshape(-1, 1) if your data has a single feature or array.reshape(1, -1) if it contains a single sample.",
     "output_type": "error",
     "traceback": [
      "\u001b[1;31m---------------------------------------------------------------------------\u001b[0m",
      "\u001b[1;31mValueError\u001b[0m                                Traceback (most recent call last)",
      "\u001b[1;32m~\\AppData\\Local\\Temp\\ipykernel_12060\\2010695219.py\u001b[0m in \u001b[0;36m<module>\u001b[1;34m\u001b[0m\n\u001b[0;32m      3\u001b[0m \u001b[0mclassifier\u001b[0m\u001b[1;33m.\u001b[0m\u001b[0mfit\u001b[0m\u001b[1;33m(\u001b[0m\u001b[0mX_train\u001b[0m\u001b[1;33m,\u001b[0m \u001b[0mY_train\u001b[0m\u001b[1;33m)\u001b[0m\u001b[1;33m\u001b[0m\u001b[1;33m\u001b[0m\u001b[0m\n\u001b[0;32m      4\u001b[0m \u001b[1;33m\u001b[0m\u001b[0m\n\u001b[1;32m----> 5\u001b[1;33m \u001b[0my_pred\u001b[0m \u001b[1;33m=\u001b[0m \u001b[0mclassifier\u001b[0m\u001b[1;33m.\u001b[0m\u001b[0mpredict\u001b[0m\u001b[1;33m(\u001b[0m\u001b[0mY_test\u001b[0m\u001b[1;33m)\u001b[0m\u001b[1;33m\u001b[0m\u001b[1;33m\u001b[0m\u001b[0m\n\u001b[0m\u001b[0;32m      6\u001b[0m \u001b[0mconf_mat\u001b[0m \u001b[1;33m=\u001b[0m \u001b[0mconfusion_matrix\u001b[0m\u001b[1;33m(\u001b[0m\u001b[0mY_test\u001b[0m\u001b[1;33m,\u001b[0m \u001b[0mY_pred\u001b[0m\u001b[1;33m)\u001b[0m\u001b[1;33m\u001b[0m\u001b[1;33m\u001b[0m\u001b[0m\n\u001b[0;32m      7\u001b[0m \u001b[0mevaluation_classifier\u001b[0m\u001b[1;33m(\u001b[0m\u001b[0mconf_mat\u001b[0m\u001b[1;33m)\u001b[0m\u001b[1;33m\u001b[0m\u001b[1;33m\u001b[0m\u001b[0m\n",
      "\u001b[1;32m~\\anaconda3\\lib\\site-packages\\sklearn\\neighbors\\_classification.py\u001b[0m in \u001b[0;36mpredict\u001b[1;34m(self, X)\u001b[0m\n\u001b[0;32m    212\u001b[0m             \u001b[0mClass\u001b[0m \u001b[0mlabels\u001b[0m \u001b[1;32mfor\u001b[0m \u001b[0meach\u001b[0m \u001b[0mdata\u001b[0m \u001b[0msample\u001b[0m\u001b[1;33m.\u001b[0m\u001b[1;33m\u001b[0m\u001b[1;33m\u001b[0m\u001b[0m\n\u001b[0;32m    213\u001b[0m         \"\"\"\n\u001b[1;32m--> 214\u001b[1;33m         \u001b[0mneigh_dist\u001b[0m\u001b[1;33m,\u001b[0m \u001b[0mneigh_ind\u001b[0m \u001b[1;33m=\u001b[0m \u001b[0mself\u001b[0m\u001b[1;33m.\u001b[0m\u001b[0mkneighbors\u001b[0m\u001b[1;33m(\u001b[0m\u001b[0mX\u001b[0m\u001b[1;33m)\u001b[0m\u001b[1;33m\u001b[0m\u001b[1;33m\u001b[0m\u001b[0m\n\u001b[0m\u001b[0;32m    215\u001b[0m         \u001b[0mclasses_\u001b[0m \u001b[1;33m=\u001b[0m \u001b[0mself\u001b[0m\u001b[1;33m.\u001b[0m\u001b[0mclasses_\u001b[0m\u001b[1;33m\u001b[0m\u001b[1;33m\u001b[0m\u001b[0m\n\u001b[0;32m    216\u001b[0m         \u001b[0m_y\u001b[0m \u001b[1;33m=\u001b[0m \u001b[0mself\u001b[0m\u001b[1;33m.\u001b[0m\u001b[0m_y\u001b[0m\u001b[1;33m\u001b[0m\u001b[1;33m\u001b[0m\u001b[0m\n",
      "\u001b[1;32m~\\anaconda3\\lib\\site-packages\\sklearn\\neighbors\\_base.py\u001b[0m in \u001b[0;36mkneighbors\u001b[1;34m(self, X, n_neighbors, return_distance)\u001b[0m\n\u001b[0;32m    715\u001b[0m                 \u001b[0mX\u001b[0m \u001b[1;33m=\u001b[0m \u001b[0m_check_precomputed\u001b[0m\u001b[1;33m(\u001b[0m\u001b[0mX\u001b[0m\u001b[1;33m)\u001b[0m\u001b[1;33m\u001b[0m\u001b[1;33m\u001b[0m\u001b[0m\n\u001b[0;32m    716\u001b[0m             \u001b[1;32melse\u001b[0m\u001b[1;33m:\u001b[0m\u001b[1;33m\u001b[0m\u001b[1;33m\u001b[0m\u001b[0m\n\u001b[1;32m--> 717\u001b[1;33m                 \u001b[0mX\u001b[0m \u001b[1;33m=\u001b[0m \u001b[0mself\u001b[0m\u001b[1;33m.\u001b[0m\u001b[0m_validate_data\u001b[0m\u001b[1;33m(\u001b[0m\u001b[0mX\u001b[0m\u001b[1;33m,\u001b[0m \u001b[0maccept_sparse\u001b[0m\u001b[1;33m=\u001b[0m\u001b[1;34m\"csr\"\u001b[0m\u001b[1;33m,\u001b[0m \u001b[0mreset\u001b[0m\u001b[1;33m=\u001b[0m\u001b[1;32mFalse\u001b[0m\u001b[1;33m)\u001b[0m\u001b[1;33m\u001b[0m\u001b[1;33m\u001b[0m\u001b[0m\n\u001b[0m\u001b[0;32m    718\u001b[0m         \u001b[1;32melse\u001b[0m\u001b[1;33m:\u001b[0m\u001b[1;33m\u001b[0m\u001b[1;33m\u001b[0m\u001b[0m\n\u001b[0;32m    719\u001b[0m             \u001b[0mquery_is_train\u001b[0m \u001b[1;33m=\u001b[0m \u001b[1;32mTrue\u001b[0m\u001b[1;33m\u001b[0m\u001b[1;33m\u001b[0m\u001b[0m\n",
      "\u001b[1;32m~\\anaconda3\\lib\\site-packages\\sklearn\\base.py\u001b[0m in \u001b[0;36m_validate_data\u001b[1;34m(self, X, y, reset, validate_separately, **check_params)\u001b[0m\n\u001b[0;32m    564\u001b[0m             \u001b[1;32mraise\u001b[0m \u001b[0mValueError\u001b[0m\u001b[1;33m(\u001b[0m\u001b[1;34m\"Validation should be done on X, y or both.\"\u001b[0m\u001b[1;33m)\u001b[0m\u001b[1;33m\u001b[0m\u001b[1;33m\u001b[0m\u001b[0m\n\u001b[0;32m    565\u001b[0m         \u001b[1;32melif\u001b[0m \u001b[1;32mnot\u001b[0m \u001b[0mno_val_X\u001b[0m \u001b[1;32mand\u001b[0m \u001b[0mno_val_y\u001b[0m\u001b[1;33m:\u001b[0m\u001b[1;33m\u001b[0m\u001b[1;33m\u001b[0m\u001b[0m\n\u001b[1;32m--> 566\u001b[1;33m             \u001b[0mX\u001b[0m \u001b[1;33m=\u001b[0m \u001b[0mcheck_array\u001b[0m\u001b[1;33m(\u001b[0m\u001b[0mX\u001b[0m\u001b[1;33m,\u001b[0m \u001b[1;33m**\u001b[0m\u001b[0mcheck_params\u001b[0m\u001b[1;33m)\u001b[0m\u001b[1;33m\u001b[0m\u001b[1;33m\u001b[0m\u001b[0m\n\u001b[0m\u001b[0;32m    567\u001b[0m             \u001b[0mout\u001b[0m \u001b[1;33m=\u001b[0m \u001b[0mX\u001b[0m\u001b[1;33m\u001b[0m\u001b[1;33m\u001b[0m\u001b[0m\n\u001b[0;32m    568\u001b[0m         \u001b[1;32melif\u001b[0m \u001b[0mno_val_X\u001b[0m \u001b[1;32mand\u001b[0m \u001b[1;32mnot\u001b[0m \u001b[0mno_val_y\u001b[0m\u001b[1;33m:\u001b[0m\u001b[1;33m\u001b[0m\u001b[1;33m\u001b[0m\u001b[0m\n",
      "\u001b[1;32m~\\anaconda3\\lib\\site-packages\\sklearn\\utils\\validation.py\u001b[0m in \u001b[0;36mcheck_array\u001b[1;34m(array, accept_sparse, accept_large_sparse, dtype, order, copy, force_all_finite, ensure_2d, allow_nd, ensure_min_samples, ensure_min_features, estimator)\u001b[0m\n\u001b[0;32m    767\u001b[0m             \u001b[1;31m# If input is 1D raise error\u001b[0m\u001b[1;33m\u001b[0m\u001b[1;33m\u001b[0m\u001b[0m\n\u001b[0;32m    768\u001b[0m             \u001b[1;32mif\u001b[0m \u001b[0marray\u001b[0m\u001b[1;33m.\u001b[0m\u001b[0mndim\u001b[0m \u001b[1;33m==\u001b[0m \u001b[1;36m1\u001b[0m\u001b[1;33m:\u001b[0m\u001b[1;33m\u001b[0m\u001b[1;33m\u001b[0m\u001b[0m\n\u001b[1;32m--> 769\u001b[1;33m                 raise ValueError(\n\u001b[0m\u001b[0;32m    770\u001b[0m                     \u001b[1;34m\"Expected 2D array, got 1D array instead:\\narray={}.\\n\"\u001b[0m\u001b[1;33m\u001b[0m\u001b[1;33m\u001b[0m\u001b[0m\n\u001b[0;32m    771\u001b[0m                     \u001b[1;34m\"Reshape your data either using array.reshape(-1, 1) if \"\u001b[0m\u001b[1;33m\u001b[0m\u001b[1;33m\u001b[0m\u001b[0m\n",
      "\u001b[1;31mValueError\u001b[0m: Expected 2D array, got 1D array instead:\narray=[1. 2. 1. ... 1. 1. 2.].\nReshape your data either using array.reshape(-1, 1) if your data has a single feature or array.reshape(1, -1) if it contains a single sample."
     ]
    }
   ],
   "source": [
    "classifier = KNeighborsClassifier(n_neighbors=5, metric='euclidean')\n",
    "\n",
    "classifier.fit(X_train, Y_train)\n",
    "\n",
    "y_pred = classifier.predict(Y_test)\n",
    "conf_mat = confusion_matrix(Y_test, Y_pred)\n",
    "evaluation_classifier(conf_mat)\n",
    "\n",
    "#ovo videh kod nekog indijca, ni to ne radi\n",
    "\n",
    "print('procenat pogodjenih uzoraka: ', accuracy_score(Y_test, y_pred))\n",
    "print('preciznost mikro: ', precision_score(Y_test, y_pred, average='micro'))\n",
    "print('preciznost makro: ', precision_score(Y_test, y_pred, average='macro'))\n",
    "print('osetljivost mikro: ', recall_score(Y_test, y_pred, average='micro'))\n",
    "print('osetljivost makro: ', recall_score(Y_test, y_pred, average='macro'))\n",
    "print('f mera mikro: ', f1_score(Y_test, y_pred, average='micro'))\n",
    "print('f mera makro: ', f1_score(Y_test, y_pred, average='macro'))\n"
   ]
  },
  {
   "cell_type": "code",
   "execution_count": null,
   "id": "f070eee6",
   "metadata": {},
   "outputs": [],
   "source": []
  },
  {
   "cell_type": "code",
   "execution_count": null,
   "id": "d1ce74e3",
   "metadata": {},
   "outputs": [],
   "source": []
  },
  {
   "cell_type": "code",
   "execution_count": null,
   "id": "8ec1732e",
   "metadata": {},
   "outputs": [],
   "source": []
  },
  {
   "cell_type": "code",
   "execution_count": null,
   "id": "89f065bc",
   "metadata": {},
   "outputs": [],
   "source": []
  },
  {
   "cell_type": "code",
   "execution_count": null,
   "id": "43c335cd",
   "metadata": {},
   "outputs": [],
   "source": []
  }
 ],
 "metadata": {
  "kernelspec": {
   "display_name": "Python 3 (ipykernel)",
   "language": "python",
   "name": "python3"
  },
  "language_info": {
   "codemirror_mode": {
    "name": "ipython",
    "version": 3
   },
   "file_extension": ".py",
   "mimetype": "text/x-python",
   "name": "python",
   "nbconvert_exporter": "python",
   "pygments_lexer": "ipython3",
   "version": "3.9.13"
  }
 },
 "nbformat": 4,
 "nbformat_minor": 5
}
